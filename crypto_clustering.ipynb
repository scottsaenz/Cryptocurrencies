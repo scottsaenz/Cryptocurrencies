{
 "cells": [
  {
   "cell_type": "markdown",
   "metadata": {},
   "source": [
    "# Clustering Crypto"
   ]
  },
  {
   "cell_type": "code",
   "execution_count": 56,
   "metadata": {},
   "outputs": [],
   "source": [
    "# Initial imports\n",
    "import pandas as pd\n",
    "import hvplot.pandas\n",
    "from path import Path\n",
    "import plotly.express as px\n",
    "from sklearn.preprocessing import StandardScaler, MinMaxScaler\n",
    "from sklearn.decomposition import PCA\n",
    "from sklearn.cluster import KMeans\n"
   ]
  },
  {
   "cell_type": "markdown",
   "metadata": {},
   "source": [
    "### Deliverable 1: Preprocessing the Data for PCA"
   ]
  },
  {
   "cell_type": "code",
   "execution_count": 57,
   "metadata": {},
   "outputs": [
    {
     "data": {
      "text/html": [
       "<div>\n",
       "<style scoped>\n",
       "    .dataframe tbody tr th:only-of-type {\n",
       "        vertical-align: middle;\n",
       "    }\n",
       "\n",
       "    .dataframe tbody tr th {\n",
       "        vertical-align: top;\n",
       "    }\n",
       "\n",
       "    .dataframe thead th {\n",
       "        text-align: right;\n",
       "    }\n",
       "</style>\n",
       "<table border=\"1\" class=\"dataframe\">\n",
       "  <thead>\n",
       "    <tr style=\"text-align: right;\">\n",
       "      <th></th>\n",
       "      <th>CoinName</th>\n",
       "      <th>Algorithm</th>\n",
       "      <th>IsTrading</th>\n",
       "      <th>ProofType</th>\n",
       "      <th>TotalCoinsMined</th>\n",
       "      <th>TotalCoinSupply</th>\n",
       "    </tr>\n",
       "  </thead>\n",
       "  <tbody>\n",
       "    <tr>\n",
       "      <th>42</th>\n",
       "      <td>42 Coin</td>\n",
       "      <td>Scrypt</td>\n",
       "      <td>True</td>\n",
       "      <td>PoW/PoS</td>\n",
       "      <td>4.199995e+01</td>\n",
       "      <td>42</td>\n",
       "    </tr>\n",
       "    <tr>\n",
       "      <th>365</th>\n",
       "      <td>365Coin</td>\n",
       "      <td>X11</td>\n",
       "      <td>True</td>\n",
       "      <td>PoW/PoS</td>\n",
       "      <td>NaN</td>\n",
       "      <td>2300000000</td>\n",
       "    </tr>\n",
       "    <tr>\n",
       "      <th>404</th>\n",
       "      <td>404Coin</td>\n",
       "      <td>Scrypt</td>\n",
       "      <td>True</td>\n",
       "      <td>PoW/PoS</td>\n",
       "      <td>1.055185e+09</td>\n",
       "      <td>532000000</td>\n",
       "    </tr>\n",
       "    <tr>\n",
       "      <th>611</th>\n",
       "      <td>SixEleven</td>\n",
       "      <td>SHA-256</td>\n",
       "      <td>True</td>\n",
       "      <td>PoW</td>\n",
       "      <td>NaN</td>\n",
       "      <td>611000</td>\n",
       "    </tr>\n",
       "    <tr>\n",
       "      <th>808</th>\n",
       "      <td>808</td>\n",
       "      <td>SHA-256</td>\n",
       "      <td>True</td>\n",
       "      <td>PoW/PoS</td>\n",
       "      <td>0.000000e+00</td>\n",
       "      <td>0</td>\n",
       "    </tr>\n",
       "    <tr>\n",
       "      <th>1337</th>\n",
       "      <td>EliteCoin</td>\n",
       "      <td>X13</td>\n",
       "      <td>True</td>\n",
       "      <td>PoW/PoS</td>\n",
       "      <td>2.927942e+10</td>\n",
       "      <td>314159265359</td>\n",
       "    </tr>\n",
       "    <tr>\n",
       "      <th>2015</th>\n",
       "      <td>2015 coin</td>\n",
       "      <td>X11</td>\n",
       "      <td>True</td>\n",
       "      <td>PoW/PoS</td>\n",
       "      <td>NaN</td>\n",
       "      <td>0</td>\n",
       "    </tr>\n",
       "    <tr>\n",
       "      <th>BTC</th>\n",
       "      <td>Bitcoin</td>\n",
       "      <td>SHA-256</td>\n",
       "      <td>True</td>\n",
       "      <td>PoW</td>\n",
       "      <td>1.792718e+07</td>\n",
       "      <td>21000000</td>\n",
       "    </tr>\n",
       "    <tr>\n",
       "      <th>ETH</th>\n",
       "      <td>Ethereum</td>\n",
       "      <td>Ethash</td>\n",
       "      <td>True</td>\n",
       "      <td>PoW</td>\n",
       "      <td>1.076842e+08</td>\n",
       "      <td>0</td>\n",
       "    </tr>\n",
       "    <tr>\n",
       "      <th>LTC</th>\n",
       "      <td>Litecoin</td>\n",
       "      <td>Scrypt</td>\n",
       "      <td>True</td>\n",
       "      <td>PoW</td>\n",
       "      <td>6.303924e+07</td>\n",
       "      <td>84000000</td>\n",
       "    </tr>\n",
       "  </tbody>\n",
       "</table>\n",
       "</div>"
      ],
      "text/plain": [
       "       CoinName Algorithm  IsTrading ProofType  TotalCoinsMined  \\\n",
       "42      42 Coin    Scrypt       True   PoW/PoS     4.199995e+01   \n",
       "365     365Coin       X11       True   PoW/PoS              NaN   \n",
       "404     404Coin    Scrypt       True   PoW/PoS     1.055185e+09   \n",
       "611   SixEleven   SHA-256       True       PoW              NaN   \n",
       "808         808   SHA-256       True   PoW/PoS     0.000000e+00   \n",
       "1337  EliteCoin       X13       True   PoW/PoS     2.927942e+10   \n",
       "2015  2015 coin       X11       True   PoW/PoS              NaN   \n",
       "BTC     Bitcoin   SHA-256       True       PoW     1.792718e+07   \n",
       "ETH    Ethereum    Ethash       True       PoW     1.076842e+08   \n",
       "LTC    Litecoin    Scrypt       True       PoW     6.303924e+07   \n",
       "\n",
       "     TotalCoinSupply  \n",
       "42                42  \n",
       "365       2300000000  \n",
       "404        532000000  \n",
       "611           611000  \n",
       "808                0  \n",
       "1337    314159265359  \n",
       "2015               0  \n",
       "BTC         21000000  \n",
       "ETH                0  \n",
       "LTC         84000000  "
      ]
     },
     "execution_count": 57,
     "metadata": {},
     "output_type": "execute_result"
    }
   ],
   "source": [
    "# Load the crypto_data.csv dataset.\n",
    "file_path = 'Resources/crypto_data.csv'\n",
    "df = pd.read_csv(file_path, index_col=0)\n",
    "df.head(10)"
   ]
  },
  {
   "cell_type": "code",
   "execution_count": 58,
   "metadata": {},
   "outputs": [
    {
     "data": {
      "text/html": [
       "<div>\n",
       "<style scoped>\n",
       "    .dataframe tbody tr th:only-of-type {\n",
       "        vertical-align: middle;\n",
       "    }\n",
       "\n",
       "    .dataframe tbody tr th {\n",
       "        vertical-align: top;\n",
       "    }\n",
       "\n",
       "    .dataframe thead th {\n",
       "        text-align: right;\n",
       "    }\n",
       "</style>\n",
       "<table border=\"1\" class=\"dataframe\">\n",
       "  <thead>\n",
       "    <tr style=\"text-align: right;\">\n",
       "      <th></th>\n",
       "      <th>CoinName</th>\n",
       "      <th>Algorithm</th>\n",
       "      <th>IsTrading</th>\n",
       "      <th>ProofType</th>\n",
       "      <th>TotalCoinsMined</th>\n",
       "      <th>TotalCoinSupply</th>\n",
       "    </tr>\n",
       "  </thead>\n",
       "  <tbody>\n",
       "    <tr>\n",
       "      <th>42</th>\n",
       "      <td>42 Coin</td>\n",
       "      <td>Scrypt</td>\n",
       "      <td>True</td>\n",
       "      <td>PoW/PoS</td>\n",
       "      <td>4.199995e+01</td>\n",
       "      <td>42</td>\n",
       "    </tr>\n",
       "    <tr>\n",
       "      <th>365</th>\n",
       "      <td>365Coin</td>\n",
       "      <td>X11</td>\n",
       "      <td>True</td>\n",
       "      <td>PoW/PoS</td>\n",
       "      <td>NaN</td>\n",
       "      <td>2300000000</td>\n",
       "    </tr>\n",
       "    <tr>\n",
       "      <th>404</th>\n",
       "      <td>404Coin</td>\n",
       "      <td>Scrypt</td>\n",
       "      <td>True</td>\n",
       "      <td>PoW/PoS</td>\n",
       "      <td>1.055185e+09</td>\n",
       "      <td>532000000</td>\n",
       "    </tr>\n",
       "    <tr>\n",
       "      <th>611</th>\n",
       "      <td>SixEleven</td>\n",
       "      <td>SHA-256</td>\n",
       "      <td>True</td>\n",
       "      <td>PoW</td>\n",
       "      <td>NaN</td>\n",
       "      <td>611000</td>\n",
       "    </tr>\n",
       "    <tr>\n",
       "      <th>808</th>\n",
       "      <td>808</td>\n",
       "      <td>SHA-256</td>\n",
       "      <td>True</td>\n",
       "      <td>PoW/PoS</td>\n",
       "      <td>0.000000e+00</td>\n",
       "      <td>0</td>\n",
       "    </tr>\n",
       "    <tr>\n",
       "      <th>...</th>\n",
       "      <td>...</td>\n",
       "      <td>...</td>\n",
       "      <td>...</td>\n",
       "      <td>...</td>\n",
       "      <td>...</td>\n",
       "      <td>...</td>\n",
       "    </tr>\n",
       "    <tr>\n",
       "      <th>SERO</th>\n",
       "      <td>Super Zero</td>\n",
       "      <td>Ethash</td>\n",
       "      <td>True</td>\n",
       "      <td>PoW</td>\n",
       "      <td>NaN</td>\n",
       "      <td>1000000000</td>\n",
       "    </tr>\n",
       "    <tr>\n",
       "      <th>UOS</th>\n",
       "      <td>UOS</td>\n",
       "      <td>SHA-256</td>\n",
       "      <td>True</td>\n",
       "      <td>DPoI</td>\n",
       "      <td>NaN</td>\n",
       "      <td>1000000000</td>\n",
       "    </tr>\n",
       "    <tr>\n",
       "      <th>BDX</th>\n",
       "      <td>Beldex</td>\n",
       "      <td>CryptoNight</td>\n",
       "      <td>True</td>\n",
       "      <td>PoW</td>\n",
       "      <td>9.802226e+08</td>\n",
       "      <td>1400222610</td>\n",
       "    </tr>\n",
       "    <tr>\n",
       "      <th>ZEN</th>\n",
       "      <td>Horizen</td>\n",
       "      <td>Equihash</td>\n",
       "      <td>True</td>\n",
       "      <td>PoW</td>\n",
       "      <td>7.296538e+06</td>\n",
       "      <td>21000000</td>\n",
       "    </tr>\n",
       "    <tr>\n",
       "      <th>XBC</th>\n",
       "      <td>BitcoinPlus</td>\n",
       "      <td>Scrypt</td>\n",
       "      <td>True</td>\n",
       "      <td>PoS</td>\n",
       "      <td>1.283270e+05</td>\n",
       "      <td>1000000</td>\n",
       "    </tr>\n",
       "  </tbody>\n",
       "</table>\n",
       "<p>1144 rows × 6 columns</p>\n",
       "</div>"
      ],
      "text/plain": [
       "         CoinName    Algorithm  IsTrading ProofType  TotalCoinsMined  \\\n",
       "42        42 Coin       Scrypt       True   PoW/PoS     4.199995e+01   \n",
       "365       365Coin          X11       True   PoW/PoS              NaN   \n",
       "404       404Coin       Scrypt       True   PoW/PoS     1.055185e+09   \n",
       "611     SixEleven      SHA-256       True       PoW              NaN   \n",
       "808           808      SHA-256       True   PoW/PoS     0.000000e+00   \n",
       "...           ...          ...        ...       ...              ...   \n",
       "SERO   Super Zero       Ethash       True       PoW              NaN   \n",
       "UOS           UOS      SHA-256       True      DPoI              NaN   \n",
       "BDX        Beldex  CryptoNight       True       PoW     9.802226e+08   \n",
       "ZEN       Horizen     Equihash       True       PoW     7.296538e+06   \n",
       "XBC   BitcoinPlus       Scrypt       True       PoS     1.283270e+05   \n",
       "\n",
       "     TotalCoinSupply  \n",
       "42                42  \n",
       "365       2300000000  \n",
       "404        532000000  \n",
       "611           611000  \n",
       "808                0  \n",
       "...              ...  \n",
       "SERO      1000000000  \n",
       "UOS       1000000000  \n",
       "BDX       1400222610  \n",
       "ZEN         21000000  \n",
       "XBC          1000000  \n",
       "\n",
       "[1144 rows x 6 columns]"
      ]
     },
     "execution_count": 58,
     "metadata": {},
     "output_type": "execute_result"
    }
   ],
   "source": [
    "# Keep all the cryptocurrencies that are being traded.\n",
    "df_traded = df[df['IsTrading']==True]\n",
    "df_traded"
   ]
  },
  {
   "cell_type": "code",
   "execution_count": 59,
   "metadata": {},
   "outputs": [
    {
     "data": {
      "text/html": [
       "<div>\n",
       "<style scoped>\n",
       "    .dataframe tbody tr th:only-of-type {\n",
       "        vertical-align: middle;\n",
       "    }\n",
       "\n",
       "    .dataframe tbody tr th {\n",
       "        vertical-align: top;\n",
       "    }\n",
       "\n",
       "    .dataframe thead th {\n",
       "        text-align: right;\n",
       "    }\n",
       "</style>\n",
       "<table border=\"1\" class=\"dataframe\">\n",
       "  <thead>\n",
       "    <tr style=\"text-align: right;\">\n",
       "      <th></th>\n",
       "      <th>CoinName</th>\n",
       "      <th>Algorithm</th>\n",
       "      <th>IsTrading</th>\n",
       "      <th>ProofType</th>\n",
       "      <th>TotalCoinsMined</th>\n",
       "      <th>TotalCoinSupply</th>\n",
       "    </tr>\n",
       "  </thead>\n",
       "  <tbody>\n",
       "    <tr>\n",
       "      <th>42</th>\n",
       "      <td>42 Coin</td>\n",
       "      <td>Scrypt</td>\n",
       "      <td>True</td>\n",
       "      <td>PoW/PoS</td>\n",
       "      <td>4.199995e+01</td>\n",
       "      <td>42</td>\n",
       "    </tr>\n",
       "    <tr>\n",
       "      <th>404</th>\n",
       "      <td>404Coin</td>\n",
       "      <td>Scrypt</td>\n",
       "      <td>True</td>\n",
       "      <td>PoW/PoS</td>\n",
       "      <td>1.055185e+09</td>\n",
       "      <td>532000000</td>\n",
       "    </tr>\n",
       "    <tr>\n",
       "      <th>1337</th>\n",
       "      <td>EliteCoin</td>\n",
       "      <td>X13</td>\n",
       "      <td>True</td>\n",
       "      <td>PoW/PoS</td>\n",
       "      <td>2.927942e+10</td>\n",
       "      <td>314159265359</td>\n",
       "    </tr>\n",
       "    <tr>\n",
       "      <th>BTC</th>\n",
       "      <td>Bitcoin</td>\n",
       "      <td>SHA-256</td>\n",
       "      <td>True</td>\n",
       "      <td>PoW</td>\n",
       "      <td>1.792718e+07</td>\n",
       "      <td>21000000</td>\n",
       "    </tr>\n",
       "    <tr>\n",
       "      <th>ETH</th>\n",
       "      <td>Ethereum</td>\n",
       "      <td>Ethash</td>\n",
       "      <td>True</td>\n",
       "      <td>PoW</td>\n",
       "      <td>1.076842e+08</td>\n",
       "      <td>0</td>\n",
       "    </tr>\n",
       "    <tr>\n",
       "      <th>...</th>\n",
       "      <td>...</td>\n",
       "      <td>...</td>\n",
       "      <td>...</td>\n",
       "      <td>...</td>\n",
       "      <td>...</td>\n",
       "      <td>...</td>\n",
       "    </tr>\n",
       "    <tr>\n",
       "      <th>ZEPH</th>\n",
       "      <td>ZEPHYR</td>\n",
       "      <td>SHA-256</td>\n",
       "      <td>True</td>\n",
       "      <td>DPoS</td>\n",
       "      <td>2.000000e+09</td>\n",
       "      <td>2000000000</td>\n",
       "    </tr>\n",
       "    <tr>\n",
       "      <th>GAP</th>\n",
       "      <td>Gapcoin</td>\n",
       "      <td>Scrypt</td>\n",
       "      <td>True</td>\n",
       "      <td>PoW/PoS</td>\n",
       "      <td>1.493105e+07</td>\n",
       "      <td>250000000</td>\n",
       "    </tr>\n",
       "    <tr>\n",
       "      <th>BDX</th>\n",
       "      <td>Beldex</td>\n",
       "      <td>CryptoNight</td>\n",
       "      <td>True</td>\n",
       "      <td>PoW</td>\n",
       "      <td>9.802226e+08</td>\n",
       "      <td>1400222610</td>\n",
       "    </tr>\n",
       "    <tr>\n",
       "      <th>ZEN</th>\n",
       "      <td>Horizen</td>\n",
       "      <td>Equihash</td>\n",
       "      <td>True</td>\n",
       "      <td>PoW</td>\n",
       "      <td>7.296538e+06</td>\n",
       "      <td>21000000</td>\n",
       "    </tr>\n",
       "    <tr>\n",
       "      <th>XBC</th>\n",
       "      <td>BitcoinPlus</td>\n",
       "      <td>Scrypt</td>\n",
       "      <td>True</td>\n",
       "      <td>PoS</td>\n",
       "      <td>1.283270e+05</td>\n",
       "      <td>1000000</td>\n",
       "    </tr>\n",
       "  </tbody>\n",
       "</table>\n",
       "<p>532 rows × 6 columns</p>\n",
       "</div>"
      ],
      "text/plain": [
       "         CoinName    Algorithm  IsTrading ProofType  TotalCoinsMined  \\\n",
       "42        42 Coin       Scrypt       True   PoW/PoS     4.199995e+01   \n",
       "404       404Coin       Scrypt       True   PoW/PoS     1.055185e+09   \n",
       "1337    EliteCoin          X13       True   PoW/PoS     2.927942e+10   \n",
       "BTC       Bitcoin      SHA-256       True       PoW     1.792718e+07   \n",
       "ETH      Ethereum       Ethash       True       PoW     1.076842e+08   \n",
       "...           ...          ...        ...       ...              ...   \n",
       "ZEPH       ZEPHYR      SHA-256       True      DPoS     2.000000e+09   \n",
       "GAP       Gapcoin       Scrypt       True   PoW/PoS     1.493105e+07   \n",
       "BDX        Beldex  CryptoNight       True       PoW     9.802226e+08   \n",
       "ZEN       Horizen     Equihash       True       PoW     7.296538e+06   \n",
       "XBC   BitcoinPlus       Scrypt       True       PoS     1.283270e+05   \n",
       "\n",
       "     TotalCoinSupply  \n",
       "42                42  \n",
       "404        532000000  \n",
       "1337    314159265359  \n",
       "BTC         21000000  \n",
       "ETH                0  \n",
       "...              ...  \n",
       "ZEPH      2000000000  \n",
       "GAP        250000000  \n",
       "BDX       1400222610  \n",
       "ZEN         21000000  \n",
       "XBC          1000000  \n",
       "\n",
       "[532 rows x 6 columns]"
      ]
     },
     "execution_count": 59,
     "metadata": {},
     "output_type": "execute_result"
    }
   ],
   "source": [
    "# Keep all the cryptocurrencies that have a working algorithm.\n",
    "crypto_df = df_traded[df_traded['TotalCoinsMined'] > 0]\n",
    "crypto_df"
   ]
  },
  {
   "cell_type": "code",
   "execution_count": 60,
   "metadata": {},
   "outputs": [
    {
     "name": "stderr",
     "output_type": "stream",
     "text": [
      "/var/folders/k3/5n3v7d6x36s_prfxswdt0c180000gn/T/ipykernel_53011/4118464245.py:3: SettingWithCopyWarning: \n",
      "A value is trying to be set on a copy of a slice from a DataFrame\n",
      "\n",
      "See the caveats in the documentation: https://pandas.pydata.org/pandas-docs/stable/user_guide/indexing.html#returning-a-view-versus-a-copy\n",
      "  crypto_df.drop(['IsTrading'], axis = 1, inplace=True)\n"
     ]
    },
    {
     "data": {
      "text/html": [
       "<div>\n",
       "<style scoped>\n",
       "    .dataframe tbody tr th:only-of-type {\n",
       "        vertical-align: middle;\n",
       "    }\n",
       "\n",
       "    .dataframe tbody tr th {\n",
       "        vertical-align: top;\n",
       "    }\n",
       "\n",
       "    .dataframe thead th {\n",
       "        text-align: right;\n",
       "    }\n",
       "</style>\n",
       "<table border=\"1\" class=\"dataframe\">\n",
       "  <thead>\n",
       "    <tr style=\"text-align: right;\">\n",
       "      <th></th>\n",
       "      <th>CoinName</th>\n",
       "      <th>Algorithm</th>\n",
       "      <th>ProofType</th>\n",
       "      <th>TotalCoinsMined</th>\n",
       "      <th>TotalCoinSupply</th>\n",
       "    </tr>\n",
       "  </thead>\n",
       "  <tbody>\n",
       "    <tr>\n",
       "      <th>42</th>\n",
       "      <td>42 Coin</td>\n",
       "      <td>Scrypt</td>\n",
       "      <td>PoW/PoS</td>\n",
       "      <td>4.199995e+01</td>\n",
       "      <td>42</td>\n",
       "    </tr>\n",
       "    <tr>\n",
       "      <th>404</th>\n",
       "      <td>404Coin</td>\n",
       "      <td>Scrypt</td>\n",
       "      <td>PoW/PoS</td>\n",
       "      <td>1.055185e+09</td>\n",
       "      <td>532000000</td>\n",
       "    </tr>\n",
       "    <tr>\n",
       "      <th>1337</th>\n",
       "      <td>EliteCoin</td>\n",
       "      <td>X13</td>\n",
       "      <td>PoW/PoS</td>\n",
       "      <td>2.927942e+10</td>\n",
       "      <td>314159265359</td>\n",
       "    </tr>\n",
       "    <tr>\n",
       "      <th>BTC</th>\n",
       "      <td>Bitcoin</td>\n",
       "      <td>SHA-256</td>\n",
       "      <td>PoW</td>\n",
       "      <td>1.792718e+07</td>\n",
       "      <td>21000000</td>\n",
       "    </tr>\n",
       "    <tr>\n",
       "      <th>ETH</th>\n",
       "      <td>Ethereum</td>\n",
       "      <td>Ethash</td>\n",
       "      <td>PoW</td>\n",
       "      <td>1.076842e+08</td>\n",
       "      <td>0</td>\n",
       "    </tr>\n",
       "    <tr>\n",
       "      <th>...</th>\n",
       "      <td>...</td>\n",
       "      <td>...</td>\n",
       "      <td>...</td>\n",
       "      <td>...</td>\n",
       "      <td>...</td>\n",
       "    </tr>\n",
       "    <tr>\n",
       "      <th>ZEPH</th>\n",
       "      <td>ZEPHYR</td>\n",
       "      <td>SHA-256</td>\n",
       "      <td>DPoS</td>\n",
       "      <td>2.000000e+09</td>\n",
       "      <td>2000000000</td>\n",
       "    </tr>\n",
       "    <tr>\n",
       "      <th>GAP</th>\n",
       "      <td>Gapcoin</td>\n",
       "      <td>Scrypt</td>\n",
       "      <td>PoW/PoS</td>\n",
       "      <td>1.493105e+07</td>\n",
       "      <td>250000000</td>\n",
       "    </tr>\n",
       "    <tr>\n",
       "      <th>BDX</th>\n",
       "      <td>Beldex</td>\n",
       "      <td>CryptoNight</td>\n",
       "      <td>PoW</td>\n",
       "      <td>9.802226e+08</td>\n",
       "      <td>1400222610</td>\n",
       "    </tr>\n",
       "    <tr>\n",
       "      <th>ZEN</th>\n",
       "      <td>Horizen</td>\n",
       "      <td>Equihash</td>\n",
       "      <td>PoW</td>\n",
       "      <td>7.296538e+06</td>\n",
       "      <td>21000000</td>\n",
       "    </tr>\n",
       "    <tr>\n",
       "      <th>XBC</th>\n",
       "      <td>BitcoinPlus</td>\n",
       "      <td>Scrypt</td>\n",
       "      <td>PoS</td>\n",
       "      <td>1.283270e+05</td>\n",
       "      <td>1000000</td>\n",
       "    </tr>\n",
       "  </tbody>\n",
       "</table>\n",
       "<p>532 rows × 5 columns</p>\n",
       "</div>"
      ],
      "text/plain": [
       "         CoinName    Algorithm ProofType  TotalCoinsMined TotalCoinSupply\n",
       "42        42 Coin       Scrypt   PoW/PoS     4.199995e+01              42\n",
       "404       404Coin       Scrypt   PoW/PoS     1.055185e+09       532000000\n",
       "1337    EliteCoin          X13   PoW/PoS     2.927942e+10    314159265359\n",
       "BTC       Bitcoin      SHA-256       PoW     1.792718e+07        21000000\n",
       "ETH      Ethereum       Ethash       PoW     1.076842e+08               0\n",
       "...           ...          ...       ...              ...             ...\n",
       "ZEPH       ZEPHYR      SHA-256      DPoS     2.000000e+09      2000000000\n",
       "GAP       Gapcoin       Scrypt   PoW/PoS     1.493105e+07       250000000\n",
       "BDX        Beldex  CryptoNight       PoW     9.802226e+08      1400222610\n",
       "ZEN       Horizen     Equihash       PoW     7.296538e+06        21000000\n",
       "XBC   BitcoinPlus       Scrypt       PoS     1.283270e+05         1000000\n",
       "\n",
       "[532 rows x 5 columns]"
      ]
     },
     "execution_count": 60,
     "metadata": {},
     "output_type": "execute_result"
    }
   ],
   "source": [
    "# Remove the \"IsTrading\" column. \n",
    "\n",
    "crypto_df.drop(['IsTrading'], axis = 1, inplace=True)\n",
    "crypto_df"
   ]
  },
  {
   "cell_type": "code",
   "execution_count": 61,
   "metadata": {},
   "outputs": [
    {
     "name": "stderr",
     "output_type": "stream",
     "text": [
      "/var/folders/k3/5n3v7d6x36s_prfxswdt0c180000gn/T/ipykernel_53011/1580152174.py:2: SettingWithCopyWarning: \n",
      "A value is trying to be set on a copy of a slice from a DataFrame\n",
      "\n",
      "See the caveats in the documentation: https://pandas.pydata.org/pandas-docs/stable/user_guide/indexing.html#returning-a-view-versus-a-copy\n",
      "  crypto_df.dropna(axis=0, how=\"all\", inplace=True)\n"
     ]
    },
    {
     "data": {
      "text/html": [
       "<div>\n",
       "<style scoped>\n",
       "    .dataframe tbody tr th:only-of-type {\n",
       "        vertical-align: middle;\n",
       "    }\n",
       "\n",
       "    .dataframe tbody tr th {\n",
       "        vertical-align: top;\n",
       "    }\n",
       "\n",
       "    .dataframe thead th {\n",
       "        text-align: right;\n",
       "    }\n",
       "</style>\n",
       "<table border=\"1\" class=\"dataframe\">\n",
       "  <thead>\n",
       "    <tr style=\"text-align: right;\">\n",
       "      <th></th>\n",
       "      <th>CoinName</th>\n",
       "      <th>Algorithm</th>\n",
       "      <th>ProofType</th>\n",
       "      <th>TotalCoinsMined</th>\n",
       "      <th>TotalCoinSupply</th>\n",
       "    </tr>\n",
       "  </thead>\n",
       "  <tbody>\n",
       "    <tr>\n",
       "      <th>42</th>\n",
       "      <td>42 Coin</td>\n",
       "      <td>Scrypt</td>\n",
       "      <td>PoW/PoS</td>\n",
       "      <td>4.199995e+01</td>\n",
       "      <td>42</td>\n",
       "    </tr>\n",
       "    <tr>\n",
       "      <th>404</th>\n",
       "      <td>404Coin</td>\n",
       "      <td>Scrypt</td>\n",
       "      <td>PoW/PoS</td>\n",
       "      <td>1.055185e+09</td>\n",
       "      <td>532000000</td>\n",
       "    </tr>\n",
       "    <tr>\n",
       "      <th>1337</th>\n",
       "      <td>EliteCoin</td>\n",
       "      <td>X13</td>\n",
       "      <td>PoW/PoS</td>\n",
       "      <td>2.927942e+10</td>\n",
       "      <td>314159265359</td>\n",
       "    </tr>\n",
       "    <tr>\n",
       "      <th>BTC</th>\n",
       "      <td>Bitcoin</td>\n",
       "      <td>SHA-256</td>\n",
       "      <td>PoW</td>\n",
       "      <td>1.792718e+07</td>\n",
       "      <td>21000000</td>\n",
       "    </tr>\n",
       "    <tr>\n",
       "      <th>ETH</th>\n",
       "      <td>Ethereum</td>\n",
       "      <td>Ethash</td>\n",
       "      <td>PoW</td>\n",
       "      <td>1.076842e+08</td>\n",
       "      <td>0</td>\n",
       "    </tr>\n",
       "    <tr>\n",
       "      <th>LTC</th>\n",
       "      <td>Litecoin</td>\n",
       "      <td>Scrypt</td>\n",
       "      <td>PoW</td>\n",
       "      <td>6.303924e+07</td>\n",
       "      <td>84000000</td>\n",
       "    </tr>\n",
       "    <tr>\n",
       "      <th>DASH</th>\n",
       "      <td>Dash</td>\n",
       "      <td>X11</td>\n",
       "      <td>PoW/PoS</td>\n",
       "      <td>9.031294e+06</td>\n",
       "      <td>22000000</td>\n",
       "    </tr>\n",
       "    <tr>\n",
       "      <th>XMR</th>\n",
       "      <td>Monero</td>\n",
       "      <td>CryptoNight-V7</td>\n",
       "      <td>PoW</td>\n",
       "      <td>1.720114e+07</td>\n",
       "      <td>0</td>\n",
       "    </tr>\n",
       "    <tr>\n",
       "      <th>ETC</th>\n",
       "      <td>Ethereum Classic</td>\n",
       "      <td>Ethash</td>\n",
       "      <td>PoW</td>\n",
       "      <td>1.133597e+08</td>\n",
       "      <td>210000000</td>\n",
       "    </tr>\n",
       "    <tr>\n",
       "      <th>ZEC</th>\n",
       "      <td>ZCash</td>\n",
       "      <td>Equihash</td>\n",
       "      <td>PoW</td>\n",
       "      <td>7.383056e+06</td>\n",
       "      <td>21000000</td>\n",
       "    </tr>\n",
       "  </tbody>\n",
       "</table>\n",
       "</div>"
      ],
      "text/plain": [
       "              CoinName       Algorithm ProofType  TotalCoinsMined  \\\n",
       "42             42 Coin          Scrypt   PoW/PoS     4.199995e+01   \n",
       "404            404Coin          Scrypt   PoW/PoS     1.055185e+09   \n",
       "1337         EliteCoin             X13   PoW/PoS     2.927942e+10   \n",
       "BTC            Bitcoin         SHA-256       PoW     1.792718e+07   \n",
       "ETH           Ethereum          Ethash       PoW     1.076842e+08   \n",
       "LTC           Litecoin          Scrypt       PoW     6.303924e+07   \n",
       "DASH              Dash             X11   PoW/PoS     9.031294e+06   \n",
       "XMR             Monero  CryptoNight-V7       PoW     1.720114e+07   \n",
       "ETC   Ethereum Classic          Ethash       PoW     1.133597e+08   \n",
       "ZEC              ZCash        Equihash       PoW     7.383056e+06   \n",
       "\n",
       "     TotalCoinSupply  \n",
       "42                42  \n",
       "404        532000000  \n",
       "1337    314159265359  \n",
       "BTC         21000000  \n",
       "ETH                0  \n",
       "LTC         84000000  \n",
       "DASH        22000000  \n",
       "XMR                0  \n",
       "ETC        210000000  \n",
       "ZEC         21000000  "
      ]
     },
     "execution_count": 61,
     "metadata": {},
     "output_type": "execute_result"
    }
   ],
   "source": [
    "# Remove rows that have at least 1 null value.\n",
    "crypto_df.dropna(axis=0, how=\"all\", inplace=True)\n",
    "crypto_df.head(10)\n"
   ]
  },
  {
   "cell_type": "code",
   "execution_count": 62,
   "metadata": {},
   "outputs": [],
   "source": [
    "# Keep the rows where coins are mined.\n",
    "# YOUR CODE HERE"
   ]
  },
  {
   "cell_type": "code",
   "execution_count": 63,
   "metadata": {},
   "outputs": [
    {
     "data": {
      "text/plain": [
       "42        42 Coin\n",
       "404       404Coin\n",
       "1337    EliteCoin\n",
       "BTC       Bitcoin\n",
       "ETH      Ethereum\n",
       "Name: CoinName, dtype: object"
      ]
     },
     "execution_count": 63,
     "metadata": {},
     "output_type": "execute_result"
    }
   ],
   "source": [
    "# Create a new DataFrame that holds only the cryptocurrencies names.\n",
    "coinname_df = crypto_df['CoinName']\n",
    "coinname_df.head()"
   ]
  },
  {
   "cell_type": "code",
   "execution_count": 64,
   "metadata": {},
   "outputs": [
    {
     "name": "stderr",
     "output_type": "stream",
     "text": [
      "/var/folders/k3/5n3v7d6x36s_prfxswdt0c180000gn/T/ipykernel_53011/723634803.py:2: SettingWithCopyWarning: \n",
      "A value is trying to be set on a copy of a slice from a DataFrame\n",
      "\n",
      "See the caveats in the documentation: https://pandas.pydata.org/pandas-docs/stable/user_guide/indexing.html#returning-a-view-versus-a-copy\n",
      "  crypto_df.drop(['CoinName'], axis=1, inplace=True)\n"
     ]
    },
    {
     "data": {
      "text/html": [
       "<div>\n",
       "<style scoped>\n",
       "    .dataframe tbody tr th:only-of-type {\n",
       "        vertical-align: middle;\n",
       "    }\n",
       "\n",
       "    .dataframe tbody tr th {\n",
       "        vertical-align: top;\n",
       "    }\n",
       "\n",
       "    .dataframe thead th {\n",
       "        text-align: right;\n",
       "    }\n",
       "</style>\n",
       "<table border=\"1\" class=\"dataframe\">\n",
       "  <thead>\n",
       "    <tr style=\"text-align: right;\">\n",
       "      <th></th>\n",
       "      <th>Algorithm</th>\n",
       "      <th>ProofType</th>\n",
       "      <th>TotalCoinsMined</th>\n",
       "      <th>TotalCoinSupply</th>\n",
       "    </tr>\n",
       "  </thead>\n",
       "  <tbody>\n",
       "    <tr>\n",
       "      <th>42</th>\n",
       "      <td>Scrypt</td>\n",
       "      <td>PoW/PoS</td>\n",
       "      <td>4.199995e+01</td>\n",
       "      <td>42</td>\n",
       "    </tr>\n",
       "    <tr>\n",
       "      <th>404</th>\n",
       "      <td>Scrypt</td>\n",
       "      <td>PoW/PoS</td>\n",
       "      <td>1.055185e+09</td>\n",
       "      <td>532000000</td>\n",
       "    </tr>\n",
       "    <tr>\n",
       "      <th>1337</th>\n",
       "      <td>X13</td>\n",
       "      <td>PoW/PoS</td>\n",
       "      <td>2.927942e+10</td>\n",
       "      <td>314159265359</td>\n",
       "    </tr>\n",
       "    <tr>\n",
       "      <th>BTC</th>\n",
       "      <td>SHA-256</td>\n",
       "      <td>PoW</td>\n",
       "      <td>1.792718e+07</td>\n",
       "      <td>21000000</td>\n",
       "    </tr>\n",
       "    <tr>\n",
       "      <th>ETH</th>\n",
       "      <td>Ethash</td>\n",
       "      <td>PoW</td>\n",
       "      <td>1.076842e+08</td>\n",
       "      <td>0</td>\n",
       "    </tr>\n",
       "    <tr>\n",
       "      <th>LTC</th>\n",
       "      <td>Scrypt</td>\n",
       "      <td>PoW</td>\n",
       "      <td>6.303924e+07</td>\n",
       "      <td>84000000</td>\n",
       "    </tr>\n",
       "    <tr>\n",
       "      <th>DASH</th>\n",
       "      <td>X11</td>\n",
       "      <td>PoW/PoS</td>\n",
       "      <td>9.031294e+06</td>\n",
       "      <td>22000000</td>\n",
       "    </tr>\n",
       "    <tr>\n",
       "      <th>XMR</th>\n",
       "      <td>CryptoNight-V7</td>\n",
       "      <td>PoW</td>\n",
       "      <td>1.720114e+07</td>\n",
       "      <td>0</td>\n",
       "    </tr>\n",
       "    <tr>\n",
       "      <th>ETC</th>\n",
       "      <td>Ethash</td>\n",
       "      <td>PoW</td>\n",
       "      <td>1.133597e+08</td>\n",
       "      <td>210000000</td>\n",
       "    </tr>\n",
       "    <tr>\n",
       "      <th>ZEC</th>\n",
       "      <td>Equihash</td>\n",
       "      <td>PoW</td>\n",
       "      <td>7.383056e+06</td>\n",
       "      <td>21000000</td>\n",
       "    </tr>\n",
       "  </tbody>\n",
       "</table>\n",
       "</div>"
      ],
      "text/plain": [
       "           Algorithm ProofType  TotalCoinsMined TotalCoinSupply\n",
       "42            Scrypt   PoW/PoS     4.199995e+01              42\n",
       "404           Scrypt   PoW/PoS     1.055185e+09       532000000\n",
       "1337             X13   PoW/PoS     2.927942e+10    314159265359\n",
       "BTC          SHA-256       PoW     1.792718e+07        21000000\n",
       "ETH           Ethash       PoW     1.076842e+08               0\n",
       "LTC           Scrypt       PoW     6.303924e+07        84000000\n",
       "DASH             X11   PoW/PoS     9.031294e+06        22000000\n",
       "XMR   CryptoNight-V7       PoW     1.720114e+07               0\n",
       "ETC           Ethash       PoW     1.133597e+08       210000000\n",
       "ZEC         Equihash       PoW     7.383056e+06        21000000"
      ]
     },
     "execution_count": 64,
     "metadata": {},
     "output_type": "execute_result"
    }
   ],
   "source": [
    "# Drop the 'CoinName' column since it's not going to be used on the clustering algorithm.\n",
    "crypto_df.drop(['CoinName'], axis=1, inplace=True)\n",
    "crypto_df.head(10)"
   ]
  },
  {
   "cell_type": "code",
   "execution_count": 65,
   "metadata": {},
   "outputs": [
    {
     "data": {
      "text/html": [
       "<div>\n",
       "<style scoped>\n",
       "    .dataframe tbody tr th:only-of-type {\n",
       "        vertical-align: middle;\n",
       "    }\n",
       "\n",
       "    .dataframe tbody tr th {\n",
       "        vertical-align: top;\n",
       "    }\n",
       "\n",
       "    .dataframe thead th {\n",
       "        text-align: right;\n",
       "    }\n",
       "</style>\n",
       "<table border=\"1\" class=\"dataframe\">\n",
       "  <thead>\n",
       "    <tr style=\"text-align: right;\">\n",
       "      <th></th>\n",
       "      <th>TotalCoinsMined</th>\n",
       "      <th>TotalCoinSupply</th>\n",
       "      <th>Algorithm_536</th>\n",
       "      <th>Algorithm_Argon2d</th>\n",
       "      <th>Algorithm_BLAKE256</th>\n",
       "      <th>Algorithm_Blake</th>\n",
       "      <th>Algorithm_Blake2S</th>\n",
       "      <th>Algorithm_Blake2b</th>\n",
       "      <th>Algorithm_C11</th>\n",
       "      <th>Algorithm_Cloverhash</th>\n",
       "      <th>...</th>\n",
       "      <th>ProofType_PoW/PoS</th>\n",
       "      <th>ProofType_PoW/PoS</th>\n",
       "      <th>ProofType_PoW/PoW</th>\n",
       "      <th>ProofType_PoW/nPoS</th>\n",
       "      <th>ProofType_Pos</th>\n",
       "      <th>ProofType_Proof of Authority</th>\n",
       "      <th>ProofType_Proof of Trust</th>\n",
       "      <th>ProofType_TPoS</th>\n",
       "      <th>ProofType_Zero-Knowledge Proof</th>\n",
       "      <th>ProofType_dPoW/PoW</th>\n",
       "    </tr>\n",
       "  </thead>\n",
       "  <tbody>\n",
       "    <tr>\n",
       "      <th>42</th>\n",
       "      <td>4.199995e+01</td>\n",
       "      <td>42</td>\n",
       "      <td>0</td>\n",
       "      <td>0</td>\n",
       "      <td>0</td>\n",
       "      <td>0</td>\n",
       "      <td>0</td>\n",
       "      <td>0</td>\n",
       "      <td>0</td>\n",
       "      <td>0</td>\n",
       "      <td>...</td>\n",
       "      <td>1</td>\n",
       "      <td>0</td>\n",
       "      <td>0</td>\n",
       "      <td>0</td>\n",
       "      <td>0</td>\n",
       "      <td>0</td>\n",
       "      <td>0</td>\n",
       "      <td>0</td>\n",
       "      <td>0</td>\n",
       "      <td>0</td>\n",
       "    </tr>\n",
       "    <tr>\n",
       "      <th>404</th>\n",
       "      <td>1.055185e+09</td>\n",
       "      <td>532000000</td>\n",
       "      <td>0</td>\n",
       "      <td>0</td>\n",
       "      <td>0</td>\n",
       "      <td>0</td>\n",
       "      <td>0</td>\n",
       "      <td>0</td>\n",
       "      <td>0</td>\n",
       "      <td>0</td>\n",
       "      <td>...</td>\n",
       "      <td>1</td>\n",
       "      <td>0</td>\n",
       "      <td>0</td>\n",
       "      <td>0</td>\n",
       "      <td>0</td>\n",
       "      <td>0</td>\n",
       "      <td>0</td>\n",
       "      <td>0</td>\n",
       "      <td>0</td>\n",
       "      <td>0</td>\n",
       "    </tr>\n",
       "    <tr>\n",
       "      <th>1337</th>\n",
       "      <td>2.927942e+10</td>\n",
       "      <td>314159265359</td>\n",
       "      <td>0</td>\n",
       "      <td>0</td>\n",
       "      <td>0</td>\n",
       "      <td>0</td>\n",
       "      <td>0</td>\n",
       "      <td>0</td>\n",
       "      <td>0</td>\n",
       "      <td>0</td>\n",
       "      <td>...</td>\n",
       "      <td>1</td>\n",
       "      <td>0</td>\n",
       "      <td>0</td>\n",
       "      <td>0</td>\n",
       "      <td>0</td>\n",
       "      <td>0</td>\n",
       "      <td>0</td>\n",
       "      <td>0</td>\n",
       "      <td>0</td>\n",
       "      <td>0</td>\n",
       "    </tr>\n",
       "    <tr>\n",
       "      <th>BTC</th>\n",
       "      <td>1.792718e+07</td>\n",
       "      <td>21000000</td>\n",
       "      <td>0</td>\n",
       "      <td>0</td>\n",
       "      <td>0</td>\n",
       "      <td>0</td>\n",
       "      <td>0</td>\n",
       "      <td>0</td>\n",
       "      <td>0</td>\n",
       "      <td>0</td>\n",
       "      <td>...</td>\n",
       "      <td>0</td>\n",
       "      <td>0</td>\n",
       "      <td>0</td>\n",
       "      <td>0</td>\n",
       "      <td>0</td>\n",
       "      <td>0</td>\n",
       "      <td>0</td>\n",
       "      <td>0</td>\n",
       "      <td>0</td>\n",
       "      <td>0</td>\n",
       "    </tr>\n",
       "    <tr>\n",
       "      <th>ETH</th>\n",
       "      <td>1.076842e+08</td>\n",
       "      <td>0</td>\n",
       "      <td>0</td>\n",
       "      <td>0</td>\n",
       "      <td>0</td>\n",
       "      <td>0</td>\n",
       "      <td>0</td>\n",
       "      <td>0</td>\n",
       "      <td>0</td>\n",
       "      <td>0</td>\n",
       "      <td>...</td>\n",
       "      <td>0</td>\n",
       "      <td>0</td>\n",
       "      <td>0</td>\n",
       "      <td>0</td>\n",
       "      <td>0</td>\n",
       "      <td>0</td>\n",
       "      <td>0</td>\n",
       "      <td>0</td>\n",
       "      <td>0</td>\n",
       "      <td>0</td>\n",
       "    </tr>\n",
       "    <tr>\n",
       "      <th>...</th>\n",
       "      <td>...</td>\n",
       "      <td>...</td>\n",
       "      <td>...</td>\n",
       "      <td>...</td>\n",
       "      <td>...</td>\n",
       "      <td>...</td>\n",
       "      <td>...</td>\n",
       "      <td>...</td>\n",
       "      <td>...</td>\n",
       "      <td>...</td>\n",
       "      <td>...</td>\n",
       "      <td>...</td>\n",
       "      <td>...</td>\n",
       "      <td>...</td>\n",
       "      <td>...</td>\n",
       "      <td>...</td>\n",
       "      <td>...</td>\n",
       "      <td>...</td>\n",
       "      <td>...</td>\n",
       "      <td>...</td>\n",
       "      <td>...</td>\n",
       "    </tr>\n",
       "    <tr>\n",
       "      <th>ZEPH</th>\n",
       "      <td>2.000000e+09</td>\n",
       "      <td>2000000000</td>\n",
       "      <td>0</td>\n",
       "      <td>0</td>\n",
       "      <td>0</td>\n",
       "      <td>0</td>\n",
       "      <td>0</td>\n",
       "      <td>0</td>\n",
       "      <td>0</td>\n",
       "      <td>0</td>\n",
       "      <td>...</td>\n",
       "      <td>0</td>\n",
       "      <td>0</td>\n",
       "      <td>0</td>\n",
       "      <td>0</td>\n",
       "      <td>0</td>\n",
       "      <td>0</td>\n",
       "      <td>0</td>\n",
       "      <td>0</td>\n",
       "      <td>0</td>\n",
       "      <td>0</td>\n",
       "    </tr>\n",
       "    <tr>\n",
       "      <th>GAP</th>\n",
       "      <td>1.493105e+07</td>\n",
       "      <td>250000000</td>\n",
       "      <td>0</td>\n",
       "      <td>0</td>\n",
       "      <td>0</td>\n",
       "      <td>0</td>\n",
       "      <td>0</td>\n",
       "      <td>0</td>\n",
       "      <td>0</td>\n",
       "      <td>0</td>\n",
       "      <td>...</td>\n",
       "      <td>1</td>\n",
       "      <td>0</td>\n",
       "      <td>0</td>\n",
       "      <td>0</td>\n",
       "      <td>0</td>\n",
       "      <td>0</td>\n",
       "      <td>0</td>\n",
       "      <td>0</td>\n",
       "      <td>0</td>\n",
       "      <td>0</td>\n",
       "    </tr>\n",
       "    <tr>\n",
       "      <th>BDX</th>\n",
       "      <td>9.802226e+08</td>\n",
       "      <td>1400222610</td>\n",
       "      <td>0</td>\n",
       "      <td>0</td>\n",
       "      <td>0</td>\n",
       "      <td>0</td>\n",
       "      <td>0</td>\n",
       "      <td>0</td>\n",
       "      <td>0</td>\n",
       "      <td>0</td>\n",
       "      <td>...</td>\n",
       "      <td>0</td>\n",
       "      <td>0</td>\n",
       "      <td>0</td>\n",
       "      <td>0</td>\n",
       "      <td>0</td>\n",
       "      <td>0</td>\n",
       "      <td>0</td>\n",
       "      <td>0</td>\n",
       "      <td>0</td>\n",
       "      <td>0</td>\n",
       "    </tr>\n",
       "    <tr>\n",
       "      <th>ZEN</th>\n",
       "      <td>7.296538e+06</td>\n",
       "      <td>21000000</td>\n",
       "      <td>0</td>\n",
       "      <td>0</td>\n",
       "      <td>0</td>\n",
       "      <td>0</td>\n",
       "      <td>0</td>\n",
       "      <td>0</td>\n",
       "      <td>0</td>\n",
       "      <td>0</td>\n",
       "      <td>...</td>\n",
       "      <td>0</td>\n",
       "      <td>0</td>\n",
       "      <td>0</td>\n",
       "      <td>0</td>\n",
       "      <td>0</td>\n",
       "      <td>0</td>\n",
       "      <td>0</td>\n",
       "      <td>0</td>\n",
       "      <td>0</td>\n",
       "      <td>0</td>\n",
       "    </tr>\n",
       "    <tr>\n",
       "      <th>XBC</th>\n",
       "      <td>1.283270e+05</td>\n",
       "      <td>1000000</td>\n",
       "      <td>0</td>\n",
       "      <td>0</td>\n",
       "      <td>0</td>\n",
       "      <td>0</td>\n",
       "      <td>0</td>\n",
       "      <td>0</td>\n",
       "      <td>0</td>\n",
       "      <td>0</td>\n",
       "      <td>...</td>\n",
       "      <td>0</td>\n",
       "      <td>0</td>\n",
       "      <td>0</td>\n",
       "      <td>0</td>\n",
       "      <td>0</td>\n",
       "      <td>0</td>\n",
       "      <td>0</td>\n",
       "      <td>0</td>\n",
       "      <td>0</td>\n",
       "      <td>0</td>\n",
       "    </tr>\n",
       "  </tbody>\n",
       "</table>\n",
       "<p>532 rows × 96 columns</p>\n",
       "</div>"
      ],
      "text/plain": [
       "      TotalCoinsMined TotalCoinSupply  Algorithm_536  Algorithm_Argon2d  \\\n",
       "42       4.199995e+01              42              0                  0   \n",
       "404      1.055185e+09       532000000              0                  0   \n",
       "1337     2.927942e+10    314159265359              0                  0   \n",
       "BTC      1.792718e+07        21000000              0                  0   \n",
       "ETH      1.076842e+08               0              0                  0   \n",
       "...               ...             ...            ...                ...   \n",
       "ZEPH     2.000000e+09      2000000000              0                  0   \n",
       "GAP      1.493105e+07       250000000              0                  0   \n",
       "BDX      9.802226e+08      1400222610              0                  0   \n",
       "ZEN      7.296538e+06        21000000              0                  0   \n",
       "XBC      1.283270e+05         1000000              0                  0   \n",
       "\n",
       "      Algorithm_BLAKE256  Algorithm_Blake  Algorithm_Blake2S  \\\n",
       "42                     0                0                  0   \n",
       "404                    0                0                  0   \n",
       "1337                   0                0                  0   \n",
       "BTC                    0                0                  0   \n",
       "ETH                    0                0                  0   \n",
       "...                  ...              ...                ...   \n",
       "ZEPH                   0                0                  0   \n",
       "GAP                    0                0                  0   \n",
       "BDX                    0                0                  0   \n",
       "ZEN                    0                0                  0   \n",
       "XBC                    0                0                  0   \n",
       "\n",
       "      Algorithm_Blake2b  Algorithm_C11  Algorithm_Cloverhash  ...  \\\n",
       "42                    0              0                     0  ...   \n",
       "404                   0              0                     0  ...   \n",
       "1337                  0              0                     0  ...   \n",
       "BTC                   0              0                     0  ...   \n",
       "ETH                   0              0                     0  ...   \n",
       "...                 ...            ...                   ...  ...   \n",
       "ZEPH                  0              0                     0  ...   \n",
       "GAP                   0              0                     0  ...   \n",
       "BDX                   0              0                     0  ...   \n",
       "ZEN                   0              0                     0  ...   \n",
       "XBC                   0              0                     0  ...   \n",
       "\n",
       "      ProofType_PoW/PoS  ProofType_PoW/PoS   ProofType_PoW/PoW  \\\n",
       "42                    1                   0                  0   \n",
       "404                   1                   0                  0   \n",
       "1337                  1                   0                  0   \n",
       "BTC                   0                   0                  0   \n",
       "ETH                   0                   0                  0   \n",
       "...                 ...                 ...                ...   \n",
       "ZEPH                  0                   0                  0   \n",
       "GAP                   1                   0                  0   \n",
       "BDX                   0                   0                  0   \n",
       "ZEN                   0                   0                  0   \n",
       "XBC                   0                   0                  0   \n",
       "\n",
       "      ProofType_PoW/nPoS  ProofType_Pos  ProofType_Proof of Authority  \\\n",
       "42                     0              0                             0   \n",
       "404                    0              0                             0   \n",
       "1337                   0              0                             0   \n",
       "BTC                    0              0                             0   \n",
       "ETH                    0              0                             0   \n",
       "...                  ...            ...                           ...   \n",
       "ZEPH                   0              0                             0   \n",
       "GAP                    0              0                             0   \n",
       "BDX                    0              0                             0   \n",
       "ZEN                    0              0                             0   \n",
       "XBC                    0              0                             0   \n",
       "\n",
       "      ProofType_Proof of Trust  ProofType_TPoS  \\\n",
       "42                           0               0   \n",
       "404                          0               0   \n",
       "1337                         0               0   \n",
       "BTC                          0               0   \n",
       "ETH                          0               0   \n",
       "...                        ...             ...   \n",
       "ZEPH                         0               0   \n",
       "GAP                          0               0   \n",
       "BDX                          0               0   \n",
       "ZEN                          0               0   \n",
       "XBC                          0               0   \n",
       "\n",
       "      ProofType_Zero-Knowledge Proof  ProofType_dPoW/PoW  \n",
       "42                                 0                   0  \n",
       "404                                0                   0  \n",
       "1337                               0                   0  \n",
       "BTC                                0                   0  \n",
       "ETH                                0                   0  \n",
       "...                              ...                 ...  \n",
       "ZEPH                               0                   0  \n",
       "GAP                                0                   0  \n",
       "BDX                                0                   0  \n",
       "ZEN                                0                   0  \n",
       "XBC                                0                   0  \n",
       "\n",
       "[532 rows x 96 columns]"
      ]
     },
     "execution_count": 65,
     "metadata": {},
     "output_type": "execute_result"
    }
   ],
   "source": [
    "# Use get_dummies() to create variables for text features.\n",
    "X = pd.get_dummies(data = crypto_df, columns=['Algorithm','ProofType'], drop_first=True)\n",
    "#crypto_df = pd.get_dummies(crypto_df['ProofType'])\n",
    "X"
   ]
  },
  {
   "cell_type": "code",
   "execution_count": 66,
   "metadata": {},
   "outputs": [
    {
     "data": {
      "text/plain": [
       "array([[-0.11710817, -0.1528703 , -0.0433963 , ..., -0.0433963 ,\n",
       "        -0.0433963 , -0.0433963 ],\n",
       "       [-0.09396955, -0.145009  , -0.0433963 , ..., -0.0433963 ,\n",
       "        -0.0433963 , -0.0433963 ],\n",
       "       [ 0.52494561,  4.48942416, -0.0433963 , ..., -0.0433963 ,\n",
       "        -0.0433963 , -0.0433963 ],\n",
       "       ...,\n",
       "       [-0.09561336, -0.13217937, -0.0433963 , ..., -0.0433963 ,\n",
       "        -0.0433963 , -0.0433963 ],\n",
       "       [-0.11694817, -0.15255998, -0.0433963 , ..., -0.0433963 ,\n",
       "        -0.0433963 , -0.0433963 ],\n",
       "       [-0.11710536, -0.15285552, -0.0433963 , ..., -0.0433963 ,\n",
       "        -0.0433963 , -0.0433963 ]])"
      ]
     },
     "execution_count": 66,
     "metadata": {},
     "output_type": "execute_result"
    }
   ],
   "source": [
    "# Standardize the data with StandardScaler().\n",
    "data_scaler = StandardScaler()\n",
    "X = data_scaler.fit_transform(X)\n",
    "X"
   ]
  },
  {
   "cell_type": "markdown",
   "metadata": {},
   "source": [
    "### Deliverable 2: Reducing Data Dimensions Using PCA"
   ]
  },
  {
   "cell_type": "code",
   "execution_count": 67,
   "metadata": {},
   "outputs": [
    {
     "data": {
      "text/html": [
       "<div>\n",
       "<style scoped>\n",
       "    .dataframe tbody tr th:only-of-type {\n",
       "        vertical-align: middle;\n",
       "    }\n",
       "\n",
       "    .dataframe tbody tr th {\n",
       "        vertical-align: top;\n",
       "    }\n",
       "\n",
       "    .dataframe thead th {\n",
       "        text-align: right;\n",
       "    }\n",
       "</style>\n",
       "<table border=\"1\" class=\"dataframe\">\n",
       "  <thead>\n",
       "    <tr style=\"text-align: right;\">\n",
       "      <th></th>\n",
       "      <th>PC 1</th>\n",
       "      <th>PC 2</th>\n",
       "      <th>PC 3</th>\n",
       "    </tr>\n",
       "  </thead>\n",
       "  <tbody>\n",
       "    <tr>\n",
       "      <th>42</th>\n",
       "      <td>-0.336184</td>\n",
       "      <td>1.010819</td>\n",
       "      <td>0.191642</td>\n",
       "    </tr>\n",
       "    <tr>\n",
       "      <th>404</th>\n",
       "      <td>-0.319517</td>\n",
       "      <td>1.010844</td>\n",
       "      <td>0.191768</td>\n",
       "    </tr>\n",
       "    <tr>\n",
       "      <th>1337</th>\n",
       "      <td>2.330158</td>\n",
       "      <td>1.540700</td>\n",
       "      <td>0.206046</td>\n",
       "    </tr>\n",
       "    <tr>\n",
       "      <th>BTC</th>\n",
       "      <td>-0.146125</td>\n",
       "      <td>-1.345151</td>\n",
       "      <td>-0.106815</td>\n",
       "    </tr>\n",
       "    <tr>\n",
       "      <th>ETH</th>\n",
       "      <td>-0.138139</td>\n",
       "      <td>-2.031683</td>\n",
       "      <td>-0.116673</td>\n",
       "    </tr>\n",
       "    <tr>\n",
       "      <th>LTC</th>\n",
       "      <td>-0.177838</td>\n",
       "      <td>-1.107319</td>\n",
       "      <td>0.021363</td>\n",
       "    </tr>\n",
       "    <tr>\n",
       "      <th>DASH</th>\n",
       "      <td>-0.392413</td>\n",
       "      <td>1.239011</td>\n",
       "      <td>0.149179</td>\n",
       "    </tr>\n",
       "    <tr>\n",
       "      <th>XMR</th>\n",
       "      <td>-0.152776</td>\n",
       "      <td>-2.287447</td>\n",
       "      <td>-0.169208</td>\n",
       "    </tr>\n",
       "    <tr>\n",
       "      <th>ETC</th>\n",
       "      <td>-0.136581</td>\n",
       "      <td>-2.031792</td>\n",
       "      <td>-0.116663</td>\n",
       "    </tr>\n",
       "    <tr>\n",
       "      <th>ZEC</th>\n",
       "      <td>-0.139603</td>\n",
       "      <td>-2.018887</td>\n",
       "      <td>-0.161933</td>\n",
       "    </tr>\n",
       "  </tbody>\n",
       "</table>\n",
       "</div>"
      ],
      "text/plain": [
       "          PC 1      PC 2      PC 3\n",
       "42   -0.336184  1.010819  0.191642\n",
       "404  -0.319517  1.010844  0.191768\n",
       "1337  2.330158  1.540700  0.206046\n",
       "BTC  -0.146125 -1.345151 -0.106815\n",
       "ETH  -0.138139 -2.031683 -0.116673\n",
       "LTC  -0.177838 -1.107319  0.021363\n",
       "DASH -0.392413  1.239011  0.149179\n",
       "XMR  -0.152776 -2.287447 -0.169208\n",
       "ETC  -0.136581 -2.031792 -0.116663\n",
       "ZEC  -0.139603 -2.018887 -0.161933"
      ]
     },
     "execution_count": 67,
     "metadata": {},
     "output_type": "execute_result"
    }
   ],
   "source": [
    "# Using PCA to reduce dimension to three principal components.\n",
    "pca = PCA(n_components=3)\n",
    "X_pca = pca.fit_transform(X)\n",
    "pcs_df = pd.DataFrame(data= X_pca, columns=['PC 1','PC 2','PC 3'], index = crypto_df.index)\n",
    "pcs_df.head(10)"
   ]
  },
  {
   "cell_type": "markdown",
   "metadata": {},
   "source": [
    "### Deliverable 3: Clustering Crytocurrencies Using K-Means\n",
    "\n",
    "#### Finding the Best Value for `k` Using the Elbow Curve"
   ]
  },
  {
   "cell_type": "code",
   "execution_count": 68,
   "metadata": {},
   "outputs": [
    {
     "data": {},
     "metadata": {},
     "output_type": "display_data"
    },
    {
     "data": {
      "application/vnd.holoviews_exec.v0+json": "",
      "text/html": [
       "<div id='1220'>\n",
       "  <div class=\"bk-root\" id=\"1a6614ca-9ee3-4aa3-b51c-705d6b1f0c77\" data-root-id=\"1220\"></div>\n",
       "</div>\n",
       "<script type=\"application/javascript\">(function(root) {\n",
       "  function embed_document(root) {\n",
       "    var docs_json = {\"5509ecd0-2a6a-4076-b029-19264af72dea\":{\"defs\":[{\"extends\":null,\"module\":null,\"name\":\"ReactiveHTML1\",\"overrides\":[],\"properties\":[]},{\"extends\":null,\"module\":null,\"name\":\"FlexBox1\",\"overrides\":[],\"properties\":[{\"default\":\"flex-start\",\"kind\":null,\"name\":\"align_content\"},{\"default\":\"flex-start\",\"kind\":null,\"name\":\"align_items\"},{\"default\":\"row\",\"kind\":null,\"name\":\"flex_direction\"},{\"default\":\"wrap\",\"kind\":null,\"name\":\"flex_wrap\"},{\"default\":\"flex-start\",\"kind\":null,\"name\":\"justify_content\"}]},{\"extends\":null,\"module\":null,\"name\":\"GridStack1\",\"overrides\":[],\"properties\":[{\"default\":\"warn\",\"kind\":null,\"name\":\"mode\"},{\"default\":null,\"kind\":null,\"name\":\"ncols\"},{\"default\":null,\"kind\":null,\"name\":\"nrows\"},{\"default\":true,\"kind\":null,\"name\":\"allow_resize\"},{\"default\":true,\"kind\":null,\"name\":\"allow_drag\"},{\"default\":[],\"kind\":null,\"name\":\"state\"}]},{\"extends\":null,\"module\":null,\"name\":\"click1\",\"overrides\":[],\"properties\":[{\"default\":\"\",\"kind\":null,\"name\":\"terminal_output\"},{\"default\":\"\",\"kind\":null,\"name\":\"debug_name\"},{\"default\":0,\"kind\":null,\"name\":\"clears\"}]},{\"extends\":null,\"module\":null,\"name\":\"NotificationAreaBase1\",\"overrides\":[],\"properties\":[{\"default\":\"bottom-right\",\"kind\":null,\"name\":\"position\"},{\"default\":0,\"kind\":null,\"name\":\"_clear\"}]},{\"extends\":null,\"module\":null,\"name\":\"NotificationArea1\",\"overrides\":[],\"properties\":[{\"default\":[],\"kind\":null,\"name\":\"notifications\"},{\"default\":\"bottom-right\",\"kind\":null,\"name\":\"position\"},{\"default\":0,\"kind\":null,\"name\":\"_clear\"},{\"default\":[{\"background\":\"#ffc107\",\"icon\":{\"className\":\"fas fa-exclamation-triangle\",\"color\":\"white\",\"tagName\":\"i\"},\"type\":\"warning\"},{\"background\":\"#007bff\",\"icon\":{\"className\":\"fas fa-info-circle\",\"color\":\"white\",\"tagName\":\"i\"},\"type\":\"info\"}],\"kind\":null,\"name\":\"types\"}]},{\"extends\":null,\"module\":null,\"name\":\"Notification\",\"overrides\":[],\"properties\":[{\"default\":null,\"kind\":null,\"name\":\"background\"},{\"default\":3000,\"kind\":null,\"name\":\"duration\"},{\"default\":null,\"kind\":null,\"name\":\"icon\"},{\"default\":\"\",\"kind\":null,\"name\":\"message\"},{\"default\":null,\"kind\":null,\"name\":\"notification_type\"},{\"default\":false,\"kind\":null,\"name\":\"_destroyed\"}]},{\"extends\":null,\"module\":null,\"name\":\"TemplateActions1\",\"overrides\":[],\"properties\":[{\"default\":0,\"kind\":null,\"name\":\"open_modal\"},{\"default\":0,\"kind\":null,\"name\":\"close_modal\"}]},{\"extends\":null,\"module\":null,\"name\":\"MaterialTemplateActions1\",\"overrides\":[],\"properties\":[{\"default\":0,\"kind\":null,\"name\":\"open_modal\"},{\"default\":0,\"kind\":null,\"name\":\"close_modal\"}]}],\"roots\":{\"references\":[{\"attributes\":{\"axis_label\":\"k\",\"coordinates\":null,\"formatter\":{\"id\":\"1266\"},\"group\":null,\"major_label_policy\":{\"id\":\"1267\"},\"ticker\":{\"id\":\"1264\"}},\"id\":\"1234\",\"type\":\"LinearAxis\"},{\"attributes\":{},\"id\":\"1267\",\"type\":\"AllLabels\"},{\"attributes\":{\"coordinates\":null,\"group\":null,\"text\":\"Elbow Curve\",\"text_color\":\"black\",\"text_font_size\":\"12pt\"},\"id\":\"1226\",\"type\":\"Title\"},{\"attributes\":{\"axis_label\":\"inertia\",\"coordinates\":null,\"formatter\":{\"id\":\"1271\"},\"group\":null,\"major_label_policy\":{\"id\":\"1272\"},\"ticker\":{\"id\":\"1239\"}},\"id\":\"1238\",\"type\":\"LinearAxis\"},{\"attributes\":{\"margin\":[5,5,5,5],\"name\":\"HSpacer01074\",\"sizing_mode\":\"stretch_width\"},\"id\":\"1221\",\"type\":\"Spacer\"},{\"attributes\":{\"data\":{\"inertia\":{\"__ndarray__\":\"afSTWSBorEA3X2c1N06jQCtB6Ac7e5dAZu/rwng6jUBcBFhlnsF9QBxnwoTQCnJA6smDkW7fbEDwAPl5lIVmQPNA8gJ9HmBAfLnhoztNWUA=\",\"dtype\":\"float64\",\"order\":\"little\",\"shape\":[10]},\"k\":[1,2,3,4,5,6,7,8,9,10]},\"selected\":{\"id\":\"1256\"},\"selection_policy\":{\"id\":\"1279\"}},\"id\":\"1255\",\"type\":\"ColumnDataSource\"},{\"attributes\":{},\"id\":\"1256\",\"type\":\"Selection\"},{\"attributes\":{},\"id\":\"1232\",\"type\":\"LinearScale\"},{\"attributes\":{\"line_color\":\"#30a2da\",\"line_width\":2,\"x\":{\"field\":\"k\"},\"y\":{\"field\":\"inertia\"}},\"id\":\"1263\",\"type\":\"Line\"},{\"attributes\":{\"source\":{\"id\":\"1255\"}},\"id\":\"1262\",\"type\":\"CDSView\"},{\"attributes\":{\"callback\":null,\"renderers\":[{\"id\":\"1261\"}],\"tags\":[\"hv_created\"],\"tooltips\":[[\"k\",\"@{k}\"],[\"inertia\",\"@{inertia}\"]]},\"id\":\"1224\",\"type\":\"HoverTool\"},{\"attributes\":{},\"id\":\"1272\",\"type\":\"AllLabels\"},{\"attributes\":{\"ticks\":[1,2,3,4,5,6,7,8,9,10]},\"id\":\"1264\",\"type\":\"FixedTicker\"},{\"attributes\":{},\"id\":\"1242\",\"type\":\"SaveTool\"},{\"attributes\":{},\"id\":\"1239\",\"type\":\"BasicTicker\"},{\"attributes\":{},\"id\":\"1230\",\"type\":\"LinearScale\"},{\"attributes\":{\"end\":10.0,\"reset_end\":10.0,\"reset_start\":1.0,\"start\":1.0,\"tags\":[[[\"k\",\"k\",null]]]},\"id\":\"1222\",\"type\":\"Range1d\"},{\"attributes\":{\"axis\":{\"id\":\"1238\"},\"coordinates\":null,\"dimension\":1,\"grid_line_color\":null,\"group\":null,\"ticker\":null},\"id\":\"1241\",\"type\":\"Grid\"},{\"attributes\":{\"line_alpha\":0.1,\"line_color\":\"#30a2da\",\"line_width\":2,\"x\":{\"field\":\"k\"},\"y\":{\"field\":\"inertia\"}},\"id\":\"1259\",\"type\":\"Line\"},{\"attributes\":{\"line_color\":\"#30a2da\",\"line_width\":2,\"x\":{\"field\":\"k\"},\"y\":{\"field\":\"inertia\"}},\"id\":\"1258\",\"type\":\"Line\"},{\"attributes\":{},\"id\":\"1279\",\"type\":\"UnionRenderers\"},{\"attributes\":{\"end\":3989.5488252533914,\"reset_end\":3989.5488252533914,\"reset_start\":-252.27887668121434,\"start\":-252.27887668121434,\"tags\":[[[\"inertia\",\"inertia\",null]]]},\"id\":\"1223\",\"type\":\"Range1d\"},{\"attributes\":{},\"id\":\"1246\",\"type\":\"ResetTool\"},{\"attributes\":{},\"id\":\"1243\",\"type\":\"PanTool\"},{\"attributes\":{\"below\":[{\"id\":\"1234\"}],\"center\":[{\"id\":\"1237\"},{\"id\":\"1241\"}],\"height\":300,\"left\":[{\"id\":\"1238\"}],\"margin\":[5,5,5,5],\"min_border_bottom\":10,\"min_border_left\":10,\"min_border_right\":10,\"min_border_top\":10,\"renderers\":[{\"id\":\"1261\"}],\"sizing_mode\":\"fixed\",\"title\":{\"id\":\"1226\"},\"toolbar\":{\"id\":\"1248\"},\"width\":700,\"x_range\":{\"id\":\"1222\"},\"x_scale\":{\"id\":\"1230\"},\"y_range\":{\"id\":\"1223\"},\"y_scale\":{\"id\":\"1232\"}},\"id\":\"1225\",\"subtype\":\"Figure\",\"type\":\"Plot\"},{\"attributes\":{\"children\":[{\"id\":\"1221\"},{\"id\":\"1225\"},{\"id\":\"1282\"}],\"margin\":[0,0,0,0],\"name\":\"Row01070\",\"tags\":[\"embedded\"]},\"id\":\"1220\",\"type\":\"Row\"},{\"attributes\":{\"axis\":{\"id\":\"1234\"},\"coordinates\":null,\"grid_line_color\":null,\"group\":null,\"ticker\":null},\"id\":\"1237\",\"type\":\"Grid\"},{\"attributes\":{\"line_alpha\":0.2,\"line_color\":\"#30a2da\",\"line_width\":2,\"x\":{\"field\":\"k\"},\"y\":{\"field\":\"inertia\"}},\"id\":\"1260\",\"type\":\"Line\"},{\"attributes\":{},\"id\":\"1271\",\"type\":\"BasicTickFormatter\"},{\"attributes\":{\"coordinates\":null,\"data_source\":{\"id\":\"1255\"},\"glyph\":{\"id\":\"1258\"},\"group\":null,\"hover_glyph\":null,\"muted_glyph\":{\"id\":\"1260\"},\"nonselection_glyph\":{\"id\":\"1259\"},\"selection_glyph\":{\"id\":\"1263\"},\"view\":{\"id\":\"1262\"}},\"id\":\"1261\",\"type\":\"GlyphRenderer\"},{\"attributes\":{},\"id\":\"1244\",\"type\":\"WheelZoomTool\"},{\"attributes\":{\"bottom_units\":\"screen\",\"coordinates\":null,\"fill_alpha\":0.5,\"fill_color\":\"lightgrey\",\"group\":null,\"left_units\":\"screen\",\"level\":\"overlay\",\"line_alpha\":1.0,\"line_color\":\"black\",\"line_dash\":[4,4],\"line_width\":2,\"right_units\":\"screen\",\"syncable\":false,\"top_units\":\"screen\"},\"id\":\"1247\",\"type\":\"BoxAnnotation\"},{\"attributes\":{\"tools\":[{\"id\":\"1224\"},{\"id\":\"1242\"},{\"id\":\"1243\"},{\"id\":\"1244\"},{\"id\":\"1245\"},{\"id\":\"1246\"}]},\"id\":\"1248\",\"type\":\"Toolbar\"},{\"attributes\":{\"overlay\":{\"id\":\"1247\"}},\"id\":\"1245\",\"type\":\"BoxZoomTool\"},{\"attributes\":{},\"id\":\"1266\",\"type\":\"BasicTickFormatter\"},{\"attributes\":{\"margin\":[5,5,5,5],\"name\":\"HSpacer01075\",\"sizing_mode\":\"stretch_width\"},\"id\":\"1282\",\"type\":\"Spacer\"}],\"root_ids\":[\"1220\"]},\"title\":\"Bokeh Application\",\"version\":\"2.4.3\"}};\n",
       "    var render_items = [{\"docid\":\"5509ecd0-2a6a-4076-b029-19264af72dea\",\"root_ids\":[\"1220\"],\"roots\":{\"1220\":\"1a6614ca-9ee3-4aa3-b51c-705d6b1f0c77\"}}];\n",
       "    root.Bokeh.embed.embed_items_notebook(docs_json, render_items);\n",
       "    for (const render_item of render_items) {\n",
       "      for (const root_id of render_item.root_ids) {\n",
       "\tconst id_el = document.getElementById(root_id)\n",
       "\tif (id_el.children.length && (id_el.children[0].className === 'bk-root')) {\n",
       "\t  const root_el = id_el.children[0]\n",
       "\t  root_el.id = root_el.id + '-rendered'\n",
       "\t}\n",
       "      }\n",
       "    }\n",
       "  }\n",
       "  if (root.Bokeh !== undefined && root.Bokeh.Panel !== undefined) {\n",
       "    embed_document(root);\n",
       "  } else {\n",
       "    var attempts = 0;\n",
       "    var timer = setInterval(function(root) {\n",
       "      if (root.Bokeh !== undefined && root.Bokeh.Panel !== undefined) {\n",
       "        clearInterval(timer);\n",
       "        embed_document(root);\n",
       "      } else if (document.readyState == \"complete\") {\n",
       "        attempts++;\n",
       "        if (attempts > 200) {\n",
       "          clearInterval(timer);\n",
       "          console.log(\"Bokeh: ERROR: Unable to run BokehJS code because BokehJS library is missing\");\n",
       "        }\n",
       "      }\n",
       "    }, 25, root)\n",
       "  }\n",
       "})(window);</script>"
      ],
      "text/plain": [
       ":Curve   [k]   (inertia)"
      ]
     },
     "execution_count": 68,
     "metadata": {
      "application/vnd.holoviews_exec.v0+json": {
       "id": "1220"
      }
     },
     "output_type": "execute_result"
    }
   ],
   "source": [
    "# Create an elbow curve to find the best value for K.\n",
    "inertia = []\n",
    "k = list(range(1, 11))\n",
    "\n",
    "# Calculate the inertia for the range of K values\n",
    "for i in k:\n",
    "    km = KMeans(n_clusters=i, random_state=0)\n",
    "    km.fit(pcs_df)\n",
    "    inertia.append(km.inertia_)\n",
    "\n",
    "elbow_data = {'k': k, 'inertia':inertia}\n",
    "df_elbow = pd.DataFrame(elbow_data)\n",
    "df_elbow.hvplot.line(x='k', y='inertia', xticks=k, title='Elbow Curve')"
   ]
  },
  {
   "cell_type": "markdown",
   "metadata": {},
   "source": [
    "Running K-Means with `k=4`"
   ]
  },
  {
   "cell_type": "code",
   "execution_count": 69,
   "metadata": {},
   "outputs": [
    {
     "name": "stdout",
     "output_type": "stream",
     "text": [
      "[0 0 0 1 1 1 0 1 1 1 0 1 0 0 1 0 1 1 0 0 1 1 1 1 1 0 1 1 1 0 1 0 1 1 0 0 1\n",
      " 1 1 1 1 1 0 0 1 1 1 1 1 0 0 1 0 1 1 1 1 0 1 1 0 1 0 0 0 1 1 1 0 0 0 0 0 1\n",
      " 1 1 0 0 1 0 1 0 0 1 1 1 1 0 0 1 0 1 1 0 0 1 0 0 1 1 0 0 1 0 0 1 0 1 0 1 0\n",
      " 1 0 0 1 1 0 1 1 1 0 1 1 1 1 1 0 0 1 1 1 0 1 0 1 1 0 1 0 1 0 0 1 1 0 1 1 0\n",
      " 0 1 0 1 0 0 0 1 1 1 1 0 0 0 0 0 1 1 0 0 0 0 0 1 0 0 0 0 0 1 0 1 0 0 1 0 1\n",
      " 0 0 1 0 1 0 1 0 1 0 0 0 0 1 0 0 0 0 0 1 1 0 0 1 1 0 0 0 0 0 1 0 0 0 0 0 0\n",
      " 0 0 1 0 0 0 0 0 0 1 1 1 0 0 0 0 1 0 1 0 0 1 0 1 1 0 1 1 0 1 0 0 0 1 0 0 1\n",
      " 0 0 0 0 0 0 0 1 0 1 0 0 0 0 1 0 1 0 1 1 1 1 0 1 0 0 1 0 1 1 1 0 1 0 1 1 1\n",
      " 0 1 0 1 0 0 0 1 0 1 1 1 1 1 0 0 1 0 0 0 1 0 1 0 1 0 1 0 0 0 0 1 0 0 1 0 0\n",
      " 0 1 1 1 1 0 0 0 0 1 0 1 1 1 0 0 1 1 0 0 1 0 1 1 1 0 1 1 0 0 0 1 1 1 0 0 0\n",
      " 1 1 0 1 1 1 1 0 0 3 1 1 1 0 3 0 0 0 0 1 1 1 1 0 0 0 1 0 1 0 0 0 0 1 0 0 1\n",
      " 0 0 1 1 0 1 0 1 1 1 1 0 0 1 0 1 0 0 0 0 0 0 1 1 1 0 0 0 0 0 0 1 0 1 1 1 1\n",
      " 0 0 0 0 1 0 0 1 0 0 1 0 1 0 1 1 0 0 1 0 1 1 0 1 1 0 1 0 1 0 0 1 0 0 0 0 0\n",
      " 1 1 1 0 0 0 1 0 1 0 1 0 0 0 0 1 0 0 0 1 0 1 0 1 0 0 0 1 1 0 0 0 0 0 0 1 0\n",
      " 1 0 1 0 0 3 0 2 0 0 0 1 1 0]\n"
     ]
    }
   ],
   "source": [
    "# Initialize the K-Means model.\n",
    "km = KMeans(n_clusters=4, random_state=0)\n",
    "\n",
    "# Fit the model\n",
    "km.fit(pcs_df)\n",
    "\n",
    "# Predict clusters\n",
    "predictions = km.predict(pcs_df)\n",
    "print(predictions)"
   ]
  },
  {
   "cell_type": "code",
   "execution_count": 70,
   "metadata": {},
   "outputs": [
    {
     "name": "stdout",
     "output_type": "stream",
     "text": [
      "(532, 9)\n"
     ]
    }
   ],
   "source": [
    "# Create a new DataFrame including predicted clusters and cryptocurrencies features.\n",
    "# Concatentate the crypto_df and pcs_df DataFrames on the same columns.\n",
    "clustered_df = pd.concat([crypto_df,pcs_df], axis=1, join=\"inner\")\n",
    "\n",
    "\n",
    "#  Add a new column, \"CoinName\" to the clustered_df DataFrame that holds the names of the cryptocurrencies. \n",
    "clustered_df = pd.concat([clustered_df, coinname_df], axis=1, join=\"inner\")\n",
    "\n",
    "\n",
    "#  Add a new column, \"Class\" to the clustered_df DataFrame that holds the predictions.\n",
    "clustered_df['Class'] = predictions\n",
    "\n",
    "# Print the shape of the clustered_df\n",
    "print(clustered_df.shape)"
   ]
  },
  {
   "cell_type": "code",
   "execution_count": 71,
   "metadata": {},
   "outputs": [
    {
     "data": {
      "text/html": [
       "<div>\n",
       "<style scoped>\n",
       "    .dataframe tbody tr th:only-of-type {\n",
       "        vertical-align: middle;\n",
       "    }\n",
       "\n",
       "    .dataframe tbody tr th {\n",
       "        vertical-align: top;\n",
       "    }\n",
       "\n",
       "    .dataframe thead th {\n",
       "        text-align: right;\n",
       "    }\n",
       "</style>\n",
       "<table border=\"1\" class=\"dataframe\">\n",
       "  <thead>\n",
       "    <tr style=\"text-align: right;\">\n",
       "      <th></th>\n",
       "      <th>Algorithm</th>\n",
       "      <th>ProofType</th>\n",
       "      <th>TotalCoinsMined</th>\n",
       "      <th>TotalCoinSupply</th>\n",
       "      <th>PC 1</th>\n",
       "      <th>PC 2</th>\n",
       "      <th>PC 3</th>\n",
       "      <th>CoinName</th>\n",
       "      <th>Class</th>\n",
       "    </tr>\n",
       "  </thead>\n",
       "  <tbody>\n",
       "    <tr>\n",
       "      <th>42</th>\n",
       "      <td>Scrypt</td>\n",
       "      <td>PoW/PoS</td>\n",
       "      <td>4.199995e+01</td>\n",
       "      <td>42</td>\n",
       "      <td>-0.336184</td>\n",
       "      <td>1.010819</td>\n",
       "      <td>0.191642</td>\n",
       "      <td>42 Coin</td>\n",
       "      <td>0</td>\n",
       "    </tr>\n",
       "    <tr>\n",
       "      <th>404</th>\n",
       "      <td>Scrypt</td>\n",
       "      <td>PoW/PoS</td>\n",
       "      <td>1.055185e+09</td>\n",
       "      <td>532000000</td>\n",
       "      <td>-0.319517</td>\n",
       "      <td>1.010844</td>\n",
       "      <td>0.191768</td>\n",
       "      <td>404Coin</td>\n",
       "      <td>0</td>\n",
       "    </tr>\n",
       "    <tr>\n",
       "      <th>1337</th>\n",
       "      <td>X13</td>\n",
       "      <td>PoW/PoS</td>\n",
       "      <td>2.927942e+10</td>\n",
       "      <td>314159265359</td>\n",
       "      <td>2.330158</td>\n",
       "      <td>1.540700</td>\n",
       "      <td>0.206046</td>\n",
       "      <td>EliteCoin</td>\n",
       "      <td>0</td>\n",
       "    </tr>\n",
       "    <tr>\n",
       "      <th>BTC</th>\n",
       "      <td>SHA-256</td>\n",
       "      <td>PoW</td>\n",
       "      <td>1.792718e+07</td>\n",
       "      <td>21000000</td>\n",
       "      <td>-0.146125</td>\n",
       "      <td>-1.345151</td>\n",
       "      <td>-0.106815</td>\n",
       "      <td>Bitcoin</td>\n",
       "      <td>1</td>\n",
       "    </tr>\n",
       "    <tr>\n",
       "      <th>ETH</th>\n",
       "      <td>Ethash</td>\n",
       "      <td>PoW</td>\n",
       "      <td>1.076842e+08</td>\n",
       "      <td>0</td>\n",
       "      <td>-0.138139</td>\n",
       "      <td>-2.031683</td>\n",
       "      <td>-0.116673</td>\n",
       "      <td>Ethereum</td>\n",
       "      <td>1</td>\n",
       "    </tr>\n",
       "    <tr>\n",
       "      <th>LTC</th>\n",
       "      <td>Scrypt</td>\n",
       "      <td>PoW</td>\n",
       "      <td>6.303924e+07</td>\n",
       "      <td>84000000</td>\n",
       "      <td>-0.177838</td>\n",
       "      <td>-1.107319</td>\n",
       "      <td>0.021363</td>\n",
       "      <td>Litecoin</td>\n",
       "      <td>1</td>\n",
       "    </tr>\n",
       "    <tr>\n",
       "      <th>DASH</th>\n",
       "      <td>X11</td>\n",
       "      <td>PoW/PoS</td>\n",
       "      <td>9.031294e+06</td>\n",
       "      <td>22000000</td>\n",
       "      <td>-0.392413</td>\n",
       "      <td>1.239011</td>\n",
       "      <td>0.149179</td>\n",
       "      <td>Dash</td>\n",
       "      <td>0</td>\n",
       "    </tr>\n",
       "    <tr>\n",
       "      <th>XMR</th>\n",
       "      <td>CryptoNight-V7</td>\n",
       "      <td>PoW</td>\n",
       "      <td>1.720114e+07</td>\n",
       "      <td>0</td>\n",
       "      <td>-0.152776</td>\n",
       "      <td>-2.287447</td>\n",
       "      <td>-0.169208</td>\n",
       "      <td>Monero</td>\n",
       "      <td>1</td>\n",
       "    </tr>\n",
       "    <tr>\n",
       "      <th>ETC</th>\n",
       "      <td>Ethash</td>\n",
       "      <td>PoW</td>\n",
       "      <td>1.133597e+08</td>\n",
       "      <td>210000000</td>\n",
       "      <td>-0.136581</td>\n",
       "      <td>-2.031792</td>\n",
       "      <td>-0.116663</td>\n",
       "      <td>Ethereum Classic</td>\n",
       "      <td>1</td>\n",
       "    </tr>\n",
       "    <tr>\n",
       "      <th>ZEC</th>\n",
       "      <td>Equihash</td>\n",
       "      <td>PoW</td>\n",
       "      <td>7.383056e+06</td>\n",
       "      <td>21000000</td>\n",
       "      <td>-0.139603</td>\n",
       "      <td>-2.018887</td>\n",
       "      <td>-0.161933</td>\n",
       "      <td>ZCash</td>\n",
       "      <td>1</td>\n",
       "    </tr>\n",
       "  </tbody>\n",
       "</table>\n",
       "</div>"
      ],
      "text/plain": [
       "           Algorithm ProofType  TotalCoinsMined TotalCoinSupply      PC 1  \\\n",
       "42            Scrypt   PoW/PoS     4.199995e+01              42 -0.336184   \n",
       "404           Scrypt   PoW/PoS     1.055185e+09       532000000 -0.319517   \n",
       "1337             X13   PoW/PoS     2.927942e+10    314159265359  2.330158   \n",
       "BTC          SHA-256       PoW     1.792718e+07        21000000 -0.146125   \n",
       "ETH           Ethash       PoW     1.076842e+08               0 -0.138139   \n",
       "LTC           Scrypt       PoW     6.303924e+07        84000000 -0.177838   \n",
       "DASH             X11   PoW/PoS     9.031294e+06        22000000 -0.392413   \n",
       "XMR   CryptoNight-V7       PoW     1.720114e+07               0 -0.152776   \n",
       "ETC           Ethash       PoW     1.133597e+08       210000000 -0.136581   \n",
       "ZEC         Equihash       PoW     7.383056e+06        21000000 -0.139603   \n",
       "\n",
       "          PC 2      PC 3          CoinName  Class  \n",
       "42    1.010819  0.191642           42 Coin      0  \n",
       "404   1.010844  0.191768           404Coin      0  \n",
       "1337  1.540700  0.206046         EliteCoin      0  \n",
       "BTC  -1.345151 -0.106815           Bitcoin      1  \n",
       "ETH  -2.031683 -0.116673          Ethereum      1  \n",
       "LTC  -1.107319  0.021363          Litecoin      1  \n",
       "DASH  1.239011  0.149179              Dash      0  \n",
       "XMR  -2.287447 -0.169208            Monero      1  \n",
       "ETC  -2.031792 -0.116663  Ethereum Classic      1  \n",
       "ZEC  -2.018887 -0.161933             ZCash      1  "
      ]
     },
     "execution_count": 71,
     "metadata": {},
     "output_type": "execute_result"
    }
   ],
   "source": [
    "clustered_df.head(10)"
   ]
  },
  {
   "cell_type": "markdown",
   "metadata": {},
   "source": [
    "### Deliverable 4: Visualizing Cryptocurrencies Results\n",
    "\n",
    "#### 3D-Scatter with Clusters"
   ]
  },
  {
   "cell_type": "code",
   "execution_count": 85,
   "metadata": {},
   "outputs": [
    {
     "data": {
      "application/vnd.plotly.v1+json": {
       "config": {
        "plotlyServerURL": "https://plot.ly"
       },
       "data": [
        {
         "customdata": [
          [
           "Scrypt",
           "PoW/PoS"
          ],
          [
           "Scrypt",
           "PoW/PoS"
          ],
          [
           "X13",
           "PoW/PoS"
          ],
          [
           "X11",
           "PoW/PoS"
          ],
          [
           "SHA-512",
           "PoS"
          ],
          [
           "SHA-256",
           "PoW/PoS"
          ],
          [
           "SHA-256",
           "PoS"
          ],
          [
           "X15",
           "PoW/PoS"
          ],
          [
           "Scrypt",
           "PoW/PoS"
          ],
          [
           "Scrypt",
           "PoW/PoS"
          ],
          [
           "Scrypt",
           "PoW/PoS"
          ],
          [
           "Scrypt",
           "PoW/PoS"
          ],
          [
           "Scrypt",
           "PoW/PoS"
          ],
          [
           "Scrypt",
           "PoC"
          ],
          [
           "Groestl",
           "PoW/PoS"
          ],
          [
           "PoS",
           "PoS"
          ],
          [
           "Scrypt",
           "PoS/PoW/PoT"
          ],
          [
           "Scrypt",
           "PoW/PoS"
          ],
          [
           "X11",
           "PoS"
          ],
          [
           "X11",
           "PoW/PoS"
          ],
          [
           "SHA3",
           "PoW/PoS"
          ],
          [
           "Scrypt",
           "PoS"
          ],
          [
           "SHA-256",
           "PoW/PoS"
          ],
          [
           "Scrypt",
           "PoS"
          ],
          [
           "X13",
           "PoW/PoS"
          ],
          [
           "X13",
           "PoW/PoS"
          ],
          [
           "NeoScrypt",
           "PoW/PoS"
          ],
          [
           "Scrypt",
           "PoW/PoS"
          ],
          [
           "Scrypt",
           "PoW/PoS"
          ],
          [
           "Scrypt",
           "PoW/PoS"
          ],
          [
           "X11",
           "PoS"
          ],
          [
           "X11",
           "PoW/PoS"
          ],
          [
           "Multiple",
           "PoS"
          ],
          [
           "PHI1612",
           "PoS"
          ],
          [
           "X11",
           "PoW/PoS"
          ],
          [
           "Scrypt",
           "PoW/PoS"
          ],
          [
           "Scrypt",
           "PoW/PoS"
          ],
          [
           "Scrypt",
           "PoST"
          ],
          [
           "X11",
           "PoW/PoS"
          ],
          [
           "Multiple",
           "PoS"
          ],
          [
           "X13",
           "PoW/PoS"
          ],
          [
           "Scrypt",
           "PoW/PoS"
          ],
          [
           "Shabal256",
           "PoC"
          ],
          [
           "Counterparty",
           "PoS"
          ],
          [
           "SHA-256",
           "PoW/PoS"
          ],
          [
           "Groestl",
           "PoW/PoS"
          ],
          [
           "Scrypt",
           "PoS"
          ],
          [
           "X13",
           "PoW/PoS"
          ],
          [
           "Scrypt",
           "PoS"
          ],
          [
           "Scrypt",
           "PoW/PoS"
          ],
          [
           "X13",
           "PoW/PoS"
          ],
          [
           "X11",
           "PoS"
          ],
          [
           "Scrypt",
           "PoW/PoS"
          ],
          [
           "X11",
           "PoW/PoS"
          ],
          [
           "SHA3",
           "PoW/nPoS"
          ],
          [
           "QUAIT",
           "PoW/PoS"
          ],
          [
           "X11",
           "PoS/PoW"
          ],
          [
           "Scrypt",
           "PoS"
          ],
          [
           "X13",
           "PoW/PoS"
          ],
          [
           "SHA-256",
           "PoW/PoS"
          ],
          [
           "X15",
           "PoW/PoS"
          ],
          [
           "BLAKE256",
           "PoW/PoS"
          ],
          [
           "SHA-256",
           "PoW/PoS"
          ],
          [
           "X11",
           "PoW/PoS"
          ],
          [
           "SHA-256",
           "PoW/PoS"
          ],
          [
           "NIST5",
           "PoW/PoS"
          ],
          [
           "Scrypt",
           "PoW/PoS"
          ],
          [
           "Scrypt",
           "PoS"
          ],
          [
           "X11",
           "PoW/PoS"
          ],
          [
           "Scrypt",
           "PoS"
          ],
          [
           "SHA-256",
           "PoW/PoS"
          ],
          [
           "Scrypt",
           "PoC"
          ],
          [
           "PoS",
           "PoS"
          ],
          [
           "X11",
           "PoW/PoS"
          ],
          [
           "SHA-256",
           "PoW/PoS"
          ],
          [
           "SHA-256",
           "PoW/PoS"
          ],
          [
           "NIST5",
           "PoW/PoS"
          ],
          [
           "X11",
           "PoW/PoS"
          ],
          [
           "POS 3.0",
           "PoS"
          ],
          [
           "Scrypt",
           "PoW/PoS"
          ],
          [
           "Scrypt",
           "PoW/PoS"
          ],
          [
           "Scrypt",
           "PoW/PoS"
          ],
          [
           "X13",
           "PoS"
          ],
          [
           "X11",
           "PoS"
          ],
          [
           "X11",
           "PoW/PoS"
          ],
          [
           "Scrypt",
           "PoW/PoS"
          ],
          [
           "SHA-256",
           "PoW/PoS"
          ],
          [
           "X11",
           "PoW/PoS"
          ],
          [
           "Scrypt",
           "PoW/PoS"
          ],
          [
           "Scrypt",
           "PoW/PoS"
          ],
          [
           "Scrypt",
           "PoS"
          ],
          [
           "Scrypt",
           "PoW/PoW"
          ],
          [
           "SHA-256D",
           "PoW/PoS"
          ],
          [
           "PoS",
           "PoS"
          ],
          [
           "Scrypt",
           "PoW/PoS"
          ],
          [
           "X11",
           "PoW/PoS"
          ],
          [
           "PoS",
           "PoS"
          ],
          [
           "X13",
           "PoS"
          ],
          [
           "X14",
           "PoW/PoS"
          ],
          [
           "PoS",
           "PoS"
          ],
          [
           "SHA-256D",
           "PoW/PoS"
          ],
          [
           "DPoS",
           "DPoS"
          ],
          [
           "X11",
           "PoW/PoS"
          ],
          [
           "X13",
           "PoW/PoS"
          ],
          [
           "X11",
           "PoW/PoS"
          ],
          [
           "PoS",
           "PoS"
          ],
          [
           "Scrypt",
           "PoW/PoS"
          ],
          [
           "Scrypt",
           "PoW/PoS"
          ],
          [
           "PoS",
           "PoS"
          ],
          [
           "X11",
           "PoW/PoS"
          ],
          [
           "SHA-256",
           "PoW/PoS"
          ],
          [
           "Scrypt",
           "PoW/PoS"
          ],
          [
           "X11",
           "TPoS"
          ],
          [
           "Scrypt",
           "PoW/PoS"
          ],
          [
           "Scrypt",
           "PoW/PoS"
          ],
          [
           "X11",
           "PoW/PoS"
          ],
          [
           "Scrypt",
           "PoW/PoS"
          ],
          [
           "Scrypt",
           "PoS"
          ],
          [
           "Scrypt",
           "PoW/PoS"
          ],
          [
           "Scrypt",
           "PoW/PoS"
          ],
          [
           "Quark",
           "PoS"
          ],
          [
           "QuBit",
           "PoW/PoS"
          ],
          [
           "Scrypt",
           "PoW/PoS"
          ],
          [
           "SHA-256",
           "PoW/PoS"
          ],
          [
           "X11",
           "PoW/PoS"
          ],
          [
           "Scrypt",
           "PoW/PoS"
          ],
          [
           "Scrypt",
           "PoW/PoS"
          ],
          [
           "Scrypt",
           "PoS"
          ],
          [
           "Scrypt",
           "PoW/PoS "
          ],
          [
           "X13",
           "PoS"
          ],
          [
           "Scrypt",
           "PoW/PoS"
          ],
          [
           "Scrypt",
           "PoS"
          ],
          [
           "X11",
           "PoW/PoS"
          ],
          [
           "Blake2S",
           "PoW/PoS"
          ],
          [
           "X11",
           "PoW/PoS"
          ],
          [
           "PoS",
           "PoS"
          ],
          [
           "X11",
           "PoW/PoS"
          ],
          [
           "PoS",
           "PoS"
          ],
          [
           "X11",
           "PoW/PoS"
          ],
          [
           "Scrypt",
           "PoW/PoS"
          ],
          [
           "Scrypt",
           "PoW/PoS"
          ],
          [
           "Scrypt",
           "PoW/PoS"
          ],
          [
           "SHA-256",
           "PoS"
          ],
          [
           "X11",
           "PoW/PoS"
          ],
          [
           "Scrypt",
           "PoS"
          ],
          [
           "PoS",
           "PoS"
          ],
          [
           "Scrypt",
           "PoW/PoS"
          ],
          [
           "X15",
           "PoW/PoS"
          ],
          [
           "SHA-256",
           "PoS"
          ],
          [
           "POS 3.0",
           "PoS"
          ],
          [
           "536",
           "PoW/PoS"
          ],
          [
           "NIST5",
           "PoW/PoS"
          ],
          [
           "NIST5",
           "PoW/PoS"
          ],
          [
           "Skein",
           "PoW/PoS"
          ],
          [
           "X13",
           "PoW/PoS"
          ],
          [
           "Scrypt",
           "PoW/PoS"
          ],
          [
           "X13",
           "PoW/PoS"
          ],
          [
           "SkunkHash v2 Raptor",
           "PoS"
          ],
          [
           "Skein",
           "PoW/PoS"
          ],
          [
           "X11",
           "PoW/PoS"
          ],
          [
           "Scrypt",
           "PoS"
          ],
          [
           "VeChainThor Authority",
           "Proof of Authority"
          ],
          [
           "PoS",
           "PoS"
          ],
          [
           "Scrypt",
           "PoW/PoS"
          ],
          [
           "Scrypt",
           "PoW/PoS"
          ],
          [
           "SHA-512",
           "PoS"
          ],
          [
           "Ouroboros",
           "PoS"
          ],
          [
           "X11",
           "PoW/PoS"
          ],
          [
           "NeoScrypt",
           "PoW/PoS"
          ],
          [
           "Scrypt",
           "PoW/PoS"
          ],
          [
           "Lyra2REv2",
           "PoS"
          ],
          [
           "Scrypt",
           "PoW/PoS"
          ],
          [
           "SHA-256",
           "PoW/PoS"
          ],
          [
           "NIST5",
           "PoW/PoS"
          ],
          [
           "PHI1612",
           "PoW/PoS"
          ],
          [
           "Scrypt",
           "PoW/PoS"
          ],
          [
           "Quark",
           "PoW/PoS"
          ],
          [
           "POS 2.0",
           "PoS"
          ],
          [
           "Scrypt",
           "PoW/PoS"
          ],
          [
           "SHA-256",
           "PoS"
          ],
          [
           "X11",
           "PoW/PoS"
          ],
          [
           "DPoS",
           "DPoS"
          ],
          [
           "NIST5",
           "PoW/PoS"
          ],
          [
           "X13",
           "PoW/PoS"
          ],
          [
           "Scrypt",
           "PoW/PoS"
          ],
          [
           "NIST5",
           "PoS"
          ],
          [
           "Quark",
           "PoS"
          ],
          [
           "Scrypt",
           "PoW/PoS"
          ],
          [
           "Scrypt",
           "PoW/PoS"
          ],
          [
           "X11",
           "PoW/PoS"
          ],
          [
           "Quark",
           "PoS"
          ],
          [
           "Scrypt",
           "PoW/PoS"
          ],
          [
           "Scrypt",
           "PoW/PoS"
          ],
          [
           "X11",
           "PoS"
          ],
          [
           "POS 3.0",
           "PoS"
          ],
          [
           "Ethash",
           "PoS"
          ],
          [
           "Scrypt",
           "PoW and PoS"
          ],
          [
           "Scrypt",
           "PoW/PoS"
          ],
          [
           "X13",
           "PoS"
          ],
          [
           "Proof-of-BibleHash",
           "POBh"
          ],
          [
           "C11",
           "PoW/PoS"
          ],
          [
           "X11",
           "PoW/PoS"
          ],
          [
           "XEVAN",
           "PoW/PoS"
          ],
          [
           "Scrypt",
           "PoS"
          ],
          [
           "VBFT",
           "PoS"
          ],
          [
           "NIST5",
           "PoW/PoS"
          ],
          [
           "Scrypt",
           "PoW/PoS"
          ],
          [
           "Scrypt",
           "PoW/PoS"
          ],
          [
           "Scrypt",
           "PoS"
          ],
          [
           "Green Protocol",
           "PoS"
          ],
          [
           "PoS",
           "PoS"
          ],
          [
           "Scrypt",
           "PoW/PoS"
          ],
          [
           "Semux BFT consensus",
           "DPoS"
          ],
          [
           "Quark",
           "PoW/PoS"
          ],
          [
           "PoS",
           "PoS"
          ],
          [
           "X16R",
           "PoS"
          ],
          [
           "Scrypt",
           "PoW/PoS"
          ],
          [
           "XEVAN",
           "PoS/PoW"
          ],
          [
           "Scrypt",
           "PoS"
          ],
          [
           "Scrypt",
           "PoW/PoS"
          ],
          [
           "Scrypt",
           "PoS"
          ],
          [
           "SHA-256D",
           "PoW/PoS"
          ],
          [
           "Scrypt",
           "PoW/PoS"
          ],
          [
           "X15",
           "PoS"
          ],
          [
           "Scrypt",
           "HPoW"
          ],
          [
           "Quark",
           "PoS"
          ],
          [
           "SHA-256",
           "PoS"
          ],
          [
           "DPoS",
           "PoS"
          ],
          [
           "X16R",
           "PoW/PoS"
          ],
          [
           "Quark",
           "PoS"
          ],
          [
           "Quark",
           "PoW/PoS"
          ],
          [
           "Scrypt",
           "PoS"
          ],
          [
           "Lyra2REv2",
           "PoW/PoS"
          ],
          [
           "Quark",
           "PoS"
          ],
          [
           "Scrypt",
           "PoW/PoS"
          ],
          [
           "X11",
           "PoS"
          ],
          [
           "X11",
           "PoW/PoS"
          ],
          [
           "Scrypt",
           "PoS"
          ],
          [
           "PoS",
           "PoS"
          ],
          [
           "Keccak",
           "PoW/PoS"
          ],
          [
           "X11",
           "PoS"
          ],
          [
           "Scrypt",
           "PoW/PoS"
          ],
          [
           "SHA-512",
           "Zero-Knowledge Proof"
          ],
          [
           "ECC 256K1",
           "DPOS"
          ],
          [
           "XEVAN",
           "PoS"
          ],
          [
           "XEVAN",
           "Pos"
          ],
          [
           "X11",
           "PoS"
          ],
          [
           "Quark",
           "PoW/PoS"
          ],
          [
           "Equihash",
           "PoS"
          ],
          [
           "Scrypt",
           "PoW/PoS"
          ],
          [
           "Quark",
           "PoW/PoS"
          ],
          [
           "Quark",
           "PoS"
          ],
          [
           "Scrypt",
           "PoW/PoS"
          ],
          [
           "X11",
           "PoS"
          ],
          [
           "Scrypt",
           "PoW/PoS"
          ],
          [
           "XEVAN",
           "PoW/PoS"
          ],
          [
           "SHA-256D",
           "PoW/PoS"
          ],
          [
           "X11",
           "PoW/PoS"
          ],
          [
           "X11",
           "PoW/PoS"
          ],
          [
           "DPoS",
           "DPoS"
          ],
          [
           "Scrypt",
           "PoW/PoS"
          ],
          [
           "X11",
           "PoW/PoS"
          ],
          [
           "Scrypt",
           "PoW/PoS"
          ],
          [
           "Scrypt",
           "PoW/PoS"
          ],
          [
           "SHA-256",
           "PoS"
          ],
          [
           "Scrypt",
           "PoW/PoS"
          ],
          [
           "X11",
           "PoW/PoS"
          ],
          [
           "Scrypt",
           "PoW/PoS"
          ],
          [
           "SHA-256",
           "PoW/PoS"
          ],
          [
           "X11",
           "PoW/PoS"
          ],
          [
           "Scrypt",
           "PoW/PoS"
          ],
          [
           "Scrypt",
           "PoW/PoS"
          ],
          [
           "X11",
           "PoW/PoS"
          ],
          [
           "Scrypt",
           "PoW/PoS"
          ],
          [
           "PoS",
           "PoS"
          ],
          [
           "X11",
           "Proof of Trust"
          ],
          [
           "SHA-256",
           "PoW/PoS"
          ],
          [
           "DPoS",
           "DPoS"
          ],
          [
           "Scrypt",
           "PoS"
          ],
          [
           "Scrypt",
           "PoW/PoS"
          ],
          [
           "NeoScrypt",
           "PoW/PoS"
          ],
          [
           "X13",
           "PoW/PoS"
          ],
          [
           "DPoS",
           "DPoS"
          ],
          [
           "DPoS",
           "DPoS"
          ],
          [
           "SHA-256",
           "PoS"
          ],
          [
           "PoS",
           "PoS"
          ],
          [
           "PoS",
           "PoS/LPoS"
          ],
          [
           "SHA-256",
           "DPoS"
          ],
          [
           "Scrypt",
           "PoW/PoS"
          ],
          [
           "Scrypt",
           "PoS"
          ]
         ],
         "hovertemplate": "<b>%{hovertext}</b><br><br>Class=%{marker.color}<br>PC 1=%{x}<br>PC 2=%{y}<br>PC 3=%{z}<br>Algorithm=%{customdata[0]}<br>ProofType=%{customdata[1]}<extra></extra>",
         "hovertext": [
          "42 Coin",
          "404Coin",
          "EliteCoin",
          "Dash",
          "Bitshares",
          "BitcoinDark",
          "PayCoin",
          "KoboCoin",
          "Aurora Coin",
          "BlueCoin",
          "EnergyCoin",
          "BitBar",
          "CryptoBullion",
          "CasinoCoin",
          "Diamond",
          "Exclusive Coin",
          "FlutterCoin",
          "HoboNickels",
          "HyperStake",
          "IOCoin",
          "MaxCoin",
          "MintCoin",
          "MazaCoin",
          "Nautilus Coin",
          "NavCoin",
          "OpalCoin",
          "Orbitcoin",
          "PotCoin",
          "PhoenixCoin",
          "Reddcoin",
          "SuperCoin",
          "SyncCoin",
          "TeslaCoin",
          "TittieCoin",
          "TorCoin",
          "UnitaryStatus Dollar",
          "UltraCoin",
          "VeriCoin",
          "X11 Coin",
          "Crypti",
          "StealthCoin",
          "ZCC Coin",
          "BurstCoin",
          "StorjCoin",
          "Neutron",
          "FairCoin",
          "RubyCoin",
          "Kore",
          "Dnotes",
          "8BIT Coin",
          "Sativa Coin",
          "Ucoin",
          "Vtorrent",
          "IslaCoin",
          "Nexus",
          "Droidz",
          "Squall Coin",
          "Diggits",
          "Paycon",
          "Emercoin",
          "EverGreenCoin",
          "Decred",
          "EDRCoin",
          "Hitcoin",
          "DubaiCoin",
          "PWR Coin",
          "BillaryCoin",
          "GPU Coin",
          "EuropeCoin",
          "ZeitCoin",
          "SwingCoin",
          "SafeExchangeCoin",
          "Nebuchadnezzar",
          "Ratecoin",
          "Revenu",
          "Clockcoin",
          "VIP Tokens",
          "BitSend",
          "Let it Ride",
          "PutinCoin",
          "iBankCoin",
          "Frankywillcoin",
          "MudraCoin",
          "Lutetium Coin",
          "GoldBlocks",
          "CarterCoin",
          "BitTokens",
          "MustangCoin",
          "ZoneCoin",
          "RootCoin",
          "BitCurrency",
          "Swiscoin",
          "BuzzCoin",
          "Opair",
          "PesoBit",
          "Halloween Coin",
          "CoffeeCoin",
          "RoyalCoin",
          "GanjaCoin V2",
          "TeamUP",
          "LanaCoin",
          "ARK",
          "InsaneCoin",
          "EmberCoin",
          "XenixCoin",
          "FreeCoin",
          "PLNCoin",
          "AquariusCoin",
          "Creatio",
          "Eternity",
          "Eurocoin",
          "BitcoinFast",
          "Stakenet",
          "BitConnect Coin",
          "MoneyCoin",
          "Enigma",
          "Russiacoin",
          "PandaCoin",
          "GameUnits",
          "GAKHcoin",
          "Allsafe",
          "LiteCreed",
          "Klingon Empire Darsek",
          "Internet of People",
          "KushCoin",
          "Printerium",
          "Impeach",
          "Zilbercoin",
          "FirstCoin",
          "FindCoin",
          "OpenChat",
          "RenosCoin",
          "VirtacoinPlus",
          "TajCoin",
          "Impact",
          "Atmos",
          "HappyCoin",
          "MacronCoin",
          "Condensate",
          "Independent Money System",
          "ArgusCoin",
          "LomoCoin",
          "ProCurrency",
          "GoldReserve",
          "GrowthCoin",
          "Phreak",
          "Degas Coin",
          "HTML5 Coin",
          "Ultimate Secure Cash",
          "QTUM",
          "Espers",
          "Denarius",
          "Virta Unique Coin",
          "Bitcoin Planet",
          "BritCoin",
          "Linda",
          "DeepOnion",
          "Signatum",
          "Cream",
          "Monoeci",
          "Draftcoin",
          "Vechain",
          "Stakecoin",
          "CoinonatX",
          "Ethereum Dark",
          "Obsidian",
          "Cardano",
          "Regalcoin",
          "TrezarCoin",
          "TerraNovaCoin",
          "Rupee",
          "WomenCoin",
          "Theresa May Coin",
          "NamoCoin",
          "LUXCoin",
          "Xios",
          "Bitcloud 2.0",
          "KekCoin",
          "BlackholeCoin",
          "Infinity Economics",
          "Magnet",
          "Lamden Tau",
          "Electra",
          "Bitcoin Diamond",
          "Cash & Back Coin",
          "Bulwark",
          "Kalkulus",
          "GermanCoin",
          "LiteCoin Ultra",
          "PhantomX",
          "Digiwage",
          "Trollcoin",
          "Litecoin Plus",
          "Monkey Project",
          "TokenPay",
          "1717 Masonic Commemorative Token",
          "My Big Coin",
          "Unified Society USDEX",
          "Tokyo Coin",
          "BiblePay",
          "Stipend",
          "Pushi",
          "Ellerium",
          "Velox",
          "Ontology",
          "Bitspace",
          "Briacoin",
          "Ignition",
          "MedicCoin",
          "Bitcoin Green",
          "Deviant Coin",
          "Abjcoin",
          "Semux",
          "Carebit",
          "Zealium",
          "Proton",
          "iDealCash",
          "Bitcoin Incognito",
          "HollyWoodCoin",
          "Swisscoin",
          "Xt3ch",
          "TheVig",
          "EmaratCoin",
          "Dekado",
          "Lynx",
          "Poseidon Quark",
          "BitcoinWSpectrum",
          "Muse",
          "Trivechain",
          "Dystem",
          "Giant",
          "Peony Coin",
          "Absolute Coin",
          "Vitae",
          "TPCash",
          "ARENON",
          "EUNO",
          "MMOCoin",
          "Ketan",
          "XDNA",
          "PAXEX",
          "ThunderStake",
          "Kcash",
          "Acute Angle Cloud",
          "Bettex coin",
          "BitMoney",
          "Junson Ming Chan Coin",
          "HerbCoin",
          "PirateCash",
          "Oduwa",
          "Galilel",
          "Crypto Sports",
          "Credit",
          "Dash Platinum",
          "Nasdacoin",
          "Beetle Coin",
          "Titan Coin",
          "Award",
          "Insane Coin",
          "ALAX",
          "LiteDoge",
          "TruckCoin",
          "OrangeCoin",
          "BitstarCoin",
          "NeosCoin",
          "HyperCoin",
          "PinkCoin",
          "AudioCoin",
          "IncaKoin",
          "Piggy Coin",
          "Genstake",
          "XiaoMiCoin",
          "CapriCoin",
          " ClubCoin",
          "Radium",
          "Creditbit ",
          "OKCash",
          "Lisk",
          "HiCoin",
          "WhiteCoin",
          "FriendshipCoin",
          "Triangles Coin",
          "EOS",
          "Oxycoin",
          "TigerCash",
          "Particl",
          "Nxt",
          "ZEPHYR",
          "Gapcoin",
          "BitcoinPlus"
         ],
         "legendgroup": "0",
         "marker": {
          "color": [
           0,
           0,
           0,
           0,
           0,
           0,
           0,
           0,
           0,
           0,
           0,
           0,
           0,
           0,
           0,
           0,
           0,
           0,
           0,
           0,
           0,
           0,
           0,
           0,
           0,
           0,
           0,
           0,
           0,
           0,
           0,
           0,
           0,
           0,
           0,
           0,
           0,
           0,
           0,
           0,
           0,
           0,
           0,
           0,
           0,
           0,
           0,
           0,
           0,
           0,
           0,
           0,
           0,
           0,
           0,
           0,
           0,
           0,
           0,
           0,
           0,
           0,
           0,
           0,
           0,
           0,
           0,
           0,
           0,
           0,
           0,
           0,
           0,
           0,
           0,
           0,
           0,
           0,
           0,
           0,
           0,
           0,
           0,
           0,
           0,
           0,
           0,
           0,
           0,
           0,
           0,
           0,
           0,
           0,
           0,
           0,
           0,
           0,
           0,
           0,
           0,
           0,
           0,
           0,
           0,
           0,
           0,
           0,
           0,
           0,
           0,
           0,
           0,
           0,
           0,
           0,
           0,
           0,
           0,
           0,
           0,
           0,
           0,
           0,
           0,
           0,
           0,
           0,
           0,
           0,
           0,
           0,
           0,
           0,
           0,
           0,
           0,
           0,
           0,
           0,
           0,
           0,
           0,
           0,
           0,
           0,
           0,
           0,
           0,
           0,
           0,
           0,
           0,
           0,
           0,
           0,
           0,
           0,
           0,
           0,
           0,
           0,
           0,
           0,
           0,
           0,
           0,
           0,
           0,
           0,
           0,
           0,
           0,
           0,
           0,
           0,
           0,
           0,
           0,
           0,
           0,
           0,
           0,
           0,
           0,
           0,
           0,
           0,
           0,
           0,
           0,
           0,
           0,
           0,
           0,
           0,
           0,
           0,
           0,
           0,
           0,
           0,
           0,
           0,
           0,
           0,
           0,
           0,
           0,
           0,
           0,
           0,
           0,
           0,
           0,
           0,
           0,
           0,
           0,
           0,
           0,
           0,
           0,
           0,
           0,
           0,
           0,
           0,
           0,
           0,
           0,
           0,
           0,
           0,
           0,
           0,
           0,
           0,
           0,
           0,
           0,
           0,
           0,
           0,
           0,
           0,
           0,
           0,
           0,
           0,
           0,
           0,
           0,
           0,
           0,
           0,
           0,
           0,
           0,
           0,
           0,
           0,
           0,
           0,
           0,
           0,
           0,
           0,
           0,
           0,
           0,
           0,
           0,
           0,
           0,
           0,
           0,
           0,
           0,
           0,
           0,
           0,
           0,
           0,
           0,
           0,
           0,
           0,
           0,
           0
          ],
          "coloraxis": "coloraxis",
          "symbol": "circle"
         },
         "mode": "markers",
         "name": "0",
         "scene": "scene",
         "showlegend": true,
         "type": "scatter3d",
         "x": [
          -0.336183607976382,
          -0.3195167526016288,
          2.3301579894796163,
          -0.3924128743836671,
          -0.35450054842967776,
          -0.3033013103055543,
          -0.2628376708555982,
          -0.19877564721288782,
          -0.33584309296712256,
          -0.32841856908025363,
          -0.33467975043832615,
          -0.33617954312511383,
          -0.33616381986004024,
          0.6739311719840083,
          -0.3285117227856205,
          -0.36449136662563997,
          -0.36007843884279683,
          -0.3342418651282684,
          -0.33176713143469316,
          -0.39230754046650623,
          -0.43527911670815606,
          -0.03556632484109237,
          -0.26659784573018636,
          -0.29547099329042775,
          -0.2544331368146222,
          -0.25505552315442065,
          -0.33551244238059075,
          -0.3304843595834416,
          -0.3345849231065878,
          0.02205998750587376,
          -0.35165940830248227,
          -0.39267921213472473,
          -0.22008544634602475,
          -0.2991397656852797,
          -0.39259082942120277,
          -0.31140907464415113,
          -0.33486065580129226,
          -0.3520955593185299,
          -0.3925552940715843,
          -0.2205532903378011,
          -0.25483632409527057,
          -0.32728447005222017,
          0.06578115765705102,
          -0.34291542233936656,
          -0.30251281319421675,
          -0.32793311957096,
          -0.295451242545449,
          -0.2551309347753547,
          -0.2901038940338565,
          -0.3361656714016294,
          -0.25508310603155643,
          -0.3521043852739269,
          -0.3358999829520386,
          -0.39266073576542593,
          -0.4872684630761823,
          -0.41657242310654724,
          -0.3847033519168109,
          -0.29385235263878,
          -0.2546046182820154,
          -0.29585619270556174,
          -0.20121769771312867,
          -0.014267746057222681,
          -0.30327221596666964,
          -0.07004441820219931,
          -0.30333592528299813,
          -0.19051267461185897,
          -0.33577583412863277,
          -0.2937213949826975,
          -0.38982924039258676,
          0.8579897732428388,
          -0.3031359395908089,
          -0.05703541081684572,
          -0.36417455580589314,
          -0.3905031388576887,
          -0.30187917800906716,
          -0.29954683427116485,
          -0.3119059273466863,
          -0.39139560763041237,
          -0.3172050946202064,
          -0.31206609443230643,
          -0.335813943342507,
          -0.3342525175781273,
          -0.213361339369998,
          -0.339591799424075,
          -0.39213450612792305,
          -0.3350179560561482,
          -0.30331687489188297,
          -0.39264992514471486,
          -0.33600315258758506,
          -0.3361599028564682,
          -0.29371090614920725,
          -0.2611057356166243,
          0.05535742054789312,
          -0.3631313534253348,
          -0.33577394983031533,
          -0.37880880508107445,
          -0.36245979148084007,
          -0.21479229312041911,
          -0.3848230387505628,
          -0.3622087363604879,
          -0.2592544759407491,
          3.710762361387925,
          -0.3922423599998157,
          0.8774057809505924,
          -0.3926048223539634,
          -0.3635952284430987,
          -0.33570149551274914,
          -0.3358558665804917,
          -0.36417455580589314,
          -0.3921796233620011,
          -0.3031795084351901,
          -0.335702229924396,
          -0.45349524189327434,
          -0.3358496610723277,
          -0.33143662365609766,
          -0.3926338248200926,
          -0.33506017391280035,
          0.3479739172718241,
          -0.336048989471618,
          -0.33611957787754365,
          -0.3300551162723125,
          -0.3050432222542782,
          -0.3323454154979287,
          -0.303293281870223,
          -0.3925437519804223,
          -0.33589733108419617,
          -0.3360243209371329,
          -0.29535774242468443,
          -0.2906117965314757,
          -0.21456008466505677,
          -0.31687269669429263,
          -0.2950987932406075,
          -0.3918093154231916,
          -0.42277073222664924,
          -0.3905473297804583,
          -0.36242063700098404,
          -0.3917071715619814,
          -0.3568190393331518,
          -0.38764712079887903,
          -0.3359675911092159,
          -0.33596678307948546,
          -0.3290868378169903,
          0.2699553675056684,
          -0.3921857685725074,
          -0.27799549260720663,
          -0.3642088627992303,
          -0.33517807993630144,
          0.9334534012340437,
          -0.2615277654800993,
          -0.3159831177067142,
          0.6004734709098938,
          -0.3134419897696135,
          -0.3119438244421844,
          -0.35774540227787904,
          -0.25476811648139525,
          0.12888076210408397,
          -0.2548389056283691,
          -0.3014754284778441,
          -0.3572501467727936,
          -0.39245822122820545,
          -0.29543195439418785,
          4.446714983025077,
          -0.3640751085828946,
          -0.33560269154570865,
          -0.3361025029566509,
          -0.4125801326198519,
          0.6982431609805552,
          -0.3923990373881836,
          -0.33051037943856,
          -0.33605810899188926,
          -0.34757727536251004,
          0.43326984108225425,
          -0.3016391050735133,
          -0.298204855311393,
          -0.375146749576116,
          -0.33600843518223505,
          -0.36889673591711697,
          -0.33598863775293025,
          -0.33587879572704604,
          -0.08927468140611582,
          -0.39119138202075937,
          3.7156196416697096,
          0.2462007044112634,
          -0.25150886706036935,
          -0.33333840346472376,
          -0.27280529730660824,
          -0.329940989086323,
          0.07836920075233199,
          -0.33501712244899456,
          -0.3917726603200365,
          -0.3291055177604521,
          -0.32257956755306366,
          -0.33612464069311204,
          -0.3520763070647782,
          -0.31748708882996934,
          -0.2560037419993928,
          -0.374969140439406,
          -0.33166869509885394,
          -0.20635373339362462,
          -0.3316816773744459,
          -0.40645311401666395,
          -0.3924754756956759,
          -0.2872667234452711,
          -0.2945917299184061,
          -0.2846109782768948,
          -0.3130408476241863,
          -0.33615200289836167,
          -0.3361337092704338,
          -0.28897166866304974,
          -0.31225445988748635,
          -0.3636694585056117,
          -0.33585014674065444,
          3.9047170442299572,
          -0.3675643858021609,
          -0.36385817879251453,
          -0.2906881298869716,
          -0.28270643202044354,
          -0.2794432626949637,
          -0.2951260797294274,
          -0.13921230543731833,
          -0.2953782142537096,
          -0.3245860304992212,
          -0.33532404391887705,
          -0.16016110980711826,
          2.195254080456315,
          -0.3256478830211091,
          -0.2616554998739003,
          1.0160188655388518,
          -0.330424670606698,
          -0.3300545535199861,
          -0.3705813093035374,
          -0.1760803551334327,
          -0.38790571455669787,
          -0.32877374494543654,
          -0.32902691211841806,
          -0.3516536040699099,
          -0.39194866967575864,
          -0.2926229704869947,
          -0.36295775537879976,
          -0.3475093529914257,
          -0.35151495476442834,
          -0.19559880840595165,
          -0.5590402385044997,
          -0.16038275221092027,
          -0.24685964496823262,
          0.6037186091833003,
          -0.14196947674467003,
          -0.36987575148224094,
          -0.255512472487413,
          -0.33585411954327066,
          -0.3703319901105145,
          -0.33017156133437275,
          0.570895743513933,
          -0.35213063711243703,
          -0.33533690953951856,
          -0.2817208822170371,
          -0.27929421263349424,
          -0.38951271691342004,
          -0.392175965574487,
          3.727864684223398,
          0.09919016975619445,
          -0.38971491709644923,
          -0.33472225175677345,
          -0.33554744665799735,
          -0.262870311745197,
          -0.33606591310370354,
          -0.38380155226182017,
          -0.249746872005217,
          -0.08289788212129692,
          -0.37954882764778686,
          -0.33534403379987027,
          -0.32840649553450957,
          -0.388743653479284,
          -0.33378281769068574,
          -0.3644502615171102,
          -0.44259075041914997,
          -0.30181597539698696,
          3.711154277771145,
          -0.10260868240249607,
          -0.3309768392235855,
          -0.33513820761596874,
          -0.25523816651573467,
          3.7210250826122904,
          3.7222695656296962,
          -0.24376197802910837,
          -0.3643861100160239,
          -0.47352192556257705,
          2.4684343992412456,
          -0.33422848244082487,
          -0.2957747849991129
         ],
         "y": [
          1.0108187884354638,
          1.0108437457956083,
          1.5407003101635295,
          1.2390113090606725,
          1.7279117077024777,
          0.7729561668552212,
          0.6067749500356338,
          1.8477772021530194,
          1.01081520924578,
          1.0110022139500778,
          1.0108543125363496,
          1.0108185379180417,
          1.0108185627661592,
          0.5803557611694794,
          0.8116573474723767,
          1.6222829349188346,
          0.4337638623598916,
          1.0107814803321737,
          1.0733154973635068,
          1.2390137972548907,
          1.8769466248576272,
          0.8507763274344858,
          0.7721615972997812,
          0.844625653283525,
          1.6974012254219555,
          1.697386523432941,
          0.48120168614359526,
          1.0106623002104362,
          1.0107886255461986,
          1.019281206529289,
          1.0728456026738686,
          1.2390202658641698,
          0.10507013926878118,
          1.5397694702875406,
          1.239015423004421,
          1.0102949994359163,
          1.0107807259325652,
          0.4433794982766649,
          1.2390193815160992,
          0.10512840113730591,
          1.6973917013456836,
          1.0103358709645167,
          1.1529215595967917,
          1.4850696981316862,
          0.7729429086060681,
          0.8116740511388322,
          0.8446373347209771,
          1.6973764244705765,
          0.8444170832890209,
          1.0108192121617408,
          1.6973789405448092,
          1.0728212287902505,
          1.010811625592601,
          1.239020703005472,
          1.9731596548511616,
          1.9440082200223763,
          0.9593919202466208,
          0.8446057903807007,
          1.6973625180608305,
          0.7724541514543204,
          1.8479438845389144,
          0.759766116086052,
          0.7729568541207077,
          1.2282388632774104,
          0.7729633202066928,
          1.4026671961581836,
          1.010799309313942,
          0.8445249783282995,
          1.2388214255615668,
          0.8032637484834426,
          0.772947596849219,
          0.589325707713433,
          1.6222765559605887,
          1.2390196847388881,
          0.7728506313680765,
          0.7726962092457186,
          1.3997372669213448,
          1.2389542423832036,
          1.5154975998794589,
          1.0100022262830213,
          1.0107967917901353,
          1.0107950913530517,
          1.5310891632030006,
          1.0726752751808255,
          1.2389984769524078,
          1.0107839415176227,
          0.7729564923217249,
          1.2390188789756849,
          1.010808495390334,
          1.0108193484261192,
          0.8446784448883157,
          0.35576102900966955,
          1.8651267190603897,
          1.622263769289593,
          1.0108284653954154,
          1.2383082138908712,
          1.6223031994833408,
          1.5311922548713646,
          1.6270602165966301,
          1.6221282222106177,
          1.8663549666432973,
          2.0653261580163345,
          1.23900979188459,
          1.7235483232183992,
          1.2390193529236417,
          1.6222694468328778,
          1.0108034635771204,
          1.0107974187900777,
          1.6222765559605887,
          1.2389904798682907,
          0.7729604303201414,
          1.0108072861836677,
          1.0022252172128705,
          1.0108072692332624,
          1.0104799280031176,
          1.2390178730317383,
          1.0107455150865896,
          0.8372991520230922,
          1.0108129576940887,
          1.0108180026998392,
          1.489343881206054,
          0.46532805587996845,
          1.0105628877999833,
          0.7729570496352824,
          1.2390169828298128,
          1.0108116882349327,
          1.010807348428738,
          0.8446014210827703,
          0.48822221548261413,
          1.531189405360587,
          1.0105818175217223,
          0.8446217981892394,
          1.2389715019644907,
          1.9261670696520683,
          1.2389943812202067,
          1.6222554040047743,
          1.2389739148033165,
          1.6221869173202361,
          1.2387925681310312,
          1.0108091883943826,
          1.0108040867016002,
          1.010293295494294,
          0.5673842857032396,
          1.2390041973590231,
          0.8436634085854164,
          1.6222688142356119,
          1.0107697620872398,
          1.812383337673357,
          0.6066758718452883,
          1.5154803720564896,
          1.8882907292326059,
          1.3997564327176248,
          1.3997155777384096,
          1.7473250524007788,
          1.6973725185645956,
          0.9871478915273822,
          1.697378541414226,
          1.5597085105963646,
          1.7473367513095264,
          1.2390188969972096,
          0.8446257257538137,
          2.3694936755207383,
          1.622250070806189,
          1.0107990658169348,
          1.0108177931675422,
          1.7289720819904786,
          1.4643221954197327,
          1.2390081702545381,
          0.4810452047610892,
          1.010810847710787,
          0.6841555170604561,
          1.0116664758880247,
          0.7729413670653695,
          1.3992915359562468,
          1.7066702852909537,
          1.0108083706050623,
          1.6554417685451497,
          1.471752571368525,
          1.0108157384925032,
          0.6046453195358418,
          1.238955600930458,
          2.065180971788565,
          1.392189245758491,
          1.697324744569718,
          1.0107404399358633,
          1.2335604393687982,
          1.4893431114513995,
          0.9859547091379405,
          1.010742373251002,
          1.2390070244618117,
          1.4892935336632944,
          1.0105163232752463,
          1.0108174088572086,
          1.0728211989201204,
          1.5154968302491902,
          -0.07979154174694403,
          0.35504752403723877,
          1.0107646328123079,
          1.5308388170531446,
          3.760743819226063,
          0.9092837532662287,
          1.239007750896699,
          1.4303760532039216,
          0.8445716896524486,
          1.5429548422753052,
          1.3997381831784081,
          1.0108174556407583,
          1.0108165015069486,
          0.8444438286783369,
          1.560060922789795,
          1.6222413543327532,
          1.0108058714955528,
          2.0651393478507196,
          1.6554732412743862,
          1.6222424414496097,
          0.5876933719908756,
          1.0085318329595347,
          1.1507711390909223,
          0.8446269942574981,
          1.0084016850236888,
          0.8446085619568969,
          1.8699450471668204,
          1.0107808699163146,
          1.6817259356325498,
          0.33893968122655754,
          1.489007849497659,
          0.6067420443901295,
          1.8057217414475364,
          0.7538723243232234,
          1.4893397357035645,
          1.6555370318104077,
          0.8357570309079011,
          0.8503267580558482,
          1.4893152334421669,
          1.0102947110571139,
          1.0728076174863648,
          1.239002866774779,
          0.8445239295827074,
          1.6221736039784906,
          0.9630345383049418,
          1.0727797016870113,
          1.0016632904146963,
          2.1398850133717864,
          0.18742397368611693,
          1.2641938468692662,
          1.066720130812694,
          1.0777988911266982,
          1.6555198396372826,
          -0.06700653752083234,
          1.0108120158438532,
          1.6555332970739958,
          1.4893422603509403,
          0.9803994650980903,
          1.0728208166100024,
          1.01078056600506,
          1.4302020785182477,
          1.8676185790443416,
          1.2388039496936218,
          1.2390113602514539,
          2.065123657451375,
          0.9968435308769019,
          1.2390902890341802,
          1.0107146820447774,
          1.0107962091589795,
          0.6067682873662548,
          1.0108215686488715,
          1.238883408020613,
          1.005582701450063,
          0.7780460828795037,
          1.2386372994200667,
          1.0108282238677933,
          1.0107252460972282,
          1.238969060602466,
          1.0107645986298048,
          1.6222776677086048,
          0.916717273179162,
          0.772933723377414,
          2.0653112127692697,
          0.8422552045271122,
          1.0107338427891976,
          0.4811714349096991,
          1.6973821258617379,
          2.0656552252483884,
          2.0656846223840253,
          0.6065410869283228,
          1.622279436682694,
          1.8983365454894146,
          0.8659387507253605,
          1.010691689215098,
          0.8446289988794736
         ],
         "z": [
          0.1916415911998248,
          0.19176774660477927,
          0.2060460991407529,
          0.14917948502465145,
          0.024002338566444827,
          0.06347205475216464,
          -0.0317795291336463,
          0.21260678615474818,
          0.19164410751711852,
          0.19170293460094626,
          0.19165347159606558,
          0.19164161813203387,
          0.1916417371646659,
          -0.023437823570087484,
          0.01737483559696304,
          0.05832620493881899,
          0.022123312407992996,
          0.19165568758583115,
          0.05408746820816591,
          0.14918031715707694,
          0.29894656973736955,
          0.0984451090509542,
          0.06373717358522614,
          0.09639170814358827,
          0.1888828672932037,
          0.18887795047370887,
          0.1273684165514911,
          0.1916822634797455,
          0.19165320538066252,
          0.19447169684620344,
          0.05393032026251095,
          0.14917760889489562,
          0.02089915563742868,
          0.10658509116655292,
          0.1491782035172938,
          0.19182073163293162,
          0.191651006385458,
          0.16607681687867865,
          0.14917853086774246,
          0.02089649576210385,
          0.18887968213479833,
          0.1917015332467545,
          -0.3468810123019846,
          0.0745356472294188,
          0.0634778072469087,
          0.01737945191182767,
          0.09639203180919527,
          0.18887723039772625,
          0.096429095243874,
          0.19164173289826153,
          0.18887762896365243,
          0.053926597754194054,
          0.19164362460955886,
          0.1491777548676062,
          0.39934624587576156,
          0.08036263688361704,
          0.00837888954097363,
          0.09640362688802372,
          0.18888099456473398,
          0.06352073804913018,
          0.2125908478555754,
          0.2113246536167696,
          0.06347228459591822,
          0.1514513309057114,
          0.06347190044344231,
          0.14902718609685361,
          0.19164437744386587,
          0.09640340725941399,
          0.14919614503277126,
          0.10447844840154914,
          0.06347317467996326,
          -0.02882024359882829,
          0.05832850051416453,
          0.14919402271941637,
          0.06348120987592432,
          0.06349650349564773,
          0.14806725329570597,
          0.14918630917950695,
          0.01672164253790223,
          0.1918113969401571,
          0.19164405220816208,
          0.1916558106455777,
          0.09363391726184808,
          0.054018846775891916,
          0.14918139402033165,
          0.1916498673284523,
          0.06347194215342453,
          0.14917780918891263,
          0.19164279921416316,
          0.19164177846946626,
          0.09640578037559779,
          0.10133009181505577,
          0.22686395667059112,
          0.05833618228178143,
          0.1916448274781633,
          0.14927164337900276,
          0.058341839850057,
          0.09362465903459562,
          0.2756782453578048,
          0.058341119034574535,
          0.22450798546211212,
          0.04251757898842834,
          0.1491807491939339,
          0.19781552890259022,
          0.14917815665755468,
          0.05833276634968214,
          0.1916450005629818,
          0.19164374519168698,
          0.05832850051416453,
          0.14918093398977367,
          0.06347303770191683,
          0.19164505215931948,
          0.025271923741014713,
          0.19164393926435652,
          0.1916723508513778,
          0.14917791565927996,
          0.19164897433303052,
          0.10113818032481477,
          0.1916425199905963,
          0.19164206268086903,
          0.03422372391237778,
          0.09498828797495322,
          0.19166673238129983,
          0.06347212853706033,
          0.14917858211960855,
          0.19164364555917585,
          0.19164262231534812,
          0.0963922006180111,
          0.14629173721392835,
          0.09362636888491496,
          0.1917837857111002,
          0.09639445945919513,
          0.14918344497601513,
          0.19426070559009648,
          0.14919331098974095,
          0.0583414209150349,
          0.1491842519071699,
          0.05838267165183943,
          0.14921218182475376,
          0.19164307795026264,
          0.19164300779022625,
          0.19168729463578796,
          -0.028347413304990923,
          0.149181092656475,
          0.09650920996542879,
          0.05832812588394202,
          0.19164844694802655,
          0.22062250164697095,
          -0.03177112444910025,
          0.016730607106504897,
          0.20053054114671098,
          0.14805594733716645,
          0.14806664309032175,
          0.30296898529317784,
          0.18887991015106279,
          0.19479754151568748,
          0.1888794659428015,
          -0.0545075550958298,
          0.30297289778573544,
          0.14917925622008119,
          0.09639200384776146,
          -3.0926254012864844,
          0.05832885513821288,
          0.1916456804862516,
          0.19164218841082528,
          0.023579870389598228,
          -0.08865453585527049,
          0.1491795425328011,
          0.12740382737571593,
          0.19164241962768286,
          0.065518243491378,
          0.19746121622942497,
          0.06348437795364514,
          0.14816399069575467,
          0.20157919083560608,
          0.19164275748194184,
          0.12948630337088113,
          -0.06687446251794943,
          0.1916438459845164,
          -0.030501507190811745,
          0.14918787074774437,
          0.042552065994393325,
          0.15216637861003982,
          0.18890379312894442,
          0.19166189242472403,
          0.05280544858365463,
          0.03422457370778569,
          0.19439850282589746,
          0.19164925227327745,
          0.14918425258326704,
          0.03423013781980057,
          0.19173973779785175,
          0.19164201559600208,
          0.0539268092098989,
          0.016719502864166427,
          -0.041646065237792615,
          0.17962238932727853,
          0.19167485509848822,
          0.09368306057585091,
          21.417747237429563,
          0.04509338919263275,
          0.14917895939552853,
          0.08557441977551401,
          0.09639753718997875,
          0.09684985709586422,
          0.14805870191202594,
          0.19164180979669035,
          0.19164193359403872,
          0.09643803976501766,
          0.005870868817855144,
          0.05833178623034222,
          0.19164391470624756,
          0.05675183796837975,
          0.12949682886702482,
          0.05833037823537589,
          0.014897323268810615,
          0.19201099120727308,
          -0.055225099470174954,
          0.09639433120081017,
          0.19309197526977565,
          0.09639215285908222,
          0.22406860077681637,
          0.19164751141442707,
          0.11734318980923256,
          0.19836455885501122,
          0.03425196179431378,
          -0.031771099320661876,
          0.037153684562847636,
          0.11015436061512356,
          0.03422366619402903,
          0.12947501409691412,
          0.09716016733929626,
          0.16077069859926427,
          0.03423296602120923,
          0.19168776804566925,
          0.05392979627840237,
          0.14918286211857315,
          0.09641168123430909,
          0.058336144645169244,
          0.23911211709062172,
          0.053930425370184894,
          0.19256571156722369,
          0.005766229736661098,
          -0.13052254662318302,
          -0.009677605758683771,
          -0.12778349407420886,
          0.05558685974202474,
          0.12948008185804097,
          -0.08689212714898056,
          0.19164397656740936,
          0.12947683984749256,
          0.034222820890388965,
          0.1980324919312003,
          0.05392639347424724,
          0.19164740977669734,
          0.08561367293288838,
          0.22437563644844793,
          0.14919827256730595,
          0.14918127370641746,
          0.04264362085082626,
          0.1947183975477458,
          0.14920102668084217,
          0.1916510637024497,
          0.1916460547112334,
          -0.03177987506072011,
          0.19164252098359166,
          0.1492425616148351,
          0.19221564977856612,
          0.06521148970028846,
          0.14927097757803964,
          0.19164806838213547,
          0.19169888571047358,
          0.14920654459171728,
          0.19165889960946605,
          0.05832643642093038,
          0.057642468963507165,
          0.06348292888396526,
          0.04252031332906647,
          0.09781177962223513,
          0.19167961619763116,
          0.12737078866356505,
          0.1888765063574368,
          0.042599949033364136,
          0.04260978038403804,
          -0.03163906332782515,
          0.05832694700498699,
          0.20259007736803478,
          -0.026146544985122273,
          0.1916544464203343,
          0.09638946548007529
         ]
        },
        {
         "customdata": [
          [
           "SHA-256",
           "PoW"
          ],
          [
           "Ethash",
           "PoW"
          ],
          [
           "Scrypt",
           "PoW"
          ],
          [
           "CryptoNight-V7",
           "PoW"
          ],
          [
           "Ethash",
           "PoW"
          ],
          [
           "Equihash",
           "PoW"
          ],
          [
           "Multiple",
           "PoW"
          ],
          [
           "Scrypt",
           "PoW"
          ],
          [
           "X11",
           "PoW"
          ],
          [
           "Scrypt",
           "PoW"
          ],
          [
           "Multiple",
           "PoW"
          ],
          [
           "Scrypt",
           "PoW"
          ],
          [
           "SHA-256",
           "PoW"
          ],
          [
           "Scrypt",
           "PoW"
          ],
          [
           "Scrypt",
           "PoW"
          ],
          [
           "Quark",
           "PoW"
          ],
          [
           "Groestl",
           "PoW"
          ],
          [
           "Scrypt",
           "PoW"
          ],
          [
           "Scrypt",
           "PoW"
          ],
          [
           "Scrypt",
           "PoW"
          ],
          [
           "X11",
           "PoW"
          ],
          [
           "Multiple",
           "PoW"
          ],
          [
           "SHA-256",
           "PoW"
          ],
          [
           "Scrypt",
           "PoW"
          ],
          [
           "Scrypt",
           "PoW"
          ],
          [
           "Scrypt",
           "PoW"
          ],
          [
           "Scrypt",
           "PoW"
          ],
          [
           "Scrypt",
           "PoW"
          ],
          [
           "NeoScrypt",
           "PoW"
          ],
          [
           "Scrypt",
           "PoW"
          ],
          [
           "Scrypt",
           "PoW"
          ],
          [
           "Scrypt",
           "PoW"
          ],
          [
           "Scrypt",
           "PoW"
          ],
          [
           "SHA-256",
           "PoW"
          ],
          [
           "Scrypt",
           "PoW"
          ],
          [
           "Scrypt",
           "PoW"
          ],
          [
           "Scrypt",
           "PoW"
          ],
          [
           "Scrypt",
           "PoW"
          ],
          [
           "HybridScryptHash256",
           "PoW"
          ],
          [
           "Scrypt",
           "PoW"
          ],
          [
           "Scrypt",
           "PoW"
          ],
          [
           "SHA-256",
           "PoW"
          ],
          [
           "Scrypt",
           "PoW"
          ],
          [
           "Scrypt",
           "PoW"
          ],
          [
           "Scrypt",
           "PoW"
          ],
          [
           "Scrypt",
           "PoW"
          ],
          [
           "SHA-256",
           "PoW"
          ],
          [
           "SHA-256",
           "PoW"
          ],
          [
           "SHA-256",
           "PoW"
          ],
          [
           "SHA-256",
           "PoW"
          ],
          [
           "SHA-256",
           "PoW"
          ],
          [
           "X11",
           "PoW"
          ],
          [
           "Scrypt",
           "PoW"
          ],
          [
           "Lyra2REv2",
           "PoW"
          ],
          [
           "Scrypt",
           "PoW"
          ],
          [
           "SHA-256",
           "PoW"
          ],
          [
           "CryptoNight",
           "PoW"
          ],
          [
           "CryptoNight",
           "PoW"
          ],
          [
           "Scrypt",
           "PoW"
          ],
          [
           "Scrypt",
           "PoW"
          ],
          [
           "Scrypt",
           "PoW"
          ],
          [
           "Scrypt",
           "PoW"
          ],
          [
           "Scrypt",
           "PoW"
          ],
          [
           "Scrypt",
           "PoW"
          ],
          [
           "Stanford Folding",
           "PoW"
          ],
          [
           "Multiple",
           "PoW"
          ],
          [
           "QuBit",
           "PoW"
          ],
          [
           "Scrypt",
           "PoW"
          ],
          [
           "Scrypt",
           "PoW"
          ],
          [
           "M7 POW",
           "PoW"
          ],
          [
           "Scrypt",
           "PoW"
          ],
          [
           "SHA-256",
           "PoW"
          ],
          [
           "Scrypt",
           "PoW"
          ],
          [
           "X11",
           "PoW"
          ],
          [
           "Lyra2RE",
           "PoW"
          ],
          [
           "SHA-256",
           "PoW"
          ],
          [
           "X11",
           "PoW"
          ],
          [
           "Scrypt",
           "PoW"
          ],
          [
           "Scrypt",
           "PoW"
          ],
          [
           "Ethash",
           "PoW"
          ],
          [
           "Blake2b",
           "PoW"
          ],
          [
           "X11",
           "PoW"
          ],
          [
           "SHA-256",
           "PoW"
          ],
          [
           "Scrypt",
           "PoW"
          ],
          [
           "1GB AES Pattern Search",
           "PoW"
          ],
          [
           "Scrypt",
           "PoW"
          ],
          [
           "SHA-256",
           "PoW"
          ],
          [
           "X11",
           "PoW"
          ],
          [
           "Dagger",
           "PoW"
          ],
          [
           "Scrypt",
           "PoW"
          ],
          [
           "X11GOST",
           "PoW"
          ],
          [
           "Scrypt",
           "PoW"
          ],
          [
           "X11",
           "PoW"
          ],
          [
           "Scrypt",
           "PoW"
          ],
          [
           "X11",
           "PoW"
          ],
          [
           "Equihash",
           "dPoW/PoW"
          ],
          [
           "CryptoNight",
           "PoW"
          ],
          [
           "SHA-256",
           "PoW"
          ],
          [
           "Multiple",
           "PoW"
          ],
          [
           "Scrypt",
           "PoW"
          ],
          [
           "SHA-256",
           "PoW"
          ],
          [
           "Scrypt",
           "PoW"
          ],
          [
           "Lyra2Z",
           "PoW"
          ],
          [
           "Ethash",
           "PoW"
          ],
          [
           "Equihash",
           "PoW"
          ],
          [
           "Scrypt",
           "PoW"
          ],
          [
           "X11",
           "PoW"
          ],
          [
           "X11",
           "PoW"
          ],
          [
           "CryptoNight",
           "PoW"
          ],
          [
           "Scrypt",
           "PoW"
          ],
          [
           "CryptoNight",
           "PoW"
          ],
          [
           "Lyra2RE",
           "PoW"
          ],
          [
           "X11",
           "PoW"
          ],
          [
           "CryptoNight-V7",
           "PoW"
          ],
          [
           "Scrypt",
           "PoW"
          ],
          [
           "X11",
           "PoW"
          ],
          [
           "Equihash",
           "PoW"
          ],
          [
           "Scrypt",
           "PoW"
          ],
          [
           "Lyra2RE",
           "PoW"
          ],
          [
           "Dagger-Hashimoto",
           "PoW"
          ],
          [
           "Scrypt",
           "PoW"
          ],
          [
           "NIST5",
           "PoW"
          ],
          [
           "Scrypt",
           "PoW"
          ],
          [
           "SHA-256",
           "PoW"
          ],
          [
           "Scrypt",
           "PoW"
          ],
          [
           "CryptoNight-V7",
           "PoW"
          ],
          [
           "Argon2d",
           "PoW"
          ],
          [
           "Blake2b",
           "PoW"
          ],
          [
           "Cloverhash",
           "PoW"
          ],
          [
           "CryptoNight",
           "PoW"
          ],
          [
           "X11",
           "PoW"
          ],
          [
           "Scrypt",
           "PoW"
          ],
          [
           "Scrypt",
           "PoW"
          ],
          [
           "X11",
           "PoW"
          ],
          [
           "X11",
           "PoW"
          ],
          [
           "CryptoNight",
           "PoW"
          ],
          [
           "Time Travel",
           "PoW"
          ],
          [
           "Scrypt",
           "PoW"
          ],
          [
           "Keccak",
           "PoW"
          ],
          [
           "X11",
           "PoW"
          ],
          [
           "SHA-256",
           "PoW"
          ],
          [
           "Scrypt",
           "PoW"
          ],
          [
           "Scrypt",
           "PoW"
          ],
          [
           "Scrypt",
           "PoW"
          ],
          [
           "Scrypt",
           "PoW"
          ],
          [
           "Scrypt",
           "PoW"
          ],
          [
           "Scrypt",
           "PoW"
          ],
          [
           "CryptoNight",
           "PoW"
          ],
          [
           "Equihash",
           "PoW"
          ],
          [
           "X11",
           "PoW"
          ],
          [
           "NeoScrypt",
           "PoW"
          ],
          [
           "Equihash",
           "PoW"
          ],
          [
           "Dagger",
           "PoW"
          ],
          [
           "Scrypt",
           "PoW"
          ],
          [
           "X11",
           "PoW"
          ],
          [
           "NeoScrypt",
           "PoW"
          ],
          [
           "Ethash",
           "PoW"
          ],
          [
           "NeoScrypt",
           "PoW"
          ],
          [
           "Multiple",
           "PoW"
          ],
          [
           "CryptoNight",
           "PoW"
          ],
          [
           "CryptoNight",
           "PoW"
          ],
          [
           "Ethash",
           "PoW"
          ],
          [
           "X11",
           "PoW"
          ],
          [
           "CryptoNight-V7",
           "PoW"
          ],
          [
           "Scrypt",
           "PoW"
          ],
          [
           "BLAKE256",
           "PoW"
          ],
          [
           "X11",
           "PoW"
          ],
          [
           "NeoScrypt",
           "PoW"
          ],
          [
           "NeoScrypt",
           "PoW"
          ],
          [
           "Scrypt",
           "PoW"
          ],
          [
           "X11",
           "PoW"
          ],
          [
           "SHA-256",
           "PoW"
          ],
          [
           "C11",
           "PoW"
          ],
          [
           "CryptoNight",
           "PoW"
          ],
          [
           "SkunkHash",
           "PoW"
          ],
          [
           "CryptoNight",
           "PoW"
          ],
          [
           "Scrypt",
           "PoW"
          ],
          [
           "Dagger",
           "PoW"
          ],
          [
           "Lyra2REv2",
           "PoW"
          ],
          [
           "Scrypt",
           "PoW"
          ],
          [
           "Scrypt",
           "PoW"
          ],
          [
           "X11",
           "PoW"
          ],
          [
           "Ethash",
           "PoW"
          ],
          [
           "CryptoNight",
           "PoW"
          ],
          [
           "Scrypt",
           "PoW"
          ],
          [
           "IMesh",
           "PoW"
          ],
          [
           "Equihash",
           "PoW"
          ],
          [
           "Lyra2Z",
           "PoW"
          ],
          [
           "X11",
           "PoW"
          ],
          [
           "CryptoNight",
           "PoW"
          ],
          [
           "NIST5",
           "PoW"
          ],
          [
           "Lyra2RE",
           "PoW"
          ],
          [
           "Tribus",
           "PoW"
          ],
          [
           "Lyra2Z",
           "PoW"
          ],
          [
           "CryptoNight",
           "PoW"
          ],
          [
           "CryptoNight Heavy",
           "PoW"
          ],
          [
           "CryptoNight",
           "PoW"
          ],
          [
           "Jump Consistent Hash",
           "PoW"
          ],
          [
           "CryptoNight",
           "PoW"
          ],
          [
           "X16R",
           "PoW"
          ],
          [
           "HMQ1725",
           "PoW"
          ],
          [
           "X11",
           "PoW"
          ],
          [
           "Scrypt",
           "PoW"
          ],
          [
           "CryptoNight-V7",
           "PoW"
          ],
          [
           "Cryptonight-GPU",
           "PoW"
          ],
          [
           "XEVAN",
           "PoW"
          ],
          [
           "CryptoNight Heavy",
           "PoW"
          ],
          [
           "SHA-256",
           "PoW"
          ],
          [
           "X11",
           "PoW"
          ],
          [
           "X16R",
           "PoW"
          ],
          [
           "Equihash",
           "PoW"
          ],
          [
           "Lyra2Z",
           "PoW"
          ],
          [
           "SHA-256",
           "PoW"
          ],
          [
           "CryptoNight",
           "PoW"
          ],
          [
           "Blake",
           "PoW"
          ],
          [
           "Blake",
           "PoW"
          ],
          [
           "Exosis",
           "PoW"
          ],
          [
           "Scrypt",
           "PoW"
          ],
          [
           "Equihash",
           "PoW"
          ],
          [
           "Equihash",
           "PoW"
          ],
          [
           "QuBit",
           "PoW"
          ],
          [
           "SHA-256",
           "PoW"
          ],
          [
           "X13",
           "PoW"
          ],
          [
           "SHA-256",
           "PoW"
          ],
          [
           "Scrypt",
           "PoW"
          ],
          [
           "NeoScrypt",
           "PoW"
          ],
          [
           "Blake",
           "PoW"
          ],
          [
           "Scrypt",
           "PoW"
          ],
          [
           "SHA-256",
           "PoW"
          ],
          [
           "Scrypt",
           "PoW"
          ],
          [
           "Groestl",
           "PoW"
          ],
          [
           "Scrypt",
           "PoW"
          ],
          [
           "Scrypt",
           "PoW"
          ],
          [
           "Multiple",
           "PoW"
          ],
          [
           "Equihash+Scrypt",
           "PoW"
          ],
          [
           "Ethash",
           "PoW"
          ],
          [
           "CryptoNight",
           "PoW"
          ],
          [
           "Equihash",
           "PoW"
          ]
         ],
         "hovertemplate": "<b>%{hovertext}</b><br><br>Class=%{marker.color}<br>PC 1=%{x}<br>PC 2=%{y}<br>PC 3=%{z}<br>Algorithm=%{customdata[0]}<br>ProofType=%{customdata[1]}<extra></extra>",
         "hovertext": [
          "Bitcoin",
          "Ethereum",
          "Litecoin",
          "Monero",
          "Ethereum Classic",
          "ZCash",
          "DigiByte",
          "ProsperCoin",
          "Spreadcoin",
          "Argentum",
          "MyriadCoin",
          "MoonCoin",
          "ZetaCoin",
          "SexCoin",
          "Quatloo",
          "QuarkCoin",
          "Riecoin",
          "Digitalcoin ",
          "Catcoin",
          "CannaCoin",
          "CryptCoin",
          "Verge",
          "DevCoin",
          "EarthCoin",
          "E-Gulden",
          "Einsteinium",
          "Emerald",
          "Franko",
          "FeatherCoin",
          "GrandCoin",
          "GlobalCoin",
          "GoldCoin",
          "Infinite Coin",
          "IXcoin",
          "KrugerCoin",
          "LuckyCoin",
          "Litebar ",
          "MegaCoin",
          "MediterraneanCoin",
          "MinCoin",
          "NobleCoin",
          "Namecoin",
          "NyanCoin",
          "RonPaulCoin",
          "StableCoin",
          "SmartCoin",
          "SysCoin",
          "TigerCoin",
          "TerraCoin",
          "UnbreakableCoin",
          "Unobtanium",
          "UroCoin",
          "ViaCoin",
          "Vertcoin",
          "WorldCoin",
          "JouleCoin",
          "ByteCoin",
          "DigitalNote ",
          "MonaCoin",
          "Gulden",
          "PesetaCoin",
          "Wild Beast Coin",
          "Flo",
          "ArtByte",
          "Folding Coin",
          "Unitus",
          "CypherPunkCoin",
          "OmniCron",
          "GreenCoin",
          "Cryptonite",
          "MasterCoin",
          "SoonCoin",
          "1Credit",
          "MarsCoin ",
          "Crypto",
          "Anarchists Prime",
          "BowsCoin",
          "Song Coin",
          "BitZeny",
          "Expanse",
          "Siacoin",
          "MindCoin",
          "I0coin",
          "Revolution VR",
          "HOdlcoin",
          "Gamecredits",
          "CarpeDiemCoin",
          "Adzcoin",
          "SoilCoin",
          "YoCoin",
          "SibCoin",
          "Francs",
          "BolivarCoin",
          "Omni",
          "PizzaCoin",
          "Komodo",
          "Karbo",
          "ZayedCoin",
          "Circuits of Value",
          "DopeCoin",
          "DollarCoin",
          "Shilling",
          "ZCoin",
          "Elementrem",
          "ZClassic",
          "KiloCoin",
          "ArtexCoin",
          "Kurrent",
          "Cannabis Industry Coin",
          "OsmiumCoin",
          "Bikercoins",
          "HexxCoin",
          "PacCoin",
          "Citadel",
          "BeaverCoin",
          "VaultCoin",
          "Zero",
          "Canada eCoin",
          "Zoin",
          "DubaiCoin",
          "EB3coin",
          "Coinonat",
          "BenjiRolls",
          "ILCoin",
          "EquiTrader",
          "Quantum Resistant Ledger",
          "Dynamic",
          "Nano",
          "ChanCoin",
          "Dinastycoin",
          "DigitalPrice",
          "Unify",
          "SocialCoin",
          "ArcticCoin",
          "DAS",
          "LeviarCoin",
          "Bitcore",
          "gCn Coin",
          "SmartCash",
          "Onix",
          "Bitcoin Cash",
          "Sojourn Coin",
          "NewYorkCoin",
          "FrazCoin",
          "Kronecoin",
          "AdCoin",
          "Linx",
          "Sumokoin",
          "BitcoinZ",
          "Elements",
          "VIVO Coin",
          "Bitcoin Gold",
          "Pirl",
          "eBoost",
          "Pura",
          "Innova",
          "Ellaism",
          "GoByte",
          "SHIELD",
          "UltraNote",
          "BitCoal",
          "DaxxCoin",
          "AC3",
          "Lethean",
          "PopularCoin",
          "Photon",
          "Sucre",
          "SparksPay",
          "GunCoin",
          "IrishCoin",
          "Pioneer Coin",
          "UnitedBitcoin",
          "Interzone",
          "TurtleCoin",
          "MUNcoin",
          "Niobio Cash",
          "ShareChain",
          "Travelflex",
          "KREDS",
          "BitFlip",
          "LottoCoin",
          "Crypto Improvement Fund",
          "Callisto Network",
          "BitTube",
          "Poseidon",
          "Aidos Kuneen",
          "Bitrolium",
          "Alpenschillling",
          "FuturoCoin",
          "Monero Classic",
          "Jumpcoin",
          "Infinex",
          "KEYCO",
          "GINcoin",
          "PlatinCoin",
          "Loki",
          "Newton Coin",
          "MassGrid",
          "PluraCoin",
          "Motion",
          "PlusOneCoin",
          "Axe",
          "HexCoin",
          "Webchain",
          "Ryo",
          "Urals Coin",
          "Qwertycoin",
          "Project Pai",
          "Azart",
          "Xchange",
          "CrypticCoin",
          "Actinium",
          "Bitcoin SV",
          "FREDEnergy",
          "Universal Molecule",
          "Lithium",
          "Exosis",
          "Block-Logic",
          "Beam",
          "Bithereum",
          "SLICE",
          "BLAST",
          "Bitcoin Rhodium",
          "GlobalToken",
          "SolarCoin",
          "UFO Coin",
          "BlakeCoin",
          "Crypto Escudo",
          "Crown Coin",
          "SmileyCoin",
          "Groestlcoin",
          "Bata",
          "Pakcoin",
          "JoinCoin",
          "Vollar",
          "Reality Clash",
          "Beldex",
          "Horizen"
         ],
         "legendgroup": "1",
         "marker": {
          "color": [
           1,
           1,
           1,
           1,
           1,
           1,
           1,
           1,
           1,
           1,
           1,
           1,
           1,
           1,
           1,
           1,
           1,
           1,
           1,
           1,
           1,
           1,
           1,
           1,
           1,
           1,
           1,
           1,
           1,
           1,
           1,
           1,
           1,
           1,
           1,
           1,
           1,
           1,
           1,
           1,
           1,
           1,
           1,
           1,
           1,
           1,
           1,
           1,
           1,
           1,
           1,
           1,
           1,
           1,
           1,
           1,
           1,
           1,
           1,
           1,
           1,
           1,
           1,
           1,
           1,
           1,
           1,
           1,
           1,
           1,
           1,
           1,
           1,
           1,
           1,
           1,
           1,
           1,
           1,
           1,
           1,
           1,
           1,
           1,
           1,
           1,
           1,
           1,
           1,
           1,
           1,
           1,
           1,
           1,
           1,
           1,
           1,
           1,
           1,
           1,
           1,
           1,
           1,
           1,
           1,
           1,
           1,
           1,
           1,
           1,
           1,
           1,
           1,
           1,
           1,
           1,
           1,
           1,
           1,
           1,
           1,
           1,
           1,
           1,
           1,
           1,
           1,
           1,
           1,
           1,
           1,
           1,
           1,
           1,
           1,
           1,
           1,
           1,
           1,
           1,
           1,
           1,
           1,
           1,
           1,
           1,
           1,
           1,
           1,
           1,
           1,
           1,
           1,
           1,
           1,
           1,
           1,
           1,
           1,
           1,
           1,
           1,
           1,
           1,
           1,
           1,
           1,
           1,
           1,
           1,
           1,
           1,
           1,
           1,
           1,
           1,
           1,
           1,
           1,
           1,
           1,
           1,
           1,
           1,
           1,
           1,
           1,
           1,
           1,
           1,
           1,
           1,
           1,
           1,
           1,
           1,
           1,
           1,
           1,
           1,
           1,
           1,
           1,
           1,
           1,
           1,
           1,
           1,
           1,
           1,
           1,
           1,
           1,
           1,
           1,
           1,
           1,
           1,
           1,
           1,
           1,
           1,
           1,
           1,
           1,
           1,
           1,
           1,
           1,
           1,
           1,
           1,
           1,
           1,
           1,
           1,
           1,
           1
          ],
          "coloraxis": "coloraxis",
          "symbol": "diamond"
         },
         "mode": "markers",
         "name": "1",
         "scene": "scene",
         "showlegend": true,
         "type": "scatter3d",
         "x": [
          -0.14612518642772407,
          -0.1381393342015883,
          -0.17783774771137753,
          -0.15277642639622632,
          -0.13658093962878884,
          -0.13960281909010386,
          0.18309515120930564,
          -0.17898432453875388,
          -0.23542127766745355,
          -0.17860075843288165,
          -0.07038337743280945,
          2.5436100468752376,
          -0.14320926155430888,
          -0.1758553625831123,
          -0.17840473842849294,
          -0.2087870337790759,
          -0.17040215970678116,
          -0.17845350812366279,
          -0.1789665850520128,
          -0.17905306474091756,
          -0.2355106471130273,
          0.20685316710211027,
          0.2318319684034334,
          0.06975011878068638,
          -0.17879928343149715,
          -0.17440332240403159,
          -0.17873856183969292,
          -0.17911008480070284,
          -0.1736661899504377,
          -0.15832641821263405,
          -0.17790483521052064,
          -0.17818236971255122,
          1.5703130178459888,
          -0.14608654386696376,
          -0.17547098140848674,
          -0.17882573292143508,
          -0.17918065085788537,
          -0.17843968383294923,
          -0.2543237374279753,
          -0.1790618831634978,
          -0.043929881214923805,
          -0.14616417849989935,
          -0.17272393510317202,
          -0.1790413216551214,
          -0.17713513779806336,
          -0.17852791488053907,
          -0.13331254398588335,
          -0.14562778833285261,
          -0.14591508083105395,
          -0.14589807245516892,
          -0.14648893703035407,
          -0.2356845898036184,
          -0.178757723695627,
          -0.23024004074530727,
          -0.17586008286994761,
          -0.14569510336725083,
          3.8507658817686097,
          0.44873377233017986,
          -0.17762499228524198,
          -0.1622196079460641,
          -0.1763434316306275,
          -0.17918286125840957,
          -0.17620842709645498,
          -0.16242805345049188,
          -0.149769187010749,
          -0.10439988931846395,
          -0.14891393106434797,
          -0.17905589971595004,
          -0.05195758919367242,
          -0.1045526405691365,
          -0.1791917559287719,
          -0.1461919646627827,
          0.47313815709519697,
          -0.23507159588734447,
          -0.16773778864749436,
          -0.14593175647190684,
          -0.2353565794773991,
          -0.17731502192998,
          -0.17650702521475056,
          -0.13920712999698223,
          0.3709095806794754,
          -0.23539198564200403,
          -0.14608766656752367,
          -0.17514842707441222,
          -0.09846979469322495,
          -0.17775468841480516,
          0.27251937103098445,
          -0.23455246843101427,
          -0.1392732983383037,
          -0.17800221891049625,
          -0.1794349072949154,
          -0.17898160847660682,
          -0.23535522059533168,
          -0.17919181444083554,
          -0.23550523842209295,
          -0.1983694966171367,
          0.2935934267161916,
          -0.14634782892059692,
          -0.08446654596639684,
          -0.17635770840168066,
          -0.1463064459919257,
          -0.1788551193709483,
          -0.11795151732612558,
          -0.13894920959831564,
          -0.13962444290106416,
          -0.10589829964054089,
          -0.22208452598412207,
          -0.23333277932986599,
          0.2935877850698766,
          -0.17917354731016907,
          0.2937185405019114,
          -0.16827838297180364,
          0.47992879690774026,
          -0.15154080860254898,
          -0.17914182475807153,
          -0.22823736365720937,
          -0.13963682018612897,
          -0.17727454099438245,
          -0.1679966788600986,
          -0.17736213663996375,
          -0.15005780537519742,
          -0.15611813492616441,
          -0.1787040764785945,
          -0.11266330724421948,
          -0.1785260985711201,
          -0.15139847182761348,
          -0.17032498423595585,
          -0.02951876428495551,
          -0.20168623328015056,
          0.3297203928171763,
          -0.23456087024756167,
          -0.17884544116416518,
          -0.17860876754171673,
          -0.23495565954871817,
          -0.23553327761927007,
          0.29398288449088794,
          -0.15643835584771787,
          3.231502709121153,
          -0.1303427449028772,
          -0.22640293343292134,
          -0.1461243503835482,
          -0.10474585030629355,
          1.5683737158152051,
          -0.17894331956571274,
          -0.17839481390006276,
          -0.17809570127346414,
          -0.17808262811055026,
          0.29416653931965137,
          0.0727484221781354,
          -0.1899065785531304,
          -0.1783562837253447,
          -0.13948282471788723,
          -0.13803205115865733,
          -0.1772727495889206,
          -0.2310764303197928,
          -0.1782016537333545,
          -0.13731399141199055,
          -0.17830188546837827,
          -0.09462888551349043,
          1.131761802022978,
          0.29357055240565577,
          -0.06218322558523589,
          -0.23081799574164558,
          -0.14050745552133773,
          -0.09530687913680837,
          1.1482993988777943,
          -0.23550726841292807,
          -0.17835383944940586,
          -0.17138970400680742,
          -0.17819410202943206,
          -0.2354326536705814,
          -0.146103741034866,
          -0.2494391467642327,
          8.033469910448845,
          -0.16176680949967764,
          0.2974460784648475,
          0.013905402317520339,
          -0.13753509082220342,
          -0.2157939372976516,
          -0.1787679977110847,
          0.12839776967671987,
          -0.22957190278208614,
          -0.09034008057904495,
          0.3014958087646114,
          -0.17900507572113378,
          -0.14654886148429241,
          -0.13847361765417873,
          -0.11573443771370784,
          -0.23460165550490392,
          0.2937531262763129,
          -0.15617760495810404,
          -0.16812357893802696,
          -0.12599473500588282,
          -0.11803591626801403,
          0.297682358361517,
          0.5815411327647927,
          2.1027379332493603,
          -0.14664413512485883,
          0.30736197991834596,
          -0.17422546851953638,
          -0.09168628163837142,
          -0.2354894234677992,
          -0.1790296657125541,
          -0.14038757825871534,
          -0.18260159014490665,
          -0.1290481560997815,
          3.1048217007019745,
          -0.10594024949252276,
          -0.23546078158342065,
          -0.1736530405290408,
          -0.03419879670597269,
          -0.11743350696289372,
          -0.1461243879608206,
          0.37353534728661913,
          -0.1394248717679783,
          -0.13981698926094938,
          -0.13690178626418914,
          -0.1779216512035027,
          -0.13754240963935024,
          -0.13931559467700413,
          -0.148124693955284,
          -0.1454003187717373,
          -0.09823165590492569,
          -0.1442679405253062,
          0.5170691294576957,
          -0.10349738556697258,
          -0.09026947728261374,
          -0.16257868698851685,
          -0.1459144510838026,
          0.5368531060811753,
          -0.16996302952091089,
          -0.1791065218069631,
          -0.17706165678665148,
          -0.10513500722780503,
          -0.14993464756099154,
          -0.1389823779232013,
          0.3153339980394293,
          -0.13960387637096644
         ],
         "y": [
          -1.345150723580365,
          -2.0316829915293013,
          -1.107319386771658,
          -2.2874468770789336,
          -2.0317917370387577,
          -2.018887060815542,
          -1.854569174723269,
          -1.1073028038146329,
          -0.879099247136642,
          -1.1073235479323629,
          -1.8473873158790293,
          -1.3091381476974158,
          -1.3451849787797787,
          -1.1073876189546819,
          -1.1073438703293021,
          -0.46262909537070507,
          -1.3064833736470438,
          -1.1073090945284194,
          -1.1073023847730779,
          -1.107298979570851,
          -0.8790999719533862,
          -1.8509269891178013,
          -1.3507638620211209,
          -1.1107699420072772,
          -1.1072984327798714,
          -1.107387831688394,
          -1.1073046228754666,
          -1.1072990066426183,
          -1.637025859261439,
          -1.107784938550698,
          -1.1073112676534085,
          -1.107319380131962,
          -1.1287642221965293,
          -1.3451498107671123,
          -1.1073892277753368,
          -1.1072983644361916,
          -1.1072938213720207,
          -1.1073044941156698,
          -2.1364367080957756,
          -1.1072970114428584,
          -1.1144949860638873,
          -1.3451516446497789,
          -1.1073739510201235,
          -1.1073041501985823,
          -1.1074178497614136,
          -1.1073129551267193,
          -1.345449009769055,
          -1.3451570038033456,
          -1.3451603162584136,
          -1.3451862535272396,
          -1.3451449335826102,
          -0.8790916044343069,
          -1.107298837322469,
          -1.2677910950584315,
          -1.1073984191168649,
          -1.3451571993561258,
          -2.2937980007245233,
          -2.2532316110492157,
          -1.107329000031435,
          -1.1080566952881377,
          -1.1073411925130843,
          -1.1072947594095337,
          -1.1073335770955528,
          -1.10759028898942,
          -2.2965297369627713,
          -1.8468045875006267,
          -1.652749612684661,
          -1.107292275559416,
          -1.111218953137822,
          -2.2146387475694804,
          -1.107293577346991,
          -1.3451523010135762,
          -1.155652035240886,
          -0.8790999976897362,
          -2.1915857271273254,
          -1.345168861409616,
          -0.8790984119708247,
          -1.1073945400247367,
          -1.1074030125072694,
          -2.03171993334086,
          -2.1790203308338474,
          -0.8790957826708726,
          -1.3451498372875066,
          -1.1073431944426935,
          -1.1469506028927963,
          -1.1073174247477726,
          -1.3502368406821696,
          -0.8791230846429176,
          -2.2306910622955978,
          -1.107381738543527,
          -2.2495737162923217,
          -1.10730204652327,
          -0.8791011524018961,
          -1.1072935766289687,
          -0.8791046961179128,
          -1.3518541239433224,
          -2.24997193601551,
          -1.3451481753877956,
          -1.8471654819011039,
          -1.1073648287188573,
          -1.3451478232538474,
          -1.107305989928249,
          -2.204487524793197,
          -2.03172028629274,
          -2.018887571612472,
          -1.1124931387709085,
          -0.8791169105051032,
          -0.8791940842876748,
          -2.249979693741265,
          -1.1072945992034067,
          -2.2499793775714205,
          -2.1915598277815787,
          -0.931500672713833,
          -2.2875459188946636,
          -1.107294297419803,
          -0.8796088189451516,
          -2.018885091457742,
          -1.1073171728438382,
          -2.1915607978362757,
          -2.1352357738960905,
          -1.1093774773118867,
          -0.7183741748642714,
          -1.107306248367562,
          -1.3460785640055084,
          -1.1073273293807149,
          -2.2874871060094444,
          -2.15479148764599,
          -2.1887150964338318,
          -2.179410843508756,
          -2.2504978799896573,
          -0.8791343732324925,
          -1.1072983287101117,
          -1.107331361582238,
          -0.8791159736266037,
          -0.8791011303498084,
          -2.2499932340930737,
          -2.2873818674906845,
          -1.1653523658362792,
          -1.156867928707048,
          -0.879634799360032,
          -1.3451507038313648,
          -1.1128124819689866,
          -1.0660122156516776,
          -1.1073011420639158,
          -1.1073325457702792,
          -1.1073365702641056,
          -1.1073362614502948,
          -2.250013078431784,
          -2.0284121365309016,
          -0.879257876546667,
          -1.6369224705135392,
          -2.0188842263125513,
          -2.2307492889151876,
          -1.1073171305273188,
          -0.8792253470692599,
          -1.6369312942365302,
          -2.031857572447527,
          -1.636924512556403,
          -1.847031244718741,
          -2.2890820936686636,
          -2.2499742091832835,
          -2.0368200852506293,
          -0.8793578688632874,
          -2.2878498331211223,
          -1.1087772854224986,
          -1.396959536180556,
          -0.8791011397805888,
          -1.6369182539791298,
          -1.6370857579397051,
          -1.1073139419085904,
          -0.8791015952581052,
          -1.3451496389254123,
          -1.208830197214027,
          -2.7602665391889287,
          -2.237381528421133,
          -2.25010689004534,
          -1.10966313978571,
          -2.230698521700998,
          -1.2681540724491414,
          -1.1073108632696975,
          -1.1127857570496864,
          -0.8792937770659333,
          -2.0350592413043076,
          -2.2504714675227273,
          -1.107303293998359,
          -2.3266691787406595,
          -2.0188943503565975,
          -2.2046282597657,
          -0.8791353366604587,
          -2.2499739859120442,
          -0.7183566904127981,
          -2.1915674552059223,
          -2.2023081817544026,
          -2.2044819633164257,
          -2.2502842960241427,
          -2.313652468691812,
          -2.3347658592220704,
          -2.315216396385316,
          -2.2503328970266514,
          -1.3642164217291515,
          -2.2894495295420945,
          -0.8791015500070614,
          -1.107304640956157,
          -2.2883672102384307,
          -2.235393722278648,
          -0.6878108756952137,
          -2.381805827841042,
          -1.3456424991095335,
          -0.8791036459599774,
          -1.364256911729909,
          -2.021650462808658,
          -2.2045186784728723,
          -1.3451507047190137,
          -2.2536771310377297,
          -2.2553325512978932,
          -2.2552864386851015,
          -2.3330604840116247,
          -1.1073463215119415,
          -2.019005989364349,
          -2.0188871283194185,
          -1.6528002826158674,
          -1.345163405484459,
          -0.4207308367079485,
          -1.3452087422778916,
          -1.1588424083709106,
          -1.6379079721159049,
          -2.258950470573078,
          -1.1075938472497475,
          -1.3451603013825446,
          -1.1250353922339729,
          -1.3064875563140046,
          -1.107294600232209,
          -1.107368980976318,
          -1.84682389320233,
          -2.183786064578832,
          -2.0317198792726385,
          -2.2504219896369135,
          -2.0188870857905954
         ],
         "z": [
          -0.10681536085304252,
          -0.11667269199321172,
          0.021362535793705634,
          -0.16920755050088684,
          -0.11666255649988759,
          -0.16193334282885338,
          -0.05209004307457866,
          0.021354130619459937,
          -0.021109377974803493,
          0.021356715262495423,
          -0.053895657312732374,
          0.038884201149423384,
          -0.10679386682227776,
          0.021376476660008165,
          0.021357890825889552,
          -0.04077843443218645,
          -0.15290604116522938,
          0.02135804258318945,
          0.021354270760476187,
          0.02135366901038455,
          -0.021110063267389644,
          -0.05185630278320159,
          -0.10404687576599594,
          0.023179468130407745,
          0.021355592434518088,
          0.021387431817810047,
          0.0213559581644654,
          0.0213532382835646,
          -0.04288555777113569,
          0.021502826094427628,
          0.021362150855449444,
          0.0213599350804428,
          0.03423502825378105,
          -0.10681505557884174,
          0.02137935348123068,
          0.021355393845609548,
          0.021352783239124425,
          0.021358215678297533,
          -0.03860995167781899,
          0.021353631877834026,
          0.02226586106726513,
          -0.10681566888837676,
          0.02140031339422122,
          0.02135368034522508,
          0.021366366502821643,
          0.021357423339412106,
          -0.10672312435572533,
          -0.10681170093574546,
          -0.10681391860405585,
          -0.10681417794450798,
          -0.10681801947971178,
          -0.021111250913348964,
          0.021355900032901182,
          -0.009513186309114048,
          0.021376279600059146,
          -0.1068122118756416,
          -0.08888543089093016,
          -0.1139537055950332,
          0.021363997732925216,
          0.021469382639349017,
          0.021373487237746548,
          0.02135275253613062,
          0.021374619929781197,
          0.0214747811912268,
          -0.2659437477653675,
          -0.05414366462119567,
          -0.07530659112830329,
          0.02135374782419365,
          0.022254245980229057,
          -0.0448437543539588,
          0.021352703078348675,
          -0.10681588839760858,
          0.02555289935618554,
          -0.021106750195853237,
          -0.16141640590352088,
          -0.10681417218230836,
          -0.021108877223166785,
          0.021365357368121122,
          0.021371328559340295,
          -0.11668130268580844,
          -0.15229490631076467,
          -0.021109105126627628,
          -0.10681506444811728,
          0.021382475840595324,
          -0.06323446124791833,
          0.021363191957793622,
          -0.10373193610058672,
          -0.021103177510664484,
          -0.11103451124727513,
          0.021360362543254123,
          -0.2685220123104298,
          0.021354162436885638,
          -0.021108907930778225,
          0.02135270264749913,
          -0.021110093063754366,
          -0.3281453807083728,
          -0.11507580303739208,
          -0.10681700301441671,
          -0.053998625065020185,
          0.021373026188201513,
          -0.10681668543986543,
          0.02135505808742613,
          -0.12811362777533225,
          -0.11667936147357218,
          -0.16193351365582667,
          0.021828117192144607,
          -0.02100899145986689,
          -0.021095033968137434,
          -0.11507596157355073,
          0.02135282522185275,
          -0.11507497005519272,
          -0.161420098557513,
          -0.01649401034228294,
          -0.16919970591028755,
          0.021353069138318713,
          -0.021062778893873767,
          -0.16193356999302183,
          0.021366819326439444,
          -0.1614179870772403,
          -0.12697865450039517,
          0.02154142347190099,
          -0.022230707878452233,
          0.021356194123284808,
          -0.10657669787823558,
          0.021357222186077024,
          -0.16919775260304823,
          0.03007536027504388,
          -0.1554617948244746,
          -0.11642471832599471,
          -0.11481101964436438,
          -0.021103409655409373,
          0.02135524564436588,
          0.021356538023506698,
          -0.021106114043131445,
          -0.021110251371813434,
          -0.11507318221115852,
          -0.08944013324482282,
          0.046224881753574004,
          0.0692506014309527,
          -0.02104932305886969,
          -0.10681535424834293,
          0.021832041142975624,
          0.03515838521723851,
          0.021354464917276918,
          0.021358134999978313,
          0.021360332203232482,
          0.021360435480534987,
          -0.1150720928201319,
          -0.16047313578748262,
          -0.020768256240333845,
          -0.042919407817141354,
          -0.16193239487959507,
          -0.1110260140828271,
          0.021366833478448748,
          -0.02107847293171478,
          -0.04291837274048968,
          -0.11666907281799128,
          -0.04291902780500991,
          -0.05407331224967145,
          -0.10933487070993413,
          -0.11507600964494051,
          -0.11617624948366152,
          -0.021078503447505635,
          -0.1691209815786903,
          0.021963592245194768,
          0.04804752070544565,
          -0.02111005522505478,
          -0.04291932634342651,
          -0.04286927280243146,
          0.021359927826789336,
          -0.021109498926663854,
          -0.10681518279476297,
          -0.1251953557160315,
          -0.06429175761462737,
          -0.05654058946702837,
          -0.11504874487105483,
          0.022774560164446695,
          -0.11102150474631314,
          -0.009409589296268877,
          0.021355642737205856,
          0.02359194186777128,
          -0.02106814134451652,
          -0.11636242479380801,
          -0.11502363170335311,
          0.021353966686205653,
          -0.0074874250923258855,
          -0.16192492986981566,
          -0.12809899944713313,
          -0.02110373185680681,
          -0.11507462844891714,
          -0.022230895339417522,
          -0.1614190442855863,
          -0.05062199671808683,
          -0.1281141815911732,
          -0.11504961349637229,
          -0.08307194629948658,
          -0.10268991715138495,
          -0.24315123211083137,
          -0.11497728925840314,
          -0.06014015646266154,
          -0.14483754694934395,
          -0.02110992668373512,
          0.021353760975288,
          -0.1691278104342852,
          -0.16802020942383517,
          -0.08470632504313585,
          -0.06504784194546415,
          -0.1065194418031784,
          -0.021109741857056826,
          -0.060136441660022896,
          -0.16117918014315416,
          -0.12811018409897493,
          -0.10681535454520152,
          -0.11452787671524503,
          -0.2188406375221027,
          -0.2188429075028218,
          0.12419578611205456,
          0.021361499976128715,
          -0.16191957091380849,
          -0.16193117619668246,
          -0.07530139226418076,
          -0.10681007994563829,
          0.01858771994147791,
          -0.10680221172720648,
          0.0258367516070423,
          -0.042369189411691745,
          -0.2185237481050588,
          0.021473591194163817,
          -0.10681391362908542,
          0.026491392556379396,
          -0.1529027896339744,
          0.021353331038273735,
          0.021367651525008823,
          -0.05414950102408293,
          -0.19434474216912678,
          -0.11667960570615477,
          -0.11491845730992002,
          -0.1619333511813158
         ]
        },
        {
         "customdata": [
          [
           "SHA-256 + Hive",
           "PoW + Hive"
          ],
          [
           "Proof-of-Authority",
           "PoA"
          ],
          [
           "Leased POS",
           "LPoS"
          ]
         ],
         "hovertemplate": "<b>%{hovertext}</b><br><br>Class=%{marker.color}<br>PC 1=%{x}<br>PC 2=%{y}<br>PC 3=%{z}<br>Algorithm=%{customdata[0]}<br>ProofType=%{customdata[1]}<extra></extra>",
         "hovertext": [
          "LitecoinCash",
          "Poa Network",
          "Waves"
         ],
         "legendgroup": "3",
         "marker": {
          "color": [
           3,
           3,
           3
          ],
          "coloraxis": "coloraxis",
          "symbol": "square"
         },
         "mode": "markers",
         "name": "3",
         "scene": "scene",
         "showlegend": true,
         "type": "scatter3d",
         "x": [
          -0.4100781199650455,
          -0.4524083379231887,
          -0.6067891425975167
         ],
         "y": [
          3.004362166337238,
          3.234721235650301,
          5.217517664075953
         ],
         "z": [
          -14.803702717270463,
          -17.61315192966877,
          -7.736149629640205
         ]
        },
        {
         "customdata": [
          [
           "TRC10",
           "DPoS"
          ]
         ],
         "hovertemplate": "<b>%{hovertext}</b><br><br>Class=%{marker.color}<br>PC 1=%{x}<br>PC 2=%{y}<br>PC 3=%{z}<br>Algorithm=%{customdata[0]}<br>ProofType=%{customdata[1]}<extra></extra>",
         "hovertext": [
          "BitTorrent"
         ],
         "legendgroup": "2",
         "marker": {
          "color": [
           2
          ],
          "coloraxis": "coloraxis",
          "symbol": "x"
         },
         "mode": "markers",
         "name": "2",
         "scene": "scene",
         "showlegend": true,
         "type": "scatter3d",
         "x": [
          34.063260630186484
         ],
         "y": [
          1.540465824829344
         ],
         "z": [
          0.294667085328406
         ]
        }
       ],
       "layout": {
        "coloraxis": {
         "colorbar": {
          "title": {
           "text": "Class"
          }
         },
         "colorscale": [
          [
           0,
           "#0d0887"
          ],
          [
           0.1111111111111111,
           "#46039f"
          ],
          [
           0.2222222222222222,
           "#7201a8"
          ],
          [
           0.3333333333333333,
           "#9c179e"
          ],
          [
           0.4444444444444444,
           "#bd3786"
          ],
          [
           0.5555555555555556,
           "#d8576b"
          ],
          [
           0.6666666666666666,
           "#ed7953"
          ],
          [
           0.7777777777777778,
           "#fb9f3a"
          ],
          [
           0.8888888888888888,
           "#fdca26"
          ],
          [
           1,
           "#f0f921"
          ]
         ]
        },
        "legend": {
         "title": {
          "text": "Class"
         },
         "tracegroupgap": 0,
         "x": 0,
         "y": 1
        },
        "margin": {
         "t": 60
        },
        "scene": {
         "domain": {
          "x": [
           0,
           1
          ],
          "y": [
           0,
           1
          ]
         },
         "xaxis": {
          "title": {
           "text": "PC 1"
          }
         },
         "yaxis": {
          "title": {
           "text": "PC 2"
          }
         },
         "zaxis": {
          "title": {
           "text": "PC 3"
          }
         }
        },
        "template": {
         "data": {
          "bar": [
           {
            "error_x": {
             "color": "#2a3f5f"
            },
            "error_y": {
             "color": "#2a3f5f"
            },
            "marker": {
             "line": {
              "color": "#E5ECF6",
              "width": 0.5
             },
             "pattern": {
              "fillmode": "overlay",
              "size": 10,
              "solidity": 0.2
             }
            },
            "type": "bar"
           }
          ],
          "barpolar": [
           {
            "marker": {
             "line": {
              "color": "#E5ECF6",
              "width": 0.5
             },
             "pattern": {
              "fillmode": "overlay",
              "size": 10,
              "solidity": 0.2
             }
            },
            "type": "barpolar"
           }
          ],
          "carpet": [
           {
            "aaxis": {
             "endlinecolor": "#2a3f5f",
             "gridcolor": "white",
             "linecolor": "white",
             "minorgridcolor": "white",
             "startlinecolor": "#2a3f5f"
            },
            "baxis": {
             "endlinecolor": "#2a3f5f",
             "gridcolor": "white",
             "linecolor": "white",
             "minorgridcolor": "white",
             "startlinecolor": "#2a3f5f"
            },
            "type": "carpet"
           }
          ],
          "choropleth": [
           {
            "colorbar": {
             "outlinewidth": 0,
             "ticks": ""
            },
            "type": "choropleth"
           }
          ],
          "contour": [
           {
            "colorbar": {
             "outlinewidth": 0,
             "ticks": ""
            },
            "colorscale": [
             [
              0,
              "#0d0887"
             ],
             [
              0.1111111111111111,
              "#46039f"
             ],
             [
              0.2222222222222222,
              "#7201a8"
             ],
             [
              0.3333333333333333,
              "#9c179e"
             ],
             [
              0.4444444444444444,
              "#bd3786"
             ],
             [
              0.5555555555555556,
              "#d8576b"
             ],
             [
              0.6666666666666666,
              "#ed7953"
             ],
             [
              0.7777777777777778,
              "#fb9f3a"
             ],
             [
              0.8888888888888888,
              "#fdca26"
             ],
             [
              1,
              "#f0f921"
             ]
            ],
            "type": "contour"
           }
          ],
          "contourcarpet": [
           {
            "colorbar": {
             "outlinewidth": 0,
             "ticks": ""
            },
            "type": "contourcarpet"
           }
          ],
          "heatmap": [
           {
            "colorbar": {
             "outlinewidth": 0,
             "ticks": ""
            },
            "colorscale": [
             [
              0,
              "#0d0887"
             ],
             [
              0.1111111111111111,
              "#46039f"
             ],
             [
              0.2222222222222222,
              "#7201a8"
             ],
             [
              0.3333333333333333,
              "#9c179e"
             ],
             [
              0.4444444444444444,
              "#bd3786"
             ],
             [
              0.5555555555555556,
              "#d8576b"
             ],
             [
              0.6666666666666666,
              "#ed7953"
             ],
             [
              0.7777777777777778,
              "#fb9f3a"
             ],
             [
              0.8888888888888888,
              "#fdca26"
             ],
             [
              1,
              "#f0f921"
             ]
            ],
            "type": "heatmap"
           }
          ],
          "heatmapgl": [
           {
            "colorbar": {
             "outlinewidth": 0,
             "ticks": ""
            },
            "colorscale": [
             [
              0,
              "#0d0887"
             ],
             [
              0.1111111111111111,
              "#46039f"
             ],
             [
              0.2222222222222222,
              "#7201a8"
             ],
             [
              0.3333333333333333,
              "#9c179e"
             ],
             [
              0.4444444444444444,
              "#bd3786"
             ],
             [
              0.5555555555555556,
              "#d8576b"
             ],
             [
              0.6666666666666666,
              "#ed7953"
             ],
             [
              0.7777777777777778,
              "#fb9f3a"
             ],
             [
              0.8888888888888888,
              "#fdca26"
             ],
             [
              1,
              "#f0f921"
             ]
            ],
            "type": "heatmapgl"
           }
          ],
          "histogram": [
           {
            "marker": {
             "pattern": {
              "fillmode": "overlay",
              "size": 10,
              "solidity": 0.2
             }
            },
            "type": "histogram"
           }
          ],
          "histogram2d": [
           {
            "colorbar": {
             "outlinewidth": 0,
             "ticks": ""
            },
            "colorscale": [
             [
              0,
              "#0d0887"
             ],
             [
              0.1111111111111111,
              "#46039f"
             ],
             [
              0.2222222222222222,
              "#7201a8"
             ],
             [
              0.3333333333333333,
              "#9c179e"
             ],
             [
              0.4444444444444444,
              "#bd3786"
             ],
             [
              0.5555555555555556,
              "#d8576b"
             ],
             [
              0.6666666666666666,
              "#ed7953"
             ],
             [
              0.7777777777777778,
              "#fb9f3a"
             ],
             [
              0.8888888888888888,
              "#fdca26"
             ],
             [
              1,
              "#f0f921"
             ]
            ],
            "type": "histogram2d"
           }
          ],
          "histogram2dcontour": [
           {
            "colorbar": {
             "outlinewidth": 0,
             "ticks": ""
            },
            "colorscale": [
             [
              0,
              "#0d0887"
             ],
             [
              0.1111111111111111,
              "#46039f"
             ],
             [
              0.2222222222222222,
              "#7201a8"
             ],
             [
              0.3333333333333333,
              "#9c179e"
             ],
             [
              0.4444444444444444,
              "#bd3786"
             ],
             [
              0.5555555555555556,
              "#d8576b"
             ],
             [
              0.6666666666666666,
              "#ed7953"
             ],
             [
              0.7777777777777778,
              "#fb9f3a"
             ],
             [
              0.8888888888888888,
              "#fdca26"
             ],
             [
              1,
              "#f0f921"
             ]
            ],
            "type": "histogram2dcontour"
           }
          ],
          "mesh3d": [
           {
            "colorbar": {
             "outlinewidth": 0,
             "ticks": ""
            },
            "type": "mesh3d"
           }
          ],
          "parcoords": [
           {
            "line": {
             "colorbar": {
              "outlinewidth": 0,
              "ticks": ""
             }
            },
            "type": "parcoords"
           }
          ],
          "pie": [
           {
            "automargin": true,
            "type": "pie"
           }
          ],
          "scatter": [
           {
            "fillpattern": {
             "fillmode": "overlay",
             "size": 10,
             "solidity": 0.2
            },
            "type": "scatter"
           }
          ],
          "scatter3d": [
           {
            "line": {
             "colorbar": {
              "outlinewidth": 0,
              "ticks": ""
             }
            },
            "marker": {
             "colorbar": {
              "outlinewidth": 0,
              "ticks": ""
             }
            },
            "type": "scatter3d"
           }
          ],
          "scattercarpet": [
           {
            "marker": {
             "colorbar": {
              "outlinewidth": 0,
              "ticks": ""
             }
            },
            "type": "scattercarpet"
           }
          ],
          "scattergeo": [
           {
            "marker": {
             "colorbar": {
              "outlinewidth": 0,
              "ticks": ""
             }
            },
            "type": "scattergeo"
           }
          ],
          "scattergl": [
           {
            "marker": {
             "colorbar": {
              "outlinewidth": 0,
              "ticks": ""
             }
            },
            "type": "scattergl"
           }
          ],
          "scattermapbox": [
           {
            "marker": {
             "colorbar": {
              "outlinewidth": 0,
              "ticks": ""
             }
            },
            "type": "scattermapbox"
           }
          ],
          "scatterpolar": [
           {
            "marker": {
             "colorbar": {
              "outlinewidth": 0,
              "ticks": ""
             }
            },
            "type": "scatterpolar"
           }
          ],
          "scatterpolargl": [
           {
            "marker": {
             "colorbar": {
              "outlinewidth": 0,
              "ticks": ""
             }
            },
            "type": "scatterpolargl"
           }
          ],
          "scatterternary": [
           {
            "marker": {
             "colorbar": {
              "outlinewidth": 0,
              "ticks": ""
             }
            },
            "type": "scatterternary"
           }
          ],
          "surface": [
           {
            "colorbar": {
             "outlinewidth": 0,
             "ticks": ""
            },
            "colorscale": [
             [
              0,
              "#0d0887"
             ],
             [
              0.1111111111111111,
              "#46039f"
             ],
             [
              0.2222222222222222,
              "#7201a8"
             ],
             [
              0.3333333333333333,
              "#9c179e"
             ],
             [
              0.4444444444444444,
              "#bd3786"
             ],
             [
              0.5555555555555556,
              "#d8576b"
             ],
             [
              0.6666666666666666,
              "#ed7953"
             ],
             [
              0.7777777777777778,
              "#fb9f3a"
             ],
             [
              0.8888888888888888,
              "#fdca26"
             ],
             [
              1,
              "#f0f921"
             ]
            ],
            "type": "surface"
           }
          ],
          "table": [
           {
            "cells": {
             "fill": {
              "color": "#EBF0F8"
             },
             "line": {
              "color": "white"
             }
            },
            "header": {
             "fill": {
              "color": "#C8D4E3"
             },
             "line": {
              "color": "white"
             }
            },
            "type": "table"
           }
          ]
         },
         "layout": {
          "annotationdefaults": {
           "arrowcolor": "#2a3f5f",
           "arrowhead": 0,
           "arrowwidth": 1
          },
          "autotypenumbers": "strict",
          "coloraxis": {
           "colorbar": {
            "outlinewidth": 0,
            "ticks": ""
           }
          },
          "colorscale": {
           "diverging": [
            [
             0,
             "#8e0152"
            ],
            [
             0.1,
             "#c51b7d"
            ],
            [
             0.2,
             "#de77ae"
            ],
            [
             0.3,
             "#f1b6da"
            ],
            [
             0.4,
             "#fde0ef"
            ],
            [
             0.5,
             "#f7f7f7"
            ],
            [
             0.6,
             "#e6f5d0"
            ],
            [
             0.7,
             "#b8e186"
            ],
            [
             0.8,
             "#7fbc41"
            ],
            [
             0.9,
             "#4d9221"
            ],
            [
             1,
             "#276419"
            ]
           ],
           "sequential": [
            [
             0,
             "#0d0887"
            ],
            [
             0.1111111111111111,
             "#46039f"
            ],
            [
             0.2222222222222222,
             "#7201a8"
            ],
            [
             0.3333333333333333,
             "#9c179e"
            ],
            [
             0.4444444444444444,
             "#bd3786"
            ],
            [
             0.5555555555555556,
             "#d8576b"
            ],
            [
             0.6666666666666666,
             "#ed7953"
            ],
            [
             0.7777777777777778,
             "#fb9f3a"
            ],
            [
             0.8888888888888888,
             "#fdca26"
            ],
            [
             1,
             "#f0f921"
            ]
           ],
           "sequentialminus": [
            [
             0,
             "#0d0887"
            ],
            [
             0.1111111111111111,
             "#46039f"
            ],
            [
             0.2222222222222222,
             "#7201a8"
            ],
            [
             0.3333333333333333,
             "#9c179e"
            ],
            [
             0.4444444444444444,
             "#bd3786"
            ],
            [
             0.5555555555555556,
             "#d8576b"
            ],
            [
             0.6666666666666666,
             "#ed7953"
            ],
            [
             0.7777777777777778,
             "#fb9f3a"
            ],
            [
             0.8888888888888888,
             "#fdca26"
            ],
            [
             1,
             "#f0f921"
            ]
           ]
          },
          "colorway": [
           "#636efa",
           "#EF553B",
           "#00cc96",
           "#ab63fa",
           "#FFA15A",
           "#19d3f3",
           "#FF6692",
           "#B6E880",
           "#FF97FF",
           "#FECB52"
          ],
          "font": {
           "color": "#2a3f5f"
          },
          "geo": {
           "bgcolor": "white",
           "lakecolor": "white",
           "landcolor": "#E5ECF6",
           "showlakes": true,
           "showland": true,
           "subunitcolor": "white"
          },
          "hoverlabel": {
           "align": "left"
          },
          "hovermode": "closest",
          "mapbox": {
           "style": "light"
          },
          "paper_bgcolor": "white",
          "plot_bgcolor": "#E5ECF6",
          "polar": {
           "angularaxis": {
            "gridcolor": "white",
            "linecolor": "white",
            "ticks": ""
           },
           "bgcolor": "#E5ECF6",
           "radialaxis": {
            "gridcolor": "white",
            "linecolor": "white",
            "ticks": ""
           }
          },
          "scene": {
           "xaxis": {
            "backgroundcolor": "#E5ECF6",
            "gridcolor": "white",
            "gridwidth": 2,
            "linecolor": "white",
            "showbackground": true,
            "ticks": "",
            "zerolinecolor": "white"
           },
           "yaxis": {
            "backgroundcolor": "#E5ECF6",
            "gridcolor": "white",
            "gridwidth": 2,
            "linecolor": "white",
            "showbackground": true,
            "ticks": "",
            "zerolinecolor": "white"
           },
           "zaxis": {
            "backgroundcolor": "#E5ECF6",
            "gridcolor": "white",
            "gridwidth": 2,
            "linecolor": "white",
            "showbackground": true,
            "ticks": "",
            "zerolinecolor": "white"
           }
          },
          "shapedefaults": {
           "line": {
            "color": "#2a3f5f"
           }
          },
          "ternary": {
           "aaxis": {
            "gridcolor": "white",
            "linecolor": "white",
            "ticks": ""
           },
           "baxis": {
            "gridcolor": "white",
            "linecolor": "white",
            "ticks": ""
           },
           "bgcolor": "#E5ECF6",
           "caxis": {
            "gridcolor": "white",
            "linecolor": "white",
            "ticks": ""
           }
          },
          "title": {
           "x": 0.05
          },
          "xaxis": {
           "automargin": true,
           "gridcolor": "white",
           "linecolor": "white",
           "ticks": "",
           "title": {
            "standoff": 15
           },
           "zerolinecolor": "white",
           "zerolinewidth": 2
          },
          "yaxis": {
           "automargin": true,
           "gridcolor": "white",
           "linecolor": "white",
           "ticks": "",
           "title": {
            "standoff": 15
           },
           "zerolinecolor": "white",
           "zerolinewidth": 2
          }
         }
        },
        "width": 800
       }
      }
     },
     "metadata": {},
     "output_type": "display_data"
    }
   ],
   "source": [
    "# Creating a 3D-Scatter with the PCA data and the clusters\n",
    "fig = px.scatter_3d(\n",
    "    clustered_df,\n",
    "    x=\"PC 1\",\n",
    "    y=\"PC 2\",\n",
    "    z=\"PC 3\",\n",
    "    color=\"Class\",\n",
    "    symbol=\"Class\",\n",
    "    width=800,\n",
    "    hover_name='CoinName',\n",
    "    hover_data=[\"Algorithm\", \"ProofType\"],\n",
    ")\n",
    "fig.update_layout(legend=dict(x=0, y=1))\n",
    "fig.show()\n"
   ]
  },
  {
   "cell_type": "code",
   "execution_count": null,
   "metadata": {},
   "outputs": [],
   "source": [
    "# Create a table with tradable cryptocurrencies.\n",
    "# YOUR CODE HERE"
   ]
  },
  {
   "cell_type": "code",
   "execution_count": null,
   "metadata": {},
   "outputs": [],
   "source": [
    "# Print the total number of tradable cryptocurrencies.\n",
    "# YOUR CODE HERE"
   ]
  },
  {
   "cell_type": "code",
   "execution_count": null,
   "metadata": {},
   "outputs": [],
   "source": [
    "# Scaling data to create the scatter plot with tradable cryptocurrencies.\n",
    "# YOUR CODE HERE"
   ]
  },
  {
   "cell_type": "code",
   "execution_count": null,
   "metadata": {},
   "outputs": [],
   "source": [
    "# Create a new DataFrame that has the scaled data with the clustered_df DataFrame index.\n",
    "# YOUR CODE HERE\n",
    "\n",
    "# Add the \"CoinName\" column from the clustered_df DataFrame to the new DataFrame.\n",
    "# YOUR CODE HERE\n",
    "\n",
    "# Add the \"Class\" column from the clustered_df DataFrame to the new DataFrame. \n",
    "# YOUR CODE HERE\n",
    "\n",
    "plot_df.head(10)"
   ]
  },
  {
   "cell_type": "code",
   "execution_count": null,
   "metadata": {},
   "outputs": [],
   "source": [
    "# Create a hvplot.scatter plot using x=\"TotalCoinsMined\" and y=\"TotalCoinSupply\".\n",
    "# YOUR CODE HERE\n"
   ]
  },
  {
   "cell_type": "code",
   "execution_count": null,
   "metadata": {},
   "outputs": [],
   "source": []
  }
 ],
 "metadata": {
  "file_extension": ".py",
  "kernelspec": {
   "display_name": "Python 3.10.8 ('module2v2')",
   "language": "python",
   "name": "python3"
  },
  "language_info": {
   "codemirror_mode": {
    "name": "ipython",
    "version": 3
   },
   "file_extension": ".py",
   "mimetype": "text/x-python",
   "name": "python",
   "nbconvert_exporter": "python",
   "pygments_lexer": "ipython3",
   "version": "3.10.8"
  },
  "latex_envs": {
   "LaTeX_envs_menu_present": true,
   "autoclose": false,
   "autocomplete": true,
   "bibliofile": "biblio.bib",
   "cite_by": "apalike",
   "current_citInitial": 1,
   "eqLabelWithNumbers": true,
   "eqNumInitial": 1,
   "hotkeys": {
    "equation": "Ctrl-E",
    "itemize": "Ctrl-I"
   },
   "labels_anchors": false,
   "latex_user_defs": false,
   "report_style_numbering": false,
   "user_envs_cfg": false
  },
  "mimetype": "text/x-python",
  "name": "python",
  "npconvert_exporter": "python",
  "pygments_lexer": "ipython3",
  "version": 3,
  "vscode": {
   "interpreter": {
    "hash": "b2fc4c858e7073163e6c6f03cf16840bfc8f89e0fed2f4447aed1e717d302b83"
   }
  }
 },
 "nbformat": 4,
 "nbformat_minor": 2
}
